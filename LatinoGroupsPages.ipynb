{
 "cells": [
  {
   "cell_type": "code",
   "execution_count": 164,
   "metadata": {},
   "outputs": [],
   "source": [
    "import pandas as pd"
   ]
  },
  {
   "cell_type": "code",
   "execution_count": 165,
   "metadata": {},
   "outputs": [
    {
     "data": {
      "text/html": [
       "<div>\n",
       "<style scoped>\n",
       "    .dataframe tbody tr th:only-of-type {\n",
       "        vertical-align: middle;\n",
       "    }\n",
       "\n",
       "    .dataframe tbody tr th {\n",
       "        vertical-align: top;\n",
       "    }\n",
       "\n",
       "    .dataframe thead th {\n",
       "        text-align: right;\n",
       "    }\n",
       "</style>\n",
       "<table border=\"1\" class=\"dataframe\">\n",
       "  <thead>\n",
       "    <tr style=\"text-align: right;\">\n",
       "      <th></th>\n",
       "      <th>Unnamed: 0</th>\n",
       "      <th>id</th>\n",
       "      <th>name</th>\n",
       "      <th>profileImage</th>\n",
       "      <th>subscriberCount</th>\n",
       "      <th>url</th>\n",
       "      <th>platform</th>\n",
       "      <th>platformId</th>\n",
       "      <th>accountType</th>\n",
       "      <th>verified</th>\n",
       "      <th>handle</th>\n",
       "      <th>pageAdminTopCountry</th>\n",
       "    </tr>\n",
       "  </thead>\n",
       "  <tbody>\n",
       "    <tr>\n",
       "      <th>0</th>\n",
       "      <td>0</td>\n",
       "      <td>7856277</td>\n",
       "      <td>Hispanos unidos en New York (H.U.N.Y)</td>\n",
       "      <td>https://scontent-sea1-1.xx.fbcdn.net/v/t1.0-0/...</td>\n",
       "      <td>6720</td>\n",
       "      <td>https://www.facebook.com/groups/793416207356486</td>\n",
       "      <td>Facebook</td>\n",
       "      <td>793416207356486</td>\n",
       "      <td>facebook_group</td>\n",
       "      <td>False</td>\n",
       "      <td>NaN</td>\n",
       "      <td>NaN</td>\n",
       "    </tr>\n",
       "    <tr>\n",
       "      <th>1</th>\n",
       "      <td>0</td>\n",
       "      <td>9856807</td>\n",
       "      <td>Hispanos en Columbus Ohio</td>\n",
       "      <td>https://scontent-sea1-1.xx.fbcdn.net/v/t1.0-0/...</td>\n",
       "      <td>11982</td>\n",
       "      <td>https://www.facebook.com/groups/1450333408570918</td>\n",
       "      <td>Facebook</td>\n",
       "      <td>1450333408570918</td>\n",
       "      <td>facebook_group</td>\n",
       "      <td>False</td>\n",
       "      <td>NaN</td>\n",
       "      <td>NaN</td>\n",
       "    </tr>\n",
       "    <tr>\n",
       "      <th>2</th>\n",
       "      <td>0</td>\n",
       "      <td>10866356</td>\n",
       "      <td>Cristianos Hispanos en Dallas, Texas ( Metroplex)</td>\n",
       "      <td>https://scontent-sea1-1.xx.fbcdn.net/v/t31.0-0...</td>\n",
       "      <td>1789</td>\n",
       "      <td>https://www.facebook.com/groups/600361880064744</td>\n",
       "      <td>Facebook</td>\n",
       "      <td>600361880064744</td>\n",
       "      <td>facebook_group</td>\n",
       "      <td>False</td>\n",
       "      <td>NaN</td>\n",
       "      <td>NaN</td>\n",
       "    </tr>\n",
       "  </tbody>\n",
       "</table>\n",
       "</div>"
      ],
      "text/plain": [
       "   Unnamed: 0        id                                               name  \\\n",
       "0           0   7856277              Hispanos unidos en New York (H.U.N.Y)   \n",
       "1           0   9856807                          Hispanos en Columbus Ohio   \n",
       "2           0  10866356  Cristianos Hispanos en Dallas, Texas ( Metroplex)   \n",
       "\n",
       "                                        profileImage subscriberCount  \\\n",
       "0  https://scontent-sea1-1.xx.fbcdn.net/v/t1.0-0/...            6720   \n",
       "1  https://scontent-sea1-1.xx.fbcdn.net/v/t1.0-0/...           11982   \n",
       "2  https://scontent-sea1-1.xx.fbcdn.net/v/t31.0-0...            1789   \n",
       "\n",
       "                                                url  platform  \\\n",
       "0   https://www.facebook.com/groups/793416207356486  Facebook   \n",
       "1  https://www.facebook.com/groups/1450333408570918  Facebook   \n",
       "2   https://www.facebook.com/groups/600361880064744  Facebook   \n",
       "\n",
       "         platformId     accountType verified handle pageAdminTopCountry  \n",
       "0   793416207356486  facebook_group    False    NaN                 NaN  \n",
       "1  1450333408570918  facebook_group    False    NaN                 NaN  \n",
       "2   600361880064744  facebook_group    False    NaN                 NaN  "
      ]
     },
     "execution_count": 165,
     "metadata": {},
     "output_type": "execute_result"
    }
   ],
   "source": [
    "filename_pages = \"FBPages\" + \"Political_cities.csv\"\n",
    "filename_groups = \"FBGroups\" + \"Political_cities.csv\"\n",
    "file = \"dataframe_cities.csv\"\n",
    "data = pd.read_csv(file,error_bad_lines=False)\n",
    "data.head(3)"
   ]
  },
  {
   "cell_type": "markdown",
   "metadata": {},
   "source": [
    "### Read Fb Groups data"
   ]
  },
  {
   "cell_type": "code",
   "execution_count": 166,
   "metadata": {},
   "outputs": [
    {
     "data": {
      "text/plain": [
       "(206650, 12)"
      ]
     },
     "execution_count": 166,
     "metadata": {},
     "output_type": "execute_result"
    }
   ],
   "source": [
    "fb_groups = data[data['accountType']=='facebook_group']\n",
    "fb_groups.shape"
   ]
  },
  {
   "cell_type": "code",
   "execution_count": 173,
   "metadata": {},
   "outputs": [
    {
     "data": {
      "text/plain": [
       "(556, 12)"
      ]
     },
     "execution_count": 173,
     "metadata": {},
     "output_type": "execute_result"
    }
   ],
   "source": [
    "fb_groups_no_dup = fb_groups.drop_duplicates(subset=['url'])\n",
    "fb_groups_no_dup.shape"
   ]
  },
  {
   "cell_type": "code",
   "execution_count": 174,
   "metadata": {},
   "outputs": [],
   "source": [
    "fb_groups_upload = pd.DataFrame()\n",
    "fb_groups_upload['name'] = fb_groups_no_dup['name']\n",
    "fb_groups_upload['url'] = fb_groups_no_dup['url']\n",
    "fb_groups_upload['List'] = 'LatinosGroupsPolitical'\n",
    "fb_groups_upload.columns = ['name','Page or Account URL','List']\n",
    "fb_groups_upload.to_csv(\"cscwDocs/\"+filename_pages,index=False)"
   ]
  },
  {
   "cell_type": "markdown",
   "metadata": {},
   "source": [
    "### Read FB Pages data"
   ]
  },
  {
   "cell_type": "code",
   "execution_count": 175,
   "metadata": {},
   "outputs": [
    {
     "data": {
      "text/plain": [
       "(76514, 12)"
      ]
     },
     "execution_count": 175,
     "metadata": {},
     "output_type": "execute_result"
    }
   ],
   "source": [
    "fb_pages = data[data['accountType']=='facebook_page']\n",
    "fb_pages.shape"
   ]
  },
  {
   "cell_type": "code",
   "execution_count": 176,
   "metadata": {},
   "outputs": [
    {
     "data": {
      "text/plain": [
       "(337, 12)"
      ]
     },
     "execution_count": 176,
     "metadata": {},
     "output_type": "execute_result"
    }
   ],
   "source": [
    "fb_pages_no_dup = fb_pages.drop_duplicates(subset=['url'])\n",
    "fb_pages_no_dup.shape"
   ]
  },
  {
   "cell_type": "code",
   "execution_count": 177,
   "metadata": {},
   "outputs": [],
   "source": [
    "fb_pages_upload = pd.DataFrame()\n",
    "fb_pages_upload['name'] = fb_pages_no_dup['name']\n",
    "fb_pages_upload['url'] = fb_pages_no_dup['url']\n",
    "fb_pages_upload['List'] = 'LatinosPagesPolitical'\n",
    "fb_pages_upload.columns = ['name','Page or Account URL','List']\n",
    "fb_pages_upload.to_csv(\"cscwDocs/\"+filename_groups,index=False)"
   ]
  },
  {
   "cell_type": "code",
   "execution_count": 178,
   "metadata": {},
   "outputs": [
    {
     "data": {
      "text/html": [
       "<div>\n",
       "<style scoped>\n",
       "    .dataframe tbody tr th:only-of-type {\n",
       "        vertical-align: middle;\n",
       "    }\n",
       "\n",
       "    .dataframe tbody tr th {\n",
       "        vertical-align: top;\n",
       "    }\n",
       "\n",
       "    .dataframe thead th {\n",
       "        text-align: right;\n",
       "    }\n",
       "</style>\n",
       "<table border=\"1\" class=\"dataframe\">\n",
       "  <thead>\n",
       "    <tr style=\"text-align: right;\">\n",
       "      <th></th>\n",
       "      <th>name</th>\n",
       "      <th>Page or Account URL</th>\n",
       "      <th>List</th>\n",
       "    </tr>\n",
       "  </thead>\n",
       "  <tbody>\n",
       "    <tr>\n",
       "      <th>13</th>\n",
       "      <td>Trabajos Hispanos en New York</td>\n",
       "      <td>https://www.facebook.com/115818805455671</td>\n",
       "      <td>LatinosPagesPolitical</td>\n",
       "    </tr>\n",
       "    <tr>\n",
       "      <th>10824</th>\n",
       "      <td>Utah Latino Republicans</td>\n",
       "      <td>https://www.facebook.com/443879169772342</td>\n",
       "      <td>LatinosPagesPolitical</td>\n",
       "    </tr>\n",
       "    <tr>\n",
       "      <th>10826</th>\n",
       "      <td>Zelda Latino New York</td>\n",
       "      <td>https://www.facebook.com/104115684360170</td>\n",
       "      <td>LatinosPagesPolitical</td>\n",
       "    </tr>\n",
       "    <tr>\n",
       "      <th>10827</th>\n",
       "      <td>Latino Mix Dallas</td>\n",
       "      <td>https://www.facebook.com/373210132732581</td>\n",
       "      <td>LatinosPagesPolitical</td>\n",
       "    </tr>\n",
       "    <tr>\n",
       "      <th>10828</th>\n",
       "      <td>Latino Mix Chicago</td>\n",
       "      <td>https://www.facebook.com/250085535056159</td>\n",
       "      <td>LatinosPagesPolitical</td>\n",
       "    </tr>\n",
       "    <tr>\n",
       "      <th>...</th>\n",
       "      <td>...</td>\n",
       "      <td>...</td>\n",
       "      <td>...</td>\n",
       "    </tr>\n",
       "    <tr>\n",
       "      <th>228954</th>\n",
       "      <td>Solteros Latinos en New York</td>\n",
       "      <td>https://www.facebook.com/471488416527190</td>\n",
       "      <td>LatinosPagesPolitical</td>\n",
       "    </tr>\n",
       "    <tr>\n",
       "      <th>228955</th>\n",
       "      <td>Latinos / Hispanics Over 40 New York, NY</td>\n",
       "      <td>https://www.facebook.com/1635374083385330</td>\n",
       "      <td>LatinosPagesPolitical</td>\n",
       "    </tr>\n",
       "    <tr>\n",
       "      <th>228957</th>\n",
       "      <td>Latinos En La Ciudad de New York by the Fox</td>\n",
       "      <td>https://www.facebook.com/1001653156892562</td>\n",
       "      <td>LatinosPagesPolitical</td>\n",
       "    </tr>\n",
       "    <tr>\n",
       "      <th>228960</th>\n",
       "      <td>Houston Latinos</td>\n",
       "      <td>https://www.facebook.com/1816508631909498</td>\n",
       "      <td>LatinosPagesPolitical</td>\n",
       "    </tr>\n",
       "    <tr>\n",
       "      <th>249965</th>\n",
       "      <td>Virginia Latinos for Trump</td>\n",
       "      <td>https://www.facebook.com/112319103528503</td>\n",
       "      <td>LatinosPagesPolitical</td>\n",
       "    </tr>\n",
       "  </tbody>\n",
       "</table>\n",
       "<p>337 rows × 3 columns</p>\n",
       "</div>"
      ],
      "text/plain": [
       "                                               name  \\\n",
       "13                    Trabajos Hispanos en New York   \n",
       "10824                       Utah Latino Republicans   \n",
       "10826                         Zelda Latino New York   \n",
       "10827                             Latino Mix Dallas   \n",
       "10828                            Latino Mix Chicago   \n",
       "...                                             ...   \n",
       "228954                 Solteros Latinos en New York   \n",
       "228955     Latinos / Hispanics Over 40 New York, NY   \n",
       "228957  Latinos En La Ciudad de New York by the Fox   \n",
       "228960                              Houston Latinos   \n",
       "249965                   Virginia Latinos for Trump   \n",
       "\n",
       "                              Page or Account URL                   List  \n",
       "13       https://www.facebook.com/115818805455671  LatinosPagesPolitical  \n",
       "10824    https://www.facebook.com/443879169772342  LatinosPagesPolitical  \n",
       "10826    https://www.facebook.com/104115684360170  LatinosPagesPolitical  \n",
       "10827    https://www.facebook.com/373210132732581  LatinosPagesPolitical  \n",
       "10828    https://www.facebook.com/250085535056159  LatinosPagesPolitical  \n",
       "...                                           ...                    ...  \n",
       "228954   https://www.facebook.com/471488416527190  LatinosPagesPolitical  \n",
       "228955  https://www.facebook.com/1635374083385330  LatinosPagesPolitical  \n",
       "228957  https://www.facebook.com/1001653156892562  LatinosPagesPolitical  \n",
       "228960  https://www.facebook.com/1816508631909498  LatinosPagesPolitical  \n",
       "249965   https://www.facebook.com/112319103528503  LatinosPagesPolitical  \n",
       "\n",
       "[337 rows x 3 columns]"
      ]
     },
     "execution_count": 178,
     "metadata": {},
     "output_type": "execute_result"
    }
   ],
   "source": [
    "fb_pages_upload"
   ]
  },
  {
   "cell_type": "code",
   "execution_count": null,
   "metadata": {},
   "outputs": [],
   "source": []
  },
  {
   "cell_type": "code",
   "execution_count": null,
   "metadata": {},
   "outputs": [],
   "source": []
  }
 ],
 "metadata": {
  "kernelspec": {
   "display_name": "Latinx2020env",
   "language": "python",
   "name": "latinx2020env"
  },
  "language_info": {
   "codemirror_mode": {
    "name": "ipython",
    "version": 3
   },
   "file_extension": ".py",
   "mimetype": "text/x-python",
   "name": "python",
   "nbconvert_exporter": "python",
   "pygments_lexer": "ipython3",
   "version": "3.8.5"
  }
 },
 "nbformat": 4,
 "nbformat_minor": 4
}
