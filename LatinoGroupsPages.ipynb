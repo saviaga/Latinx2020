{
 "cells": [
  {
   "cell_type": "code",
   "execution_count": 10,
   "metadata": {},
   "outputs": [],
   "source": [
    "import pandas as pd"
   ]
  },
  {
   "cell_type": "code",
   "execution_count": 22,
   "metadata": {},
   "outputs": [
    {
     "name": "stderr",
     "output_type": "stream",
     "text": [
      "b'Skipping line 110342: expected 29 fields, saw 40\\n'\n",
      "/Users/claudia/opt/anaconda3/lib/python3.8/site-packages/IPython/core/interactiveshell.py:3146: DtypeWarning: Columns (11,12,13,15,16,18,19,21,22,24,25,27,28) have mixed types.Specify dtype option on import or set low_memory=False.\n",
      "  has_raised = await self.run_ast_nodes(code_ast.body, cell_name,\n"
     ]
    },
    {
     "data": {
      "text/html": [
       "<div>\n",
       "<style scoped>\n",
       "    .dataframe tbody tr th:only-of-type {\n",
       "        vertical-align: middle;\n",
       "    }\n",
       "\n",
       "    .dataframe tbody tr th {\n",
       "        vertical-align: top;\n",
       "    }\n",
       "\n",
       "    .dataframe thead th {\n",
       "        text-align: right;\n",
       "    }\n",
       "</style>\n",
       "<table border=\"1\" class=\"dataframe\">\n",
       "  <thead>\n",
       "    <tr style=\"text-align: right;\">\n",
       "      <th></th>\n",
       "      <th>id</th>\n",
       "      <th>name</th>\n",
       "      <th>profileImage</th>\n",
       "      <th>subscriberCount</th>\n",
       "      <th>url</th>\n",
       "      <th>platform</th>\n",
       "      <th>platformId</th>\n",
       "      <th>accountType</th>\n",
       "      <th>verified</th>\n",
       "      <th>x</th>\n",
       "      <th>...</th>\n",
       "      <th>Unnamed: 19</th>\n",
       "      <th>Unnamed: 20</th>\n",
       "      <th>Unnamed: 21</th>\n",
       "      <th>Unnamed: 22</th>\n",
       "      <th>Unnamed: 23</th>\n",
       "      <th>Unnamed: 24</th>\n",
       "      <th>Unnamed: 25</th>\n",
       "      <th>Unnamed: 26</th>\n",
       "      <th>Unnamed: 27</th>\n",
       "      <th>Unnamed: 28</th>\n",
       "    </tr>\n",
       "  </thead>\n",
       "  <tbody>\n",
       "    <tr>\n",
       "      <th>0</th>\n",
       "      <td>11261886</td>\n",
       "      <td>DONALD TRUMP PARA HISPANOS</td>\n",
       "      <td>https://scontent-lax3-1.xx.fbcdn.net/v/t1.0-0/...</td>\n",
       "      <td>5403</td>\n",
       "      <td>https://www.facebook.com/groups/442514499638810</td>\n",
       "      <td>Facebook</td>\n",
       "      <td>4.43E+14</td>\n",
       "      <td>facebook_group</td>\n",
       "      <td>FALSE</td>\n",
       "      <td>NaN</td>\n",
       "      <td>...</td>\n",
       "      <td>NaN</td>\n",
       "      <td>NaN</td>\n",
       "      <td>NaN</td>\n",
       "      <td>NaN</td>\n",
       "      <td>NaN</td>\n",
       "      <td>NaN</td>\n",
       "      <td>NaN</td>\n",
       "      <td>NaN</td>\n",
       "      <td>NaN</td>\n",
       "      <td>NaN</td>\n",
       "    </tr>\n",
       "    <tr>\n",
       "      <th>1</th>\n",
       "      <td>11261886</td>\n",
       "      <td>DONALD TRUMP PARA HISPANOS</td>\n",
       "      <td>https://scontent-lax3-1.xx.fbcdn.net/v/t1.0-0/...</td>\n",
       "      <td>5403</td>\n",
       "      <td>https://www.facebook.com/groups/442514499638810</td>\n",
       "      <td>Facebook</td>\n",
       "      <td>4.43E+14</td>\n",
       "      <td>facebook_group</td>\n",
       "      <td>FALSE</td>\n",
       "      <td>NaN</td>\n",
       "      <td>...</td>\n",
       "      <td>NaN</td>\n",
       "      <td>NaN</td>\n",
       "      <td>NaN</td>\n",
       "      <td>NaN</td>\n",
       "      <td>NaN</td>\n",
       "      <td>NaN</td>\n",
       "      <td>NaN</td>\n",
       "      <td>NaN</td>\n",
       "      <td>NaN</td>\n",
       "      <td>NaN</td>\n",
       "    </tr>\n",
       "    <tr>\n",
       "      <th>2</th>\n",
       "      <td>8348479</td>\n",
       "      <td>This Latino Is For Trump</td>\n",
       "      <td>https://scontent-lax3-1.xx.fbcdn.net/v/t1.0-1/...</td>\n",
       "      <td>1559</td>\n",
       "      <td>https://www.facebook.com/176851122669458</td>\n",
       "      <td>Facebook</td>\n",
       "      <td>1.77E+14</td>\n",
       "      <td>facebook_page</td>\n",
       "      <td>FALSE</td>\n",
       "      <td>buildthewalltrump</td>\n",
       "      <td>...</td>\n",
       "      <td>NaN</td>\n",
       "      <td>NaN</td>\n",
       "      <td>NaN</td>\n",
       "      <td>NaN</td>\n",
       "      <td>NaN</td>\n",
       "      <td>NaN</td>\n",
       "      <td>NaN</td>\n",
       "      <td>NaN</td>\n",
       "      <td>NaN</td>\n",
       "      <td>NaN</td>\n",
       "    </tr>\n",
       "  </tbody>\n",
       "</table>\n",
       "<p>3 rows × 29 columns</p>\n",
       "</div>"
      ],
      "text/plain": [
       "         id                        name  \\\n",
       "0  11261886  DONALD TRUMP PARA HISPANOS   \n",
       "1  11261886  DONALD TRUMP PARA HISPANOS   \n",
       "2   8348479    This Latino Is For Trump   \n",
       "\n",
       "                                        profileImage subscriberCount  \\\n",
       "0  https://scontent-lax3-1.xx.fbcdn.net/v/t1.0-0/...            5403   \n",
       "1  https://scontent-lax3-1.xx.fbcdn.net/v/t1.0-0/...            5403   \n",
       "2  https://scontent-lax3-1.xx.fbcdn.net/v/t1.0-1/...            1559   \n",
       "\n",
       "                                               url  platform platformId  \\\n",
       "0  https://www.facebook.com/groups/442514499638810  Facebook   4.43E+14   \n",
       "1  https://www.facebook.com/groups/442514499638810  Facebook   4.43E+14   \n",
       "2         https://www.facebook.com/176851122669458  Facebook   1.77E+14   \n",
       "\n",
       "      accountType verified                  x  ... Unnamed: 19 Unnamed: 20  \\\n",
       "0  facebook_group    FALSE                NaN  ...         NaN         NaN   \n",
       "1  facebook_group    FALSE                NaN  ...         NaN         NaN   \n",
       "2   facebook_page    FALSE  buildthewalltrump  ...         NaN         NaN   \n",
       "\n",
       "  Unnamed: 21 Unnamed: 22  Unnamed: 23 Unnamed: 24 Unnamed: 25  Unnamed: 26  \\\n",
       "0         NaN         NaN          NaN         NaN         NaN          NaN   \n",
       "1         NaN         NaN          NaN         NaN         NaN          NaN   \n",
       "2         NaN         NaN          NaN         NaN         NaN          NaN   \n",
       "\n",
       "  Unnamed: 27 Unnamed: 28  \n",
       "0         NaN         NaN  \n",
       "1         NaN         NaN  \n",
       "2         NaN         NaN  \n",
       "\n",
       "[3 rows x 29 columns]"
      ]
     },
     "execution_count": 22,
     "metadata": {},
     "output_type": "execute_result"
    }
   ],
   "source": [
    "filename_pages = \"FBPages\" + \"Political_parties.csv\"\n",
    "filename_groups = \"FBGroups\" + \"Political_parties.csv\"\n",
    "file = \"dataframe.csv\"\n",
    "data = pd.read_csv(file,error_bad_lines=False)\n",
    "data.head(3)"
   ]
  },
  {
   "cell_type": "markdown",
   "metadata": {},
   "source": [
    "### Read Fb Groups data"
   ]
  },
  {
   "cell_type": "code",
   "execution_count": 23,
   "metadata": {},
   "outputs": [
    {
     "data": {
      "text/plain": [
       "(37044, 29)"
      ]
     },
     "execution_count": 23,
     "metadata": {},
     "output_type": "execute_result"
    }
   ],
   "source": [
    "fb_groups = data[data['accountType']=='facebook_group']\n",
    "fb_groups.shape"
   ]
  },
  {
   "cell_type": "code",
   "execution_count": 24,
   "metadata": {},
   "outputs": [
    {
     "data": {
      "text/plain": [
       "(98, 29)"
      ]
     },
     "execution_count": 24,
     "metadata": {},
     "output_type": "execute_result"
    }
   ],
   "source": [
    "fb_groups_no_dup = fb_groups.drop_duplicates(subset=['url'])\n",
    "fb_groups_no_dup.shape"
   ]
  },
  {
   "cell_type": "code",
   "execution_count": 25,
   "metadata": {},
   "outputs": [],
   "source": [
    "fb_groups_upload = pd.DataFrame()\n",
    "fb_groups_upload['name'] = fb_groups_no_dup['name']\n",
    "fb_groups_upload['url'] = fb_groups_no_dup['url']\n",
    "fb_groups_upload['List'] = 'LatinosGroupsPolitical'\n",
    "fb_groups_upload.columns = ['name','Page or Account URL','List']\n",
    "fb_groups_upload.to_csv(\"cscwDocs/\"+filename_groups,index=False)"
   ]
  },
  {
   "cell_type": "code",
   "execution_count": 26,
   "metadata": {},
   "outputs": [
    {
     "data": {
      "text/html": [
       "<div>\n",
       "<style scoped>\n",
       "    .dataframe tbody tr th:only-of-type {\n",
       "        vertical-align: middle;\n",
       "    }\n",
       "\n",
       "    .dataframe tbody tr th {\n",
       "        vertical-align: top;\n",
       "    }\n",
       "\n",
       "    .dataframe thead th {\n",
       "        text-align: right;\n",
       "    }\n",
       "</style>\n",
       "<table border=\"1\" class=\"dataframe\">\n",
       "  <thead>\n",
       "    <tr style=\"text-align: right;\">\n",
       "      <th></th>\n",
       "      <th>name</th>\n",
       "      <th>Page or Account URL</th>\n",
       "      <th>List</th>\n",
       "    </tr>\n",
       "  </thead>\n",
       "  <tbody>\n",
       "    <tr>\n",
       "      <th>0</th>\n",
       "      <td>DONALD TRUMP PARA HISPANOS</td>\n",
       "      <td>https://www.facebook.com/groups/442514499638810</td>\n",
       "      <td>LatinosGroupsPolitical</td>\n",
       "    </tr>\n",
       "    <tr>\n",
       "      <th>53</th>\n",
       "      <td>Trump Para Los hispanos</td>\n",
       "      <td>https://www.facebook.com/groups/629617674640661</td>\n",
       "      <td>LatinosGroupsPolitical</td>\n",
       "    </tr>\n",
       "    <tr>\n",
       "      <th>61</th>\n",
       "      <td>Hispanos con Donald Trump</td>\n",
       "      <td>https://www.facebook.com/groups/338567032897693</td>\n",
       "      <td>LatinosGroupsPolitical</td>\n",
       "    </tr>\n",
       "    <tr>\n",
       "      <th>172</th>\n",
       "      <td>Hispanos por trump</td>\n",
       "      <td>https://www.facebook.com/groups/334707374226747</td>\n",
       "      <td>LatinosGroupsPolitical</td>\n",
       "    </tr>\n",
       "    <tr>\n",
       "      <th>563</th>\n",
       "      <td>Latino Republican National Federation</td>\n",
       "      <td>https://www.facebook.com/groups/365831227113188</td>\n",
       "      <td>LatinosGroupsPolitical</td>\n",
       "    </tr>\n",
       "    <tr>\n",
       "      <th>...</th>\n",
       "      <td>...</td>\n",
       "      <td>...</td>\n",
       "      <td>...</td>\n",
       "    </tr>\n",
       "    <tr>\n",
       "      <th>84578</th>\n",
       "      <td>Mexicans for Donald Trump</td>\n",
       "      <td>https://www.facebook.com/1625674184418643</td>\n",
       "      <td>LatinosGroupsPolitical</td>\n",
       "    </tr>\n",
       "    <tr>\n",
       "      <th>84621</th>\n",
       "      <td>Mexicans for Donald J. Trump 2016</td>\n",
       "      <td>https://www.facebook.com/groups/1111822215527744</td>\n",
       "      <td>LatinosGroupsPolitical</td>\n",
       "    </tr>\n",
       "    <tr>\n",
       "      <th>84703</th>\n",
       "      <td>MEXICANS WITH ATTITUDE AGAINST TRUMP *€€</td>\n",
       "      <td>https://www.facebook.com/groups/1939876166265764</td>\n",
       "      <td>LatinosGroupsPolitical</td>\n",
       "    </tr>\n",
       "    <tr>\n",
       "      <th>84705</th>\n",
       "      <td>USA Mexicans for Biden</td>\n",
       "      <td>https://www.facebook.com/groups/3356900297867923</td>\n",
       "      <td>LatinosGroupsPolitical</td>\n",
       "    </tr>\n",
       "    <tr>\n",
       "      <th>110323</th>\n",
       "      <td>San Diego LGBTQ Latinx Coalition</td>\n",
       "      <td>https://www.facebook.com/groups/526119751064424</td>\n",
       "      <td>LatinosGroupsPolitical</td>\n",
       "    </tr>\n",
       "  </tbody>\n",
       "</table>\n",
       "<p>98 rows × 3 columns</p>\n",
       "</div>"
      ],
      "text/plain": [
       "                                            name  \\\n",
       "0                     DONALD TRUMP PARA HISPANOS   \n",
       "53                       Trump Para Los hispanos   \n",
       "61                     Hispanos con Donald Trump   \n",
       "172                           Hispanos por trump   \n",
       "563        Latino Republican National Federation   \n",
       "...                                          ...   \n",
       "84578                  Mexicans for Donald Trump   \n",
       "84621          Mexicans for Donald J. Trump 2016   \n",
       "84703   MEXICANS WITH ATTITUDE AGAINST TRUMP *€€   \n",
       "84705                     USA Mexicans for Biden   \n",
       "110323          San Diego LGBTQ Latinx Coalition   \n",
       "\n",
       "                                     Page or Account URL  \\\n",
       "0        https://www.facebook.com/groups/442514499638810   \n",
       "53       https://www.facebook.com/groups/629617674640661   \n",
       "61       https://www.facebook.com/groups/338567032897693   \n",
       "172      https://www.facebook.com/groups/334707374226747   \n",
       "563      https://www.facebook.com/groups/365831227113188   \n",
       "...                                                  ...   \n",
       "84578          https://www.facebook.com/1625674184418643   \n",
       "84621   https://www.facebook.com/groups/1111822215527744   \n",
       "84703   https://www.facebook.com/groups/1939876166265764   \n",
       "84705   https://www.facebook.com/groups/3356900297867923   \n",
       "110323   https://www.facebook.com/groups/526119751064424   \n",
       "\n",
       "                          List  \n",
       "0       LatinosGroupsPolitical  \n",
       "53      LatinosGroupsPolitical  \n",
       "61      LatinosGroupsPolitical  \n",
       "172     LatinosGroupsPolitical  \n",
       "563     LatinosGroupsPolitical  \n",
       "...                        ...  \n",
       "84578   LatinosGroupsPolitical  \n",
       "84621   LatinosGroupsPolitical  \n",
       "84703   LatinosGroupsPolitical  \n",
       "84705   LatinosGroupsPolitical  \n",
       "110323  LatinosGroupsPolitical  \n",
       "\n",
       "[98 rows x 3 columns]"
      ]
     },
     "execution_count": 26,
     "metadata": {},
     "output_type": "execute_result"
    }
   ],
   "source": [
    "fb_groups_upload"
   ]
  },
  {
   "cell_type": "markdown",
   "metadata": {},
   "source": [
    "### Read FB Pages data"
   ]
  },
  {
   "cell_type": "code",
   "execution_count": 27,
   "metadata": {},
   "outputs": [
    {
     "data": {
      "text/plain": [
       "(48131, 29)"
      ]
     },
     "execution_count": 27,
     "metadata": {},
     "output_type": "execute_result"
    }
   ],
   "source": [
    "fb_pages = data[data['accountType']=='facebook_page']\n",
    "fb_pages.shape"
   ]
  },
  {
   "cell_type": "code",
   "execution_count": 28,
   "metadata": {},
   "outputs": [
    {
     "data": {
      "text/plain": [
       "(126, 29)"
      ]
     },
     "execution_count": 28,
     "metadata": {},
     "output_type": "execute_result"
    }
   ],
   "source": [
    "fb_pages_no_dup = fb_pages.drop_duplicates(subset=['url'])\n",
    "fb_pages_no_dup.shape"
   ]
  },
  {
   "cell_type": "code",
   "execution_count": 29,
   "metadata": {},
   "outputs": [],
   "source": [
    "fb_pages_upload = pd.DataFrame()\n",
    "fb_pages_upload['name'] = fb_pages_no_dup['name']\n",
    "fb_pages_upload['url'] = fb_pages_no_dup['url']\n",
    "fb_pages_upload['List'] = 'LatinosPagesPolitical'\n",
    "fb_pages_upload.columns = ['name','Page or Account URL','List']\n",
    "fb_pages_upload.to_csv(\"cscwDocs/\"+filename_pages,index=False)"
   ]
  },
  {
   "cell_type": "code",
   "execution_count": 30,
   "metadata": {},
   "outputs": [
    {
     "data": {
      "text/html": [
       "<div>\n",
       "<style scoped>\n",
       "    .dataframe tbody tr th:only-of-type {\n",
       "        vertical-align: middle;\n",
       "    }\n",
       "\n",
       "    .dataframe tbody tr th {\n",
       "        vertical-align: top;\n",
       "    }\n",
       "\n",
       "    .dataframe thead th {\n",
       "        text-align: right;\n",
       "    }\n",
       "</style>\n",
       "<table border=\"1\" class=\"dataframe\">\n",
       "  <thead>\n",
       "    <tr style=\"text-align: right;\">\n",
       "      <th></th>\n",
       "      <th>name</th>\n",
       "      <th>Page or Account URL</th>\n",
       "      <th>List</th>\n",
       "    </tr>\n",
       "  </thead>\n",
       "  <tbody>\n",
       "    <tr>\n",
       "      <th>2</th>\n",
       "      <td>This Latino Is For Trump</td>\n",
       "      <td>https://www.facebook.com/176851122669458</td>\n",
       "      <td>LatinosPagesPolitical</td>\n",
       "    </tr>\n",
       "    <tr>\n",
       "      <th>3</th>\n",
       "      <td>I am Latino, immigrant and now I support Presi...</td>\n",
       "      <td>https://www.facebook.com/108912984023583</td>\n",
       "      <td>LatinosPagesPolitical</td>\n",
       "    </tr>\n",
       "    <tr>\n",
       "      <th>564</th>\n",
       "      <td>Arizona Latino Republican Association</td>\n",
       "      <td>https://www.facebook.com/136506579715637</td>\n",
       "      <td>LatinosPagesPolitical</td>\n",
       "    </tr>\n",
       "    <tr>\n",
       "      <th>565</th>\n",
       "      <td>Latino National Republican Coalition</td>\n",
       "      <td>https://www.facebook.com/110947184074991</td>\n",
       "      <td>LatinosPagesPolitical</td>\n",
       "    </tr>\n",
       "    <tr>\n",
       "      <th>590</th>\n",
       "      <td>Latino Veterans con Biden</td>\n",
       "      <td>https://www.facebook.com/100827018332779</td>\n",
       "      <td>LatinosPagesPolitical</td>\n",
       "    </tr>\n",
       "    <tr>\n",
       "      <th>...</th>\n",
       "      <td>...</td>\n",
       "      <td>...</td>\n",
       "      <td>...</td>\n",
       "    </tr>\n",
       "    <tr>\n",
       "      <th>90077</th>\n",
       "      <td>Republicans Latinos of Palm Beach County</td>\n",
       "      <td>https://www.facebook.com/117602811743234</td>\n",
       "      <td>LatinosPagesPolitical</td>\n",
       "    </tr>\n",
       "    <tr>\n",
       "      <th>110324</th>\n",
       "      <td>Latinx Caucus, New York Greens</td>\n",
       "      <td>https://www.facebook.com/190713054880350</td>\n",
       "      <td>LatinosPagesPolitical</td>\n",
       "    </tr>\n",
       "    <tr>\n",
       "      <th>110325</th>\n",
       "      <td>San Diego LGBTQ Latinx Coalition</td>\n",
       "      <td>https://www.facebook.com/100849631665329</td>\n",
       "      <td>LatinosPagesPolitical</td>\n",
       "    </tr>\n",
       "    <tr>\n",
       "      <th>110326</th>\n",
       "      <td>Mi San Diego Latinx North County</td>\n",
       "      <td>https://www.facebook.com/337533476438780</td>\n",
       "      <td>LatinosPagesPolitical</td>\n",
       "    </tr>\n",
       "    <tr>\n",
       "      <th>110327</th>\n",
       "      <td>Chicago Teachers Union Latinx Caucus</td>\n",
       "      <td>https://www.facebook.com/1475737409309864</td>\n",
       "      <td>LatinosPagesPolitical</td>\n",
       "    </tr>\n",
       "  </tbody>\n",
       "</table>\n",
       "<p>126 rows × 3 columns</p>\n",
       "</div>"
      ],
      "text/plain": [
       "                                                     name  \\\n",
       "2                                This Latino Is For Trump   \n",
       "3       I am Latino, immigrant and now I support Presi...   \n",
       "564                 Arizona Latino Republican Association   \n",
       "565                  Latino National Republican Coalition   \n",
       "590                             Latino Veterans con Biden   \n",
       "...                                                   ...   \n",
       "90077            Republicans Latinos of Palm Beach County   \n",
       "110324                     Latinx Caucus, New York Greens   \n",
       "110325                   San Diego LGBTQ Latinx Coalition   \n",
       "110326                   Mi San Diego Latinx North County   \n",
       "110327               Chicago Teachers Union Latinx Caucus   \n",
       "\n",
       "                              Page or Account URL                   List  \n",
       "2        https://www.facebook.com/176851122669458  LatinosPagesPolitical  \n",
       "3        https://www.facebook.com/108912984023583  LatinosPagesPolitical  \n",
       "564      https://www.facebook.com/136506579715637  LatinosPagesPolitical  \n",
       "565      https://www.facebook.com/110947184074991  LatinosPagesPolitical  \n",
       "590      https://www.facebook.com/100827018332779  LatinosPagesPolitical  \n",
       "...                                           ...                    ...  \n",
       "90077    https://www.facebook.com/117602811743234  LatinosPagesPolitical  \n",
       "110324   https://www.facebook.com/190713054880350  LatinosPagesPolitical  \n",
       "110325   https://www.facebook.com/100849631665329  LatinosPagesPolitical  \n",
       "110326   https://www.facebook.com/337533476438780  LatinosPagesPolitical  \n",
       "110327  https://www.facebook.com/1475737409309864  LatinosPagesPolitical  \n",
       "\n",
       "[126 rows x 3 columns]"
      ]
     },
     "execution_count": 30,
     "metadata": {},
     "output_type": "execute_result"
    }
   ],
   "source": [
    "fb_pages_upload"
   ]
  },
  {
   "cell_type": "code",
   "execution_count": null,
   "metadata": {},
   "outputs": [],
   "source": []
  },
  {
   "cell_type": "code",
   "execution_count": null,
   "metadata": {},
   "outputs": [],
   "source": []
  },
  {
   "cell_type": "code",
   "execution_count": null,
   "metadata": {},
   "outputs": [],
   "source": []
  }
 ],
 "metadata": {
  "kernelspec": {
   "display_name": "Latinx2020env",
   "language": "python",
   "name": "latinx2020env"
  },
  "language_info": {
   "codemirror_mode": {
    "name": "ipython",
    "version": 3
   },
   "file_extension": ".py",
   "mimetype": "text/x-python",
   "name": "python",
   "nbconvert_exporter": "python",
   "pygments_lexer": "ipython3",
   "version": "3.8.5"
  }
 },
 "nbformat": 4,
 "nbformat_minor": 4
}
