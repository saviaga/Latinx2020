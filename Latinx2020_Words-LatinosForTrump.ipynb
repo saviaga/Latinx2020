{
 "cells": [
  {
   "cell_type": "code",
   "execution_count": 1,
   "metadata": {},
   "outputs": [],
   "source": [
    "import pandas as pd\n",
    "import re\n",
    "\n",
    "import numpy as np\n",
    "import pandas as pd\n",
    "from pprint import pprint\n",
    "from collections import Counter\n",
    "\n",
    "#nltk stopwords\n",
    "from nltk.corpus import stopwords\n",
    "\n",
    "\n",
    "# Gensim\n",
    "import gensim\n",
    "import gensim.corpora as corpora\n",
    "from gensim.utils import simple_preprocess\n",
    "from gensim.models import CoherenceModel\n",
    "\n",
    "# spacy for lemmatization\n",
    "import spacy\n",
    "\n",
    "#TF-IDF\n",
    "from sklearn.feature_extraction.text import TfidfTransformer,CountVectorizer\n",
    "\n",
    "# Enable logging for gensim - optional\n",
    "import logging\n",
    "logging.basicConfig(format='%(asctime)s : %(levelname)s : %(message)s', level=logging.ERROR)\n",
    "\n",
    "import warnings\n",
    "warnings.filterwarnings(\"ignore\",category=DeprecationWarning)"
   ]
  },
  {
   "cell_type": "markdown",
   "metadata": {},
   "source": [
    "### Read Posts"
   ]
  },
  {
   "cell_type": "code",
   "execution_count": 2,
   "metadata": {},
   "outputs": [
    {
     "data": {
      "text/html": [
       "<div>\n",
       "<style scoped>\n",
       "    .dataframe tbody tr th:only-of-type {\n",
       "        vertical-align: middle;\n",
       "    }\n",
       "\n",
       "    .dataframe tbody tr th {\n",
       "        vertical-align: top;\n",
       "    }\n",
       "\n",
       "    .dataframe thead th {\n",
       "        text-align: right;\n",
       "    }\n",
       "</style>\n",
       "<table border=\"1\" class=\"dataframe\">\n",
       "  <thead>\n",
       "    <tr style=\"text-align: right;\">\n",
       "      <th></th>\n",
       "      <th>Group Name</th>\n",
       "      <th>User Name</th>\n",
       "      <th>Facebook Id</th>\n",
       "      <th>Likes at Posting</th>\n",
       "      <th>Created</th>\n",
       "      <th>Type</th>\n",
       "      <th>Likes</th>\n",
       "      <th>Comments</th>\n",
       "      <th>Shares</th>\n",
       "      <th>Love</th>\n",
       "      <th>...</th>\n",
       "      <th>Message</th>\n",
       "      <th>Link</th>\n",
       "      <th>Final Link</th>\n",
       "      <th>Image Text</th>\n",
       "      <th>Link Text</th>\n",
       "      <th>Description</th>\n",
       "      <th>Sponsor Id</th>\n",
       "      <th>Sponsor Name</th>\n",
       "      <th>Total Interactions</th>\n",
       "      <th>Total Interactions (weighted  —  Likes 1x Shares 1x Comments 1x Love 1x Wow 1x Haha 1x Sad 1x Angry 1x Care 1x )</th>\n",
       "    </tr>\n",
       "  </thead>\n",
       "  <tbody>\n",
       "    <tr>\n",
       "      <th>0</th>\n",
       "      <td>#WalkAway Campaign</td>\n",
       "      <td>NaN</td>\n",
       "      <td>1945356878817544</td>\n",
       "      <td>473251.0</td>\n",
       "      <td>2020-09-20 10:14:06 EDT</td>\n",
       "      <td>Photo</td>\n",
       "      <td>17315</td>\n",
       "      <td>21844</td>\n",
       "      <td>2248</td>\n",
       "      <td>9780</td>\n",
       "      <td>...</td>\n",
       "      <td>Update: We've been overwhelmed with love and s...</td>\n",
       "      <td>https://www.facebook.com/photo.php?fbid=101592...</td>\n",
       "      <td>NaN</td>\n",
       "      <td>NaN</td>\n",
       "      <td>NaN</td>\n",
       "      <td>NaN</td>\n",
       "      <td>NaN</td>\n",
       "      <td>NaN</td>\n",
       "      <td>87,280</td>\n",
       "      <td>87,280</td>\n",
       "    </tr>\n",
       "    <tr>\n",
       "      <th>1</th>\n",
       "      <td>#WalkAway Campaign</td>\n",
       "      <td>NaN</td>\n",
       "      <td>1945356878817544</td>\n",
       "      <td>403749.0</td>\n",
       "      <td>2020-08-28 19:09:31 EDT</td>\n",
       "      <td>Photo</td>\n",
       "      <td>14404</td>\n",
       "      <td>2267</td>\n",
       "      <td>1666</td>\n",
       "      <td>7915</td>\n",
       "      <td>...</td>\n",
       "      <td>My husband was in California this week on busi...</td>\n",
       "      <td>https://www.facebook.com/photo.php?fbid=101021...</td>\n",
       "      <td>NaN</td>\n",
       "      <td>NaN</td>\n",
       "      <td>NaN</td>\n",
       "      <td>NaN</td>\n",
       "      <td>NaN</td>\n",
       "      <td>NaN</td>\n",
       "      <td>26,518</td>\n",
       "      <td>26,518</td>\n",
       "    </tr>\n",
       "  </tbody>\n",
       "</table>\n",
       "<p>2 rows × 31 columns</p>\n",
       "</div>"
      ],
      "text/plain": [
       "           Group Name  User Name       Facebook Id  Likes at Posting  \\\n",
       "0  #WalkAway Campaign        NaN  1945356878817544          473251.0   \n",
       "1  #WalkAway Campaign        NaN  1945356878817544          403749.0   \n",
       "\n",
       "                   Created   Type  Likes  Comments  Shares  Love  ...  \\\n",
       "0  2020-09-20 10:14:06 EDT  Photo  17315     21844    2248  9780  ...   \n",
       "1  2020-08-28 19:09:31 EDT  Photo  14404      2267    1666  7915  ...   \n",
       "\n",
       "                                             Message  \\\n",
       "0  Update: We've been overwhelmed with love and s...   \n",
       "1  My husband was in California this week on busi...   \n",
       "\n",
       "                                                Link  Final Link  Image Text  \\\n",
       "0  https://www.facebook.com/photo.php?fbid=101592...         NaN         NaN   \n",
       "1  https://www.facebook.com/photo.php?fbid=101021...         NaN         NaN   \n",
       "\n",
       "   Link Text Description  Sponsor Id  Sponsor Name  Total Interactions  \\\n",
       "0        NaN         NaN         NaN           NaN              87,280   \n",
       "1        NaN         NaN         NaN           NaN              26,518   \n",
       "\n",
       "  Total Interactions (weighted  —  Likes 1x Shares 1x Comments 1x Love 1x Wow 1x Haha 1x Sad 1x Angry 1x Care 1x )  \n",
       "0                                             87,280                                                                \n",
       "1                                             26,518                                                                \n",
       "\n",
       "[2 rows x 31 columns]"
      ]
     },
     "execution_count": 2,
     "metadata": {},
     "output_type": "execute_result"
    }
   ],
   "source": [
    "name = \"LatinosForTrump\"\n",
    "terms = \"trump|republicans|republican\"\n",
    "posts1 = pd.read_csv(name+\"1.csv\")\n",
    "posts2 = pd.read_csv(name+\"2.csv\")\n",
    "candidate = pd.concat([posts1,posts2],axis=0)\n",
    "candidate.head(2)"
   ]
  },
  {
   "cell_type": "code",
   "execution_count": 3,
   "metadata": {
    "scrolled": true
   },
   "outputs": [
    {
     "data": {
      "text/plain": [
       "Index(['Group Name', 'User Name', 'Facebook Id', 'Likes at Posting', 'Created',\n",
       "       'Type', 'Likes', 'Comments', 'Shares', 'Love', 'Wow', 'Haha', 'Sad',\n",
       "       'Angry', 'Care', 'Video Share Status', 'Post Views', 'Total Views',\n",
       "       'Total Views For All Crossposts', 'Video Length', 'URL', 'Message',\n",
       "       'Link', 'Final Link', 'Image Text', 'Link Text', 'Description',\n",
       "       'Sponsor Id', 'Sponsor Name', 'Total Interactions',\n",
       "       'Total Interactions (weighted  —  Likes 1x Shares 1x Comments 1x Love 1x Wow 1x Haha 1x Sad 1x Angry 1x Care 1x )'],\n",
       "      dtype='object')"
      ]
     },
     "execution_count": 3,
     "metadata": {},
     "output_type": "execute_result"
    }
   ],
   "source": [
    "candidate.columns"
   ]
  },
  {
   "cell_type": "markdown",
   "metadata": {},
   "source": [
    "## Filter the most relevant columns"
   ]
  },
  {
   "cell_type": "code",
   "execution_count": 4,
   "metadata": {
    "scrolled": true
   },
   "outputs": [
    {
     "data": {
      "text/plain": [
       "(17007, 14)"
      ]
     },
     "execution_count": 4,
     "metadata": {},
     "output_type": "execute_result"
    }
   ],
   "source": [
    "content = candidate[['Message','Description','Link','Group Name','Likes', 'Comments', 'Shares', 'Love', 'Wow', 'Haha', 'Sad',\n",
    "       'Angry', 'Care','Total Interactions']].copy()\n",
    "content.shape"
   ]
  },
  {
   "cell_type": "markdown",
   "metadata": {},
   "source": [
    "### Add column to concat Message and Description"
   ]
  },
  {
   "cell_type": "code",
   "execution_count": 5,
   "metadata": {
    "scrolled": true
   },
   "outputs": [],
   "source": [
    "concat_message = content['Message'].fillna('') + (' ' + content['Description']).fillna('')\n",
    "content['MessageDescr'] = concat_message"
   ]
  },
  {
   "cell_type": "markdown",
   "metadata": {},
   "source": [
    "### Just keep those groups that have Trump or Republican in their name"
   ]
  },
  {
   "cell_type": "code",
   "execution_count": 6,
   "metadata": {
    "scrolled": true
   },
   "outputs": [
    {
     "data": {
      "text/plain": [
       "(1394, 1)"
      ]
     },
     "execution_count": 6,
     "metadata": {},
     "output_type": "execute_result"
    }
   ],
   "source": [
    "groups_candidate = content['Group Name'].str.lower().reset_index()\n",
    "final_groups = groups_candidate[groups_candidate['Group Name'].str.contains(terms)].copy()\n",
    "final_groups = final_groups['Group Name'].unique()\n",
    "final_groups = pd.DataFrame(final_groups)\n",
    "final_groups.columns = ['Group Name']\n",
    "final_groups.to_csv(name+\"_groups.csv\")\n",
    "final_groups.shape"
   ]
  },
  {
   "cell_type": "code",
   "execution_count": 7,
   "metadata": {
    "scrolled": true
   },
   "outputs": [
    {
     "data": {
      "text/plain": [
       "(17007, 15)"
      ]
     },
     "execution_count": 7,
     "metadata": {},
     "output_type": "execute_result"
    }
   ],
   "source": [
    "content['Group Name'] = content['Group Name'].str.lower()\n",
    "content.shape"
   ]
  },
  {
   "cell_type": "markdown",
   "metadata": {},
   "source": [
    "### Keep the posts from the preselected groups"
   ]
  },
  {
   "cell_type": "code",
   "execution_count": 8,
   "metadata": {},
   "outputs": [
    {
     "data": {
      "text/plain": [
       "(6525, 15)"
      ]
     },
     "execution_count": 8,
     "metadata": {},
     "output_type": "execute_result"
    }
   ],
   "source": [
    "content = content[content['Group Name'].isin(final_groups['Group Name'])].copy()\n",
    "content.shape"
   ]
  },
  {
   "cell_type": "markdown",
   "metadata": {},
   "source": [
    "## Tokenize words and Clean-up text"
   ]
  },
  {
   "cell_type": "code",
   "execution_count": 9,
   "metadata": {},
   "outputs": [
    {
     "data": {
      "text/plain": [
       "(6525,)"
      ]
     },
     "execution_count": 9,
     "metadata": {},
     "output_type": "execute_result"
    }
   ],
   "source": [
    "content['cleanMessage'] = content['MessageDescr'].apply(lambda x: re.split('https:\\/\\/.*', str(x))[0])\n",
    "content['cleanMessage'].shape"
   ]
  },
  {
   "cell_type": "code",
   "execution_count": 10,
   "metadata": {},
   "outputs": [],
   "source": [
    "# Convert to list\n",
    "data = content.cleanMessage.tolist()"
   ]
  },
  {
   "cell_type": "code",
   "execution_count": 11,
   "metadata": {},
   "outputs": [],
   "source": [
    "# Remove new line characters\n",
    "data = [re.sub('\\s+', ' ', sent) for sent in data]\n",
    "\n",
    "# Remove distracting single quotes\n",
    "data = [re.sub(\"\\'\", \"\", sent) for sent in data]"
   ]
  },
  {
   "cell_type": "code",
   "execution_count": 12,
   "metadata": {},
   "outputs": [
    {
     "name": "stdout",
     "output_type": "stream",
     "text": [
      "[['latinos', 'for', 'trump', 'midland', 'texas']]\n"
     ]
    }
   ],
   "source": [
    "def sent_to_words(sentences):\n",
    "    for sentence in sentences:\n",
    "        yield(gensim.utils.simple_preprocess(str(sentence), deacc=True))  # deacc=True removes punctuations\n",
    "\n",
    "data_words = list(sent_to_words(data))\n",
    "\n",
    "print(data_words[:1])"
   ]
  },
  {
   "cell_type": "markdown",
   "metadata": {},
   "source": [
    "#### Creating Bigram and Trigram Models"
   ]
  },
  {
   "cell_type": "code",
   "execution_count": 13,
   "metadata": {
    "scrolled": true
   },
   "outputs": [
    {
     "name": "stdout",
     "output_type": "stream",
     "text": [
      "['latinos', 'for', 'trump', 'midland', 'texas']\n"
     ]
    }
   ],
   "source": [
    "# Build the bigram and trigram models\n",
    "bigram = gensim.models.Phrases(data_words, min_count=5, threshold=100) # higher threshold fewer phrases.\n",
    "trigram = gensim.models.Phrases(bigram[data_words], threshold=100)  \n",
    "\n",
    "# Faster way to get a sentence clubbed as a trigram/bigram\n",
    "bigram_mod = gensim.models.phrases.Phraser(bigram)\n",
    "trigram_mod = gensim.models.phrases.Phraser(trigram)\n",
    "\n",
    "# See trigram example\n",
    "print(trigram_mod[bigram_mod[data_words[0]]])"
   ]
  },
  {
   "cell_type": "code",
   "execution_count": 14,
   "metadata": {},
   "outputs": [],
   "source": [
    "stop_words = stopwords.words('english')\n",
    "stop_words.extend(stopwords.words('spanish'))\n",
    "stop_words.extend(['su','sus','al','de','en','el'])\n",
    "stop_words.extend(['like','would','get','many','much'])"
   ]
  },
  {
   "cell_type": "markdown",
   "metadata": {},
   "source": [
    "## Remove Stopwords, Make Bigrams and Lemmatize"
   ]
  },
  {
   "cell_type": "code",
   "execution_count": 15,
   "metadata": {},
   "outputs": [],
   "source": [
    "# Define functions for stopwords, bigrams, trigrams and lemmatization\n",
    "def remove_stopwords(texts,stop_words_lang):\n",
    "    return [[word for word in simple_preprocess(str(doc)) if word not in stop_words_lang] for doc in texts]\n",
    "\n",
    "def make_bigrams(texts):\n",
    "    return [bigram_mod[doc] for doc in texts]\n",
    "\n",
    "def make_trigrams(texts):\n",
    "    return [trigram_mod[bigram_mod[doc]] for doc in texts]\n",
    "\n",
    "def lemmatization(texts, allowed_postags=['NOUN', 'ADJ', 'VERB', 'ADV']):\n",
    "    \"\"\"https://spacy.io/api/annotation\"\"\"\n",
    "    texts_out = []\n",
    "    for sent in texts:\n",
    "        doc = nlp(\" \".join(sent)) \n",
    "        texts_out.append([token.lemma_ for token in doc if token.pos_ in allowed_postags])\n",
    "    return texts_out"
   ]
  },
  {
   "cell_type": "markdown",
   "metadata": {},
   "source": [
    "## Bag of Words"
   ]
  },
  {
   "cell_type": "code",
   "execution_count": null,
   "metadata": {},
   "outputs": [],
   "source": [
    "# Remove Stop Words\n",
    "data_words_nostops = remove_stopwords(data_words,stop_words)\n",
    "\n",
    "# Form Bigrams\n",
    "data_words_bigrams = make_bigrams(data_words_nostops)\n",
    "\n",
    "# Initialize spacy 'en' model, keeping only tagger component (for efficiency)\n",
    "#!python3 -m spacy download en\n",
    "nlp = spacy.load('en', disable=['parser', 'ner'])\n",
    "\n",
    "# Do lemmatization keeping only noun, adj, vb, adv\n",
    "data_lemmatized = lemmatization(data_words_bigrams, allowed_postags=['NOUN', 'ADJ', 'VERB', 'ADV'])\n",
    "\n",
    "print(data_lemmatized[:2])"
   ]
  },
  {
   "cell_type": "code",
   "execution_count": null,
   "metadata": {},
   "outputs": [],
   "source": [
    "def combine_words(word1,word2,dictionary):\n",
    "\n",
    "    if word1 in dictionary and word2 in dictionary:\n",
    "        concat_name = word1+\" / \"+word2\n",
    "        dictionary[concat_name] = dictionary[word1] + dictionary[word2]\n",
    "        dictionary.pop(word1, None)\n",
    "        dictionary.pop(word2, None)\n",
    "        print(concat_name, dictionary[concat_name])\n",
    "    return dictionary"
   ]
  },
  {
   "cell_type": "code",
   "execution_count": null,
   "metadata": {},
   "outputs": [],
   "source": [
    "flat_list_words = [item for sublist in data_lemmatized for item in sublist]\n",
    "count_words = Counter(flat_list_words)"
   ]
  },
  {
   "cell_type": "code",
   "execution_count": null,
   "metadata": {},
   "outputs": [],
   "source": [
    "final_dict = combine_words('donald','trump',count_words)\n",
    "final_dict = combine_words('joe','biden',count_words)\n",
    "final_dict = combine_words('kamala','harris',count_words)\n",
    "final_dict = combine_words('american','america',count_words)\n",
    "final_dict = combine_words('estados','unidos',count_words)\n",
    "final_dict = combine_words('voters','vote',count_words)\n",
    "final_dict = combine_words('mexico','mexican',count_words)\n",
    "final_dict = combine_words('casa','blanca',count_words)\n",
    "final_dict = combine_words('venezuela','venezuelans',count_words)\n",
    "final_dict = combine_words('latino','latinos',count_words)\n",
    "final_dict = combine_words('american / america','americans',count_words)\n",
    "final_dict = combine_words('voters / vote','voting',count_words)\n",
    "final_dict = combine_words('puerto','rico',count_words)\n",
    "final_dict = combine_words('communism','communist',count_words)\n",
    "final_dict = combine_words('ee','uu',count_words)\n",
    "final_dict = combine_words('united','states',count_words)"
   ]
  },
  {
   "cell_type": "code",
   "execution_count": null,
   "metadata": {},
   "outputs": [],
   "source": [
    "final_dict.most_common(1000)"
   ]
  },
  {
   "cell_type": "markdown",
   "metadata": {},
   "source": [
    "## TD-IDF"
   ]
  },
  {
   "cell_type": "code",
   "execution_count": null,
   "metadata": {},
   "outputs": [],
   "source": [
    "docs = ([' '.join(ele) for ele in data_words_nostops] )"
   ]
  },
  {
   "cell_type": "code",
   "execution_count": null,
   "metadata": {},
   "outputs": [],
   "source": [
    "cv=CountVectorizer() \n",
    "word_count_vector=cv.fit_transform(docs)\n",
    "word_count_vector.shape"
   ]
  },
  {
   "cell_type": "code",
   "execution_count": null,
   "metadata": {},
   "outputs": [],
   "source": [
    "tfidf_transformer=TfidfTransformer(smooth_idf=True,use_idf=True) \n",
    "tfidf_transformer.fit(word_count_vector)"
   ]
  },
  {
   "cell_type": "code",
   "execution_count": null,
   "metadata": {},
   "outputs": [],
   "source": [
    "# print idf values \n",
    "df_idf = pd.DataFrame(tfidf_transformer.idf_, index=cv.get_feature_names(),columns=[\"idf_weights\"]) \n",
    " \n",
    "# sort ascending \n",
    "df_idf.sort_values(by=['idf_weights'])"
   ]
  },
  {
   "cell_type": "code",
   "execution_count": null,
   "metadata": {},
   "outputs": [],
   "source": [
    "# count matrix \n",
    "count_vector=cv.transform(docs) \n",
    " \n",
    "# tf-idf scores \n",
    "tf_idf_vector=tfidf_transformer.transform(count_vector)"
   ]
  },
  {
   "cell_type": "code",
   "execution_count": null,
   "metadata": {},
   "outputs": [],
   "source": [
    "feature_names = cv.get_feature_names() \n",
    " \n",
    "#get tfidf vector for first document \n",
    "first_document_vector=tf_idf_vector[0] \n",
    " \n",
    "#print the scores \n",
    "df = pd.DataFrame(first_document_vector.T.todense(), index=feature_names, columns=[\"tfidf\"]) \n",
    "df = df[(df != 0).all(1)]\n",
    "df.sort_values(by=[\"tfidf\"],ascending=False).to_csv(name+\"_tfidf.csv\")"
   ]
  },
  {
   "cell_type": "code",
   "execution_count": null,
   "metadata": {},
   "outputs": [],
   "source": [
    "df"
   ]
  },
  {
   "cell_type": "code",
   "execution_count": null,
   "metadata": {
    "scrolled": true
   },
   "outputs": [],
   "source": [
    "word = df.index[0]\n",
    "content[\"lowercase\"] = content['MessageDescr'].apply(lambda x: x.lower())\n",
    "word_messages = content[content['lowercase'].str.contains(word)]\n",
    "\n",
    "word_messages = word_messages['lowercase'].value_counts(ascending=False).rename_axis('unique_messages').reset_index(name='counts')\n",
    "word_messages.to_csv(word +\"_\"+ name+\"_messages.csv\")\n",
    "word_messages"
   ]
  },
  {
   "cell_type": "markdown",
   "metadata": {},
   "source": [
    "### Repeated messages"
   ]
  },
  {
   "cell_type": "code",
   "execution_count": null,
   "metadata": {
    "scrolled": true
   },
   "outputs": [],
   "source": [
    "content['Total Interactions']=content['Total Interactions'].astype(str).str.replace(',', '').astype(int)\n",
    "results = content.groupby(['MessageDescr']).aggregate({'MessageDescr': 'count','Likes': 'sum','Comments': 'sum', 'Shares': 'sum', 'Love': 'sum', 'Wow': 'sum', 'Haha': 'sum', 'Sad': 'sum',\n",
    "       'Angry': 'sum', 'Care': 'sum','Total Interactions':'sum'})\n",
    "results.rename(columns={\"MessageDescr\": \"counts\"}, inplace=True)\n",
    "\n",
    "\n",
    "results.to_csv(\"mostpopularLatinosFor\"+name+\".csv\")"
   ]
  },
  {
   "cell_type": "code",
   "execution_count": null,
   "metadata": {},
   "outputs": [],
   "source": [
    "results.sort_values(by='Total Interactions',ascending=False)"
   ]
  },
  {
   "cell_type": "code",
   "execution_count": null,
   "metadata": {},
   "outputs": [],
   "source": []
  },
  {
   "cell_type": "code",
   "execution_count": null,
   "metadata": {},
   "outputs": [],
   "source": []
  },
  {
   "cell_type": "code",
   "execution_count": null,
   "metadata": {},
   "outputs": [],
   "source": []
  }
 ],
 "metadata": {
  "kernelspec": {
   "display_name": "Python 3",
   "language": "python",
   "name": "python3"
  },
  "language_info": {
   "codemirror_mode": {
    "name": "ipython",
    "version": 3
   },
   "file_extension": ".py",
   "mimetype": "text/x-python",
   "name": "python",
   "nbconvert_exporter": "python",
   "pygments_lexer": "ipython3",
   "version": "3.6.4"
  }
 },
 "nbformat": 4,
 "nbformat_minor": 4
}
