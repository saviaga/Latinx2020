{
 "cells": [
  {
   "cell_type": "markdown",
   "metadata": {},
   "source": [
    "### Classify Facebook Pages or Groups according to the State they belong (using the Page/Group Name)"
   ]
  },
  {
   "cell_type": "code",
   "execution_count": 38,
   "metadata": {},
   "outputs": [],
   "source": [
    "import re\n",
    "import pandas as pd"
   ]
  },
  {
   "cell_type": "code",
   "execution_count": 39,
   "metadata": {},
   "outputs": [
    {
     "data": {
      "text/html": [
       "<div>\n",
       "<style scoped>\n",
       "    .dataframe tbody tr th:only-of-type {\n",
       "        vertical-align: middle;\n",
       "    }\n",
       "\n",
       "    .dataframe tbody tr th {\n",
       "        vertical-align: top;\n",
       "    }\n",
       "\n",
       "    .dataframe thead th {\n",
       "        text-align: right;\n",
       "    }\n",
       "</style>\n",
       "<table border=\"1\" class=\"dataframe\">\n",
       "  <thead>\n",
       "    <tr style=\"text-align: right;\">\n",
       "      <th></th>\n",
       "      <th>name</th>\n",
       "      <th>Page or Account URL</th>\n",
       "      <th>List</th>\n",
       "      <th>State</th>\n",
       "    </tr>\n",
       "  </thead>\n",
       "  <tbody>\n",
       "    <tr>\n",
       "      <th>0</th>\n",
       "      <td>Hispanos unidos en New York (H.U.N.Y)</td>\n",
       "      <td>https://www.facebook.com/groups/793416207356486</td>\n",
       "      <td>Latinos+EstadosGroups</td>\n",
       "      <td>New York</td>\n",
       "    </tr>\n",
       "    <tr>\n",
       "      <th>1</th>\n",
       "      <td>Hispanos en Columbus Ohio</td>\n",
       "      <td>https://www.facebook.com/groups/1450333408570918</td>\n",
       "      <td>Latinos+EstadosGroups</td>\n",
       "      <td>Columbus</td>\n",
       "    </tr>\n",
       "    <tr>\n",
       "      <th>2</th>\n",
       "      <td>Cristianos Hispanos en Dallas, Texas ( Metroplex)</td>\n",
       "      <td>https://www.facebook.com/groups/600361880064744</td>\n",
       "      <td>Latinos+EstadosGroups</td>\n",
       "      <td>Dallas</td>\n",
       "    </tr>\n",
       "  </tbody>\n",
       "</table>\n",
       "</div>"
      ],
      "text/plain": [
       "                                                name  \\\n",
       "0              Hispanos unidos en New York (H.U.N.Y)   \n",
       "1                          Hispanos en Columbus Ohio   \n",
       "2  Cristianos Hispanos en Dallas, Texas ( Metroplex)   \n",
       "\n",
       "                                Page or Account URL                   List  \\\n",
       "0   https://www.facebook.com/groups/793416207356486  Latinos+EstadosGroups   \n",
       "1  https://www.facebook.com/groups/1450333408570918  Latinos+EstadosGroups   \n",
       "2   https://www.facebook.com/groups/600361880064744  Latinos+EstadosGroups   \n",
       "\n",
       "      State  \n",
       "0  New York  \n",
       "1  Columbus  \n",
       "2    Dallas  "
      ]
     },
     "execution_count": 39,
     "metadata": {},
     "output_type": "execute_result"
    }
   ],
   "source": [
    "file = \"FBGroupsPolitical_cities.csv\"\n",
    "data = pd.read_csv(\"cscwDocs/parties/\"+file,error_bad_lines=False)\n",
    "data.head(3)"
   ]
  },
  {
   "cell_type": "markdown",
   "metadata": {},
   "source": [
    "### Clasify according to State"
   ]
  },
  {
   "cell_type": "code",
   "execution_count": 40,
   "metadata": {},
   "outputs": [
    {
     "data": {
      "text/plain": [
       "Index(['name', 'Page or Account URL', 'List', 'State'], dtype='object')"
      ]
     },
     "execution_count": 40,
     "metadata": {},
     "output_type": "execute_result"
    }
   ],
   "source": [
    "data.columns"
   ]
  },
  {
   "cell_type": "code",
   "execution_count": 41,
   "metadata": {
    "scrolled": true
   },
   "outputs": [
    {
     "data": {
      "text/plain": [
       "(497, 4)"
      ]
     },
     "execution_count": 41,
     "metadata": {},
     "output_type": "execute_result"
    }
   ],
   "source": [
    "data.shape"
   ]
  },
  {
   "cell_type": "markdown",
   "metadata": {},
   "source": [
    "### US States"
   ]
  },
  {
   "cell_type": "code",
   "execution_count": 42,
   "metadata": {},
   "outputs": [],
   "source": [
    "us_states = pd.DataFrame({'State':['Alabama','Alaska','Arizona','Arkansas','California','Colorado','Connecticut','Delaware','District of Columbia','Florida',\n",
    "             'Georgia','Hawaii','Idaho','Illinois','Indiana','Iowa','Kansas','Kentucky','Louisiana','Maine','Maryland','Massachusetts',\n",
    "             'Michigan','Minnesota','Mississippi','Missouri','Montana','Nebraska','Nevada','New Hampshire','New Jersey','New Mexico',\n",
    "             'New York','North Carolina','North Dakota','Ohio','Oklahoma','Oregon','Pennsylvania','Rhode Island','South Carolina',\n",
    "             'South Dakota','Tennessee','Texas','Utah','Vermont','Virginia','Washington','West Virginia','Wisconsin','Wyoming']})"
   ]
  },
  {
   "cell_type": "markdown",
   "metadata": {},
   "source": [
    "### US Main Cities"
   ]
  },
  {
   "cell_type": "code",
   "execution_count": 43,
   "metadata": {},
   "outputs": [
    {
     "data": {
      "text/plain": [
       "['McAllen',\n",
       " 'Austin',\n",
       " 'Katy',\n",
       " 'Woodlands',\n",
       " 'Dallas',\n",
       " 'DFW',\n",
       " 'Houston',\n",
       " 'El Paso',\n",
       " 'Arlington',\n",
       " 'San Antonio',\n",
       " 'New Braunfels']"
      ]
     },
     "execution_count": 43,
     "metadata": {},
     "output_type": "execute_result"
    }
   ],
   "source": [
    "us_cities = pd.DataFrame()\n",
    "us_cities = {'Texas': {'cities': ['McAllen','Austin','Katy','Woodlands','Dallas','DFW','Houston','El Paso','Arlington','San Antonio','New Braunfels']},\n",
    "          'Florida': {'cities': ['Kendall','Fort Lauderdale','SWFL','Miami','Orlando','Orlando','Palm Beach','Tampa']},\n",
    "          'California': {'cities': ['Carlsbad','Kissimmee','Los Angeles','San Diego','San Francisco','Oakland','San Bernardino','Riverside']},\n",
    "          'Illinois': {'cities': ['Chicago','Elgin']},\n",
    "          'Arizona': {'cities': ['Phoenix']},\n",
    "          'North Carolina': {'cities': ['Charlotte','Fayetteville']}, \n",
    "          'Ohio': {'cities': ['cincinnati','Columbus']}, \n",
    "          'Georgia': {'cities': ['Atlanta','Savannah']}, \n",
    "          'Utah': {'cities': ['Salt Lake City']},\n",
    "          'New Jersey': {'cities': ['Plainfields','NJ']},\n",
    "          'Nevada': {'cities': ['Las Vegas']},\n",
    "          'New York': {'cities': ['NY']},  \n",
    "          'Tennessee': {'cities': ['Nashville']},  \n",
    "          'Massachusetts': {'cities': ['Boston']}, \n",
    "          'Colorado': {'cities': ['Boulder']}, \n",
    "            }\n",
    "\n",
    "\n",
    "us_cities['Texas']['cities']"
   ]
  },
  {
   "cell_type": "code",
   "execution_count": 44,
   "metadata": {},
   "outputs": [],
   "source": [
    "def classify_by_state(row):\n",
    "    name = row['name'].lower()\n",
    "    for elem in us_states['State']:\n",
    "        if elem.lower() in name:          \n",
    "            return elem\n",
    "        else:\n",
    "            for city in us_cities:\n",
    "                for elem in (us_cities[city]['cities']):\n",
    "                    if elem.lower() in name:\n",
    "                        return city"
   ]
  },
  {
   "cell_type": "code",
   "execution_count": 47,
   "metadata": {},
   "outputs": [
    {
     "data": {
      "text/plain": [
       "0"
      ]
     },
     "execution_count": 47,
     "metadata": {},
     "output_type": "execute_result"
    }
   ],
   "source": [
    "fb_data = pd.DataFrame()\n",
    "data['State']=data.apply(classify_by_state, axis=1)\n",
    "data['State'].isna().sum()"
   ]
  },
  {
   "cell_type": "code",
   "execution_count": 48,
   "metadata": {},
   "outputs": [
    {
     "data": {
      "text/html": [
       "<div>\n",
       "<style scoped>\n",
       "    .dataframe tbody tr th:only-of-type {\n",
       "        vertical-align: middle;\n",
       "    }\n",
       "\n",
       "    .dataframe tbody tr th {\n",
       "        vertical-align: top;\n",
       "    }\n",
       "\n",
       "    .dataframe thead th {\n",
       "        text-align: right;\n",
       "    }\n",
       "</style>\n",
       "<table border=\"1\" class=\"dataframe\">\n",
       "  <thead>\n",
       "    <tr style=\"text-align: right;\">\n",
       "      <th></th>\n",
       "      <th>name</th>\n",
       "      <th>Page or Account URL</th>\n",
       "      <th>List</th>\n",
       "      <th>State</th>\n",
       "      <th>state</th>\n",
       "    </tr>\n",
       "  </thead>\n",
       "  <tbody>\n",
       "  </tbody>\n",
       "</table>\n",
       "</div>"
      ],
      "text/plain": [
       "Empty DataFrame\n",
       "Columns: [name, Page or Account URL, List, State, state]\n",
       "Index: []"
      ]
     },
     "execution_count": 48,
     "metadata": {},
     "output_type": "execute_result"
    }
   ],
   "source": [
    "review = data[data['State'].isna()]\n",
    "review.head(3)"
   ]
  },
  {
   "cell_type": "code",
   "execution_count": 49,
   "metadata": {},
   "outputs": [],
   "source": [
    "review.to_csv(\"reviewciies.csv\",index=False)"
   ]
  },
  {
   "cell_type": "code",
   "execution_count": 50,
   "metadata": {},
   "outputs": [
    {
     "data": {
      "text/html": [
       "<div>\n",
       "<style scoped>\n",
       "    .dataframe tbody tr th:only-of-type {\n",
       "        vertical-align: middle;\n",
       "    }\n",
       "\n",
       "    .dataframe tbody tr th {\n",
       "        vertical-align: top;\n",
       "    }\n",
       "\n",
       "    .dataframe thead th {\n",
       "        text-align: right;\n",
       "    }\n",
       "</style>\n",
       "<table border=\"1\" class=\"dataframe\">\n",
       "  <thead>\n",
       "    <tr style=\"text-align: right;\">\n",
       "      <th></th>\n",
       "      <th>name</th>\n",
       "      <th>Page or Account URL</th>\n",
       "      <th>List</th>\n",
       "      <th>State</th>\n",
       "      <th>state</th>\n",
       "    </tr>\n",
       "  </thead>\n",
       "  <tbody>\n",
       "    <tr>\n",
       "      <th>0</th>\n",
       "      <td>Hispanos unidos en New York (H.U.N.Y)</td>\n",
       "      <td>https://www.facebook.com/groups/793416207356486</td>\n",
       "      <td>Latinos+EstadosGroups</td>\n",
       "      <td>New York</td>\n",
       "      <td>New York</td>\n",
       "    </tr>\n",
       "    <tr>\n",
       "      <th>1</th>\n",
       "      <td>Hispanos en Columbus Ohio</td>\n",
       "      <td>https://www.facebook.com/groups/1450333408570918</td>\n",
       "      <td>Latinos+EstadosGroups</td>\n",
       "      <td>Ohio</td>\n",
       "      <td>Ohio</td>\n",
       "    </tr>\n",
       "    <tr>\n",
       "      <th>2</th>\n",
       "      <td>Cristianos Hispanos en Dallas, Texas ( Metroplex)</td>\n",
       "      <td>https://www.facebook.com/groups/600361880064744</td>\n",
       "      <td>Latinos+EstadosGroups</td>\n",
       "      <td>Texas</td>\n",
       "      <td>Texas</td>\n",
       "    </tr>\n",
       "    <tr>\n",
       "      <th>3</th>\n",
       "      <td>Hispanos en Oklahoma</td>\n",
       "      <td>https://www.facebook.com/groups/1160877743977648</td>\n",
       "      <td>Latinos+EstadosGroups</td>\n",
       "      <td>Oklahoma</td>\n",
       "      <td>Oklahoma</td>\n",
       "    </tr>\n",
       "    <tr>\n",
       "      <th>4</th>\n",
       "      <td>Hispanos unidos en el gabacho (Tennessee)</td>\n",
       "      <td>https://www.facebook.com/groups/2663330647279121</td>\n",
       "      <td>Latinos+EstadosGroups</td>\n",
       "      <td>Tennessee</td>\n",
       "      <td>Tennessee</td>\n",
       "    </tr>\n",
       "    <tr>\n",
       "      <th>...</th>\n",
       "      <td>...</td>\n",
       "      <td>...</td>\n",
       "      <td>...</td>\n",
       "      <td>...</td>\n",
       "      <td>...</td>\n",
       "    </tr>\n",
       "    <tr>\n",
       "      <th>492</th>\n",
       "      <td>Latinos en SWFL</td>\n",
       "      <td>https://www.facebook.com/groups/125398434802756</td>\n",
       "      <td>Latinos+EstadosGroups</td>\n",
       "      <td>Florida</td>\n",
       "      <td>Florida</td>\n",
       "    </tr>\n",
       "    <tr>\n",
       "      <th>493</th>\n",
       "      <td>Latinos en Fayetteville NC</td>\n",
       "      <td>https://www.facebook.com/groups/330153457746158</td>\n",
       "      <td>Latinos+EstadosGroups</td>\n",
       "      <td>North Carolina</td>\n",
       "      <td>North Carolina</td>\n",
       "    </tr>\n",
       "    <tr>\n",
       "      <th>494</th>\n",
       "      <td>LATINOS EN UTAH</td>\n",
       "      <td>https://www.facebook.com/groups/147690845007</td>\n",
       "      <td>Latinos+EstadosGroups</td>\n",
       "      <td>Utah</td>\n",
       "      <td>Utah</td>\n",
       "    </tr>\n",
       "    <tr>\n",
       "      <th>495</th>\n",
       "      <td>Latinos en los Angeles California compra y venta</td>\n",
       "      <td>https://www.facebook.com/groups/166308334272338</td>\n",
       "      <td>Latinos+EstadosGroups</td>\n",
       "      <td>California</td>\n",
       "      <td>California</td>\n",
       "    </tr>\n",
       "    <tr>\n",
       "      <th>496</th>\n",
       "      <td>Latinos en Tampa Bay official</td>\n",
       "      <td>https://www.facebook.com/groups/1422333744524670</td>\n",
       "      <td>Latinos+EstadosGroups</td>\n",
       "      <td>Florida</td>\n",
       "      <td>Florida</td>\n",
       "    </tr>\n",
       "  </tbody>\n",
       "</table>\n",
       "<p>497 rows × 5 columns</p>\n",
       "</div>"
      ],
      "text/plain": [
       "                                                  name  \\\n",
       "0                Hispanos unidos en New York (H.U.N.Y)   \n",
       "1                            Hispanos en Columbus Ohio   \n",
       "2    Cristianos Hispanos en Dallas, Texas ( Metroplex)   \n",
       "3                                 Hispanos en Oklahoma   \n",
       "4            Hispanos unidos en el gabacho (Tennessee)   \n",
       "..                                                 ...   \n",
       "492                                    Latinos en SWFL   \n",
       "493                         Latinos en Fayetteville NC   \n",
       "494                                    LATINOS EN UTAH   \n",
       "495   Latinos en los Angeles California compra y venta   \n",
       "496                      Latinos en Tampa Bay official   \n",
       "\n",
       "                                  Page or Account URL                   List  \\\n",
       "0     https://www.facebook.com/groups/793416207356486  Latinos+EstadosGroups   \n",
       "1    https://www.facebook.com/groups/1450333408570918  Latinos+EstadosGroups   \n",
       "2     https://www.facebook.com/groups/600361880064744  Latinos+EstadosGroups   \n",
       "3    https://www.facebook.com/groups/1160877743977648  Latinos+EstadosGroups   \n",
       "4    https://www.facebook.com/groups/2663330647279121  Latinos+EstadosGroups   \n",
       "..                                                ...                    ...   \n",
       "492   https://www.facebook.com/groups/125398434802756  Latinos+EstadosGroups   \n",
       "493   https://www.facebook.com/groups/330153457746158  Latinos+EstadosGroups   \n",
       "494      https://www.facebook.com/groups/147690845007  Latinos+EstadosGroups   \n",
       "495   https://www.facebook.com/groups/166308334272338  Latinos+EstadosGroups   \n",
       "496  https://www.facebook.com/groups/1422333744524670  Latinos+EstadosGroups   \n",
       "\n",
       "              State           state  \n",
       "0          New York        New York  \n",
       "1              Ohio            Ohio  \n",
       "2             Texas           Texas  \n",
       "3          Oklahoma        Oklahoma  \n",
       "4         Tennessee       Tennessee  \n",
       "..              ...             ...  \n",
       "492         Florida         Florida  \n",
       "493  North Carolina  North Carolina  \n",
       "494            Utah            Utah  \n",
       "495      California      California  \n",
       "496         Florida         Florida  \n",
       "\n",
       "[497 rows x 5 columns]"
      ]
     },
     "execution_count": 50,
     "metadata": {},
     "output_type": "execute_result"
    }
   ],
   "source": [
    "fb_data = data[~data['State'].isna()]\n",
    "fb_data"
   ]
  },
  {
   "cell_type": "code",
   "execution_count": 51,
   "metadata": {},
   "outputs": [],
   "source": [
    "fb_data.to_csv(\"cscwDocs/parties/\"+file,index=False)"
   ]
  },
  {
   "cell_type": "code",
   "execution_count": null,
   "metadata": {},
   "outputs": [],
   "source": []
  }
 ],
 "metadata": {
  "kernelspec": {
   "display_name": "Latinx2020env",
   "language": "python",
   "name": "latinx2020env"
  },
  "language_info": {
   "codemirror_mode": {
    "name": "ipython",
    "version": 3
   },
   "file_extension": ".py",
   "mimetype": "text/x-python",
   "name": "python",
   "nbconvert_exporter": "python",
   "pygments_lexer": "ipython3",
   "version": "3.8.5"
  }
 },
 "nbformat": 4,
 "nbformat_minor": 4
}
