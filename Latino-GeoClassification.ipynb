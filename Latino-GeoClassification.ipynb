{
 "cells": [
  {
   "cell_type": "code",
   "execution_count": 33,
   "metadata": {},
   "outputs": [],
   "source": [
    "import re\n",
    "import pandas as pd"
   ]
  },
  {
   "cell_type": "code",
   "execution_count": 237,
   "metadata": {},
   "outputs": [
    {
     "data": {
      "text/html": [
       "<div>\n",
       "<style scoped>\n",
       "    .dataframe tbody tr th:only-of-type {\n",
       "        vertical-align: middle;\n",
       "    }\n",
       "\n",
       "    .dataframe tbody tr th {\n",
       "        vertical-align: top;\n",
       "    }\n",
       "\n",
       "    .dataframe thead th {\n",
       "        text-align: right;\n",
       "    }\n",
       "</style>\n",
       "<table border=\"1\" class=\"dataframe\">\n",
       "  <thead>\n",
       "    <tr style=\"text-align: right;\">\n",
       "      <th></th>\n",
       "      <th>name</th>\n",
       "      <th>Page or Account URL</th>\n",
       "      <th>List</th>\n",
       "    </tr>\n",
       "  </thead>\n",
       "  <tbody>\n",
       "    <tr>\n",
       "      <th>0</th>\n",
       "      <td>Trabajos Hispanos en New York</td>\n",
       "      <td>https://www.facebook.com/115818805455671</td>\n",
       "      <td>LatinosPagesPolitical</td>\n",
       "    </tr>\n",
       "    <tr>\n",
       "      <th>1</th>\n",
       "      <td>Utah Latino Republicans</td>\n",
       "      <td>https://www.facebook.com/443879169772342</td>\n",
       "      <td>LatinosPagesPolitical</td>\n",
       "    </tr>\n",
       "    <tr>\n",
       "      <th>2</th>\n",
       "      <td>Zelda Latino New York</td>\n",
       "      <td>https://www.facebook.com/104115684360170</td>\n",
       "      <td>LatinosPagesPolitical</td>\n",
       "    </tr>\n",
       "  </tbody>\n",
       "</table>\n",
       "</div>"
      ],
      "text/plain": [
       "                            name                       Page or Account URL  \\\n",
       "0  Trabajos Hispanos en New York  https://www.facebook.com/115818805455671   \n",
       "1        Utah Latino Republicans  https://www.facebook.com/443879169772342   \n",
       "2          Zelda Latino New York  https://www.facebook.com/104115684360170   \n",
       "\n",
       "                    List  \n",
       "0  LatinosPagesPolitical  \n",
       "1  LatinosPagesPolitical  \n",
       "2  LatinosPagesPolitical  "
      ]
     },
     "execution_count": 237,
     "metadata": {},
     "output_type": "execute_result"
    }
   ],
   "source": [
    "file = \"FBGroupsPolitical_cities.csv\"\n",
    "data = pd.read_csv(\"cscwDocs/\"+file,error_bad_lines=False)\n",
    "data.head(3)"
   ]
  },
  {
   "cell_type": "markdown",
   "metadata": {},
   "source": [
    "### Clasify according to State"
   ]
  },
  {
   "cell_type": "code",
   "execution_count": 238,
   "metadata": {},
   "outputs": [
    {
     "data": {
      "text/plain": [
       "Index(['name', 'Page or Account URL', 'List'], dtype='object')"
      ]
     },
     "execution_count": 238,
     "metadata": {},
     "output_type": "execute_result"
    }
   ],
   "source": [
    "data.columns"
   ]
  },
  {
   "cell_type": "code",
   "execution_count": 239,
   "metadata": {
    "scrolled": true
   },
   "outputs": [
    {
     "data": {
      "text/plain": [
       "(337, 3)"
      ]
     },
     "execution_count": 239,
     "metadata": {},
     "output_type": "execute_result"
    }
   ],
   "source": [
    "data.shape"
   ]
  },
  {
   "cell_type": "markdown",
   "metadata": {},
   "source": [
    "### US States"
   ]
  },
  {
   "cell_type": "code",
   "execution_count": 240,
   "metadata": {},
   "outputs": [],
   "source": [
    "us_states = pd.DataFrame({'State':['Alabama','Alaska','Arizona','Arkansas','California','Colorado','Connecticut','Delaware','District of Columbia','Florida',\n",
    "             'Georgia','Hawaii','Idaho','Illinois','Indiana','Iowa','Kansas','Kentucky','Louisiana','Maine','Maryland','Massachusetts',\n",
    "             'Michigan','Minnesota','Mississippi','Missouri','Montana','Nebraska','Nevada','New Hampshire','New Jersey','New Mexico',\n",
    "             'New York','North Carolina','North Dakota','Ohio','Oklahoma','Oregon','Pennsylvania','Rhode Island','South Carolina',\n",
    "             'South Dakota','Tennessee','Texas','Utah','Vermont','Virginia','Washington','West Virginia','Wisconsin','Wyoming']})"
   ]
  },
  {
   "cell_type": "markdown",
   "metadata": {},
   "source": [
    "### US Main Cities"
   ]
  },
  {
   "cell_type": "code",
   "execution_count": 241,
   "metadata": {},
   "outputs": [
    {
     "data": {
      "text/plain": [
       "['McAllen',\n",
       " 'Austin',\n",
       " 'Katy',\n",
       " 'Woodlands',\n",
       " 'Dallas',\n",
       " 'DFW',\n",
       " 'Houston',\n",
       " 'El Paso',\n",
       " 'Arlington',\n",
       " 'San Antonio',\n",
       " 'New Braunfels']"
      ]
     },
     "execution_count": 241,
     "metadata": {},
     "output_type": "execute_result"
    }
   ],
   "source": [
    "us_cities = pd.DataFrame()\n",
    "us_cities = {'Texas': {'cities': ['McAllen','Austin','Katy','Woodlands','Dallas','DFW','Houston','El Paso','Arlington','San Antonio','New Braunfels']},\n",
    "          'Florida': {'cities': ['Kendall','Fort Lauderdale','SWFL','Miami','Orlando','Orlando','Palm Beach','Tampa']},\n",
    "          'California': {'cities': ['Carlsbad','Kissimmee','Los Angeles','San Diego','San Francisco','Oakland','San Bernardino','Riverside']},\n",
    "          'Illinois': {'cities': ['Chicago','Elgin']},\n",
    "          'Arizona': {'cities': ['Phoenix']},\n",
    "          'North Carolina': {'cities': ['Charlotte','Fayetteville']}, \n",
    "          'Ohio': {'cities': ['cincinnati','Columbus']}, \n",
    "          'Georgia': {'cities': ['Atlanta','Savannah']}, \n",
    "          'Utah': {'cities': ['Salt Lake City']},\n",
    "          'New Jersey': {'cities': ['Plainfields','NJ']},\n",
    "          'Nevada': {'cities': ['Las Vegas']},\n",
    "          'New York': {'cities': ['NY']},  \n",
    "          'Tennessee': {'cities': ['Nashville']},  \n",
    "          'Massachusetts': {'cities': ['Boston']}, \n",
    "          'Colorado': {'cities': ['Boulder']}, \n",
    "            }\n",
    "\n",
    "\n",
    "us_cities['Texas']['cities']"
   ]
  },
  {
   "cell_type": "code",
   "execution_count": 242,
   "metadata": {},
   "outputs": [],
   "source": [
    "def classify_by_state(row):\n",
    "    name = row['name'].lower()\n",
    "    for elem in us_states['State']:\n",
    "        if elem.lower() in name:          \n",
    "            return elem\n",
    "        else:\n",
    "            for city in us_cities:\n",
    "                for elem in (us_cities[city]['cities']):\n",
    "                    if elem.lower() in name:\n",
    "                        return city"
   ]
  },
  {
   "cell_type": "code",
   "execution_count": 243,
   "metadata": {},
   "outputs": [
    {
     "data": {
      "text/plain": [
       "27"
      ]
     },
     "execution_count": 243,
     "metadata": {},
     "output_type": "execute_result"
    }
   ],
   "source": [
    "fb_data = pd.DataFrame()\n",
    "data['state']=data.apply(classify_by_state, axis=1)\n",
    "data['state'].isna().sum()"
   ]
  },
  {
   "cell_type": "code",
   "execution_count": 244,
   "metadata": {},
   "outputs": [
    {
     "data": {
      "text/html": [
       "<div>\n",
       "<style scoped>\n",
       "    .dataframe tbody tr th:only-of-type {\n",
       "        vertical-align: middle;\n",
       "    }\n",
       "\n",
       "    .dataframe tbody tr th {\n",
       "        vertical-align: top;\n",
       "    }\n",
       "\n",
       "    .dataframe thead th {\n",
       "        text-align: right;\n",
       "    }\n",
       "</style>\n",
       "<table border=\"1\" class=\"dataframe\">\n",
       "  <thead>\n",
       "    <tr style=\"text-align: right;\">\n",
       "      <th></th>\n",
       "      <th>name</th>\n",
       "      <th>Page or Account URL</th>\n",
       "      <th>List</th>\n",
       "      <th>state</th>\n",
       "    </tr>\n",
       "  </thead>\n",
       "  <tbody>\n",
       "    <tr>\n",
       "      <th>6</th>\n",
       "      <td>Mission Cultural Center for Latino Arts</td>\n",
       "      <td>https://www.facebook.com/32424369914</td>\n",
       "      <td>LatinosPagesPolitical</td>\n",
       "      <td>None</td>\n",
       "    </tr>\n",
       "    <tr>\n",
       "      <th>181</th>\n",
       "      <td>Mesa Association of Hispanic Citizens</td>\n",
       "      <td>https://www.facebook.com/405716996135910</td>\n",
       "      <td>LatinosPagesPolitical</td>\n",
       "      <td>None</td>\n",
       "    </tr>\n",
       "    <tr>\n",
       "      <th>193</th>\n",
       "      <td>Real Latinos for Trump 2020</td>\n",
       "      <td>https://www.facebook.com/395008724187490</td>\n",
       "      <td>LatinosPagesPolitical</td>\n",
       "      <td>None</td>\n",
       "    </tr>\n",
       "  </tbody>\n",
       "</table>\n",
       "</div>"
      ],
      "text/plain": [
       "                                        name  \\\n",
       "6    Mission Cultural Center for Latino Arts   \n",
       "181    Mesa Association of Hispanic Citizens   \n",
       "193              Real Latinos for Trump 2020   \n",
       "\n",
       "                          Page or Account URL                   List state  \n",
       "6        https://www.facebook.com/32424369914  LatinosPagesPolitical  None  \n",
       "181  https://www.facebook.com/405716996135910  LatinosPagesPolitical  None  \n",
       "193  https://www.facebook.com/395008724187490  LatinosPagesPolitical  None  "
      ]
     },
     "execution_count": 244,
     "metadata": {},
     "output_type": "execute_result"
    }
   ],
   "source": [
    "review = data[data['state'].isna()]\n",
    "review.head(3)"
   ]
  },
  {
   "cell_type": "code",
   "execution_count": 245,
   "metadata": {},
   "outputs": [],
   "source": [
    "review.to_csv(\"reviewciies.csv\",index=False)"
   ]
  },
  {
   "cell_type": "code",
   "execution_count": 246,
   "metadata": {},
   "outputs": [
    {
     "data": {
      "text/html": [
       "<div>\n",
       "<style scoped>\n",
       "    .dataframe tbody tr th:only-of-type {\n",
       "        vertical-align: middle;\n",
       "    }\n",
       "\n",
       "    .dataframe tbody tr th {\n",
       "        vertical-align: top;\n",
       "    }\n",
       "\n",
       "    .dataframe thead th {\n",
       "        text-align: right;\n",
       "    }\n",
       "</style>\n",
       "<table border=\"1\" class=\"dataframe\">\n",
       "  <thead>\n",
       "    <tr style=\"text-align: right;\">\n",
       "      <th></th>\n",
       "      <th>name</th>\n",
       "      <th>Page or Account URL</th>\n",
       "      <th>List</th>\n",
       "      <th>state</th>\n",
       "    </tr>\n",
       "  </thead>\n",
       "  <tbody>\n",
       "    <tr>\n",
       "      <th>0</th>\n",
       "      <td>Trabajos Hispanos en New York</td>\n",
       "      <td>https://www.facebook.com/115818805455671</td>\n",
       "      <td>LatinosPagesPolitical</td>\n",
       "      <td>New York</td>\n",
       "    </tr>\n",
       "    <tr>\n",
       "      <th>1</th>\n",
       "      <td>Utah Latino Republicans</td>\n",
       "      <td>https://www.facebook.com/443879169772342</td>\n",
       "      <td>LatinosPagesPolitical</td>\n",
       "      <td>Utah</td>\n",
       "    </tr>\n",
       "    <tr>\n",
       "      <th>2</th>\n",
       "      <td>Zelda Latino New York</td>\n",
       "      <td>https://www.facebook.com/104115684360170</td>\n",
       "      <td>LatinosPagesPolitical</td>\n",
       "      <td>New York</td>\n",
       "    </tr>\n",
       "    <tr>\n",
       "      <th>3</th>\n",
       "      <td>Latino Mix Dallas</td>\n",
       "      <td>https://www.facebook.com/373210132732581</td>\n",
       "      <td>LatinosPagesPolitical</td>\n",
       "      <td>Texas</td>\n",
       "    </tr>\n",
       "    <tr>\n",
       "      <th>4</th>\n",
       "      <td>Latino Mix Chicago</td>\n",
       "      <td>https://www.facebook.com/250085535056159</td>\n",
       "      <td>LatinosPagesPolitical</td>\n",
       "      <td>Illinois</td>\n",
       "    </tr>\n",
       "    <tr>\n",
       "      <th>...</th>\n",
       "      <td>...</td>\n",
       "      <td>...</td>\n",
       "      <td>...</td>\n",
       "      <td>...</td>\n",
       "    </tr>\n",
       "    <tr>\n",
       "      <th>332</th>\n",
       "      <td>Solteros Latinos en New York</td>\n",
       "      <td>https://www.facebook.com/471488416527190</td>\n",
       "      <td>LatinosPagesPolitical</td>\n",
       "      <td>New York</td>\n",
       "    </tr>\n",
       "    <tr>\n",
       "      <th>333</th>\n",
       "      <td>Latinos / Hispanics Over 40 New York, NY</td>\n",
       "      <td>https://www.facebook.com/1635374083385330</td>\n",
       "      <td>LatinosPagesPolitical</td>\n",
       "      <td>New York</td>\n",
       "    </tr>\n",
       "    <tr>\n",
       "      <th>334</th>\n",
       "      <td>Latinos En La Ciudad de New York by the Fox</td>\n",
       "      <td>https://www.facebook.com/1001653156892562</td>\n",
       "      <td>LatinosPagesPolitical</td>\n",
       "      <td>New York</td>\n",
       "    </tr>\n",
       "    <tr>\n",
       "      <th>335</th>\n",
       "      <td>Houston Latinos</td>\n",
       "      <td>https://www.facebook.com/1816508631909498</td>\n",
       "      <td>LatinosPagesPolitical</td>\n",
       "      <td>Texas</td>\n",
       "    </tr>\n",
       "    <tr>\n",
       "      <th>336</th>\n",
       "      <td>Virginia Latinos for Trump</td>\n",
       "      <td>https://www.facebook.com/112319103528503</td>\n",
       "      <td>LatinosPagesPolitical</td>\n",
       "      <td>Virginia</td>\n",
       "    </tr>\n",
       "  </tbody>\n",
       "</table>\n",
       "<p>310 rows × 4 columns</p>\n",
       "</div>"
      ],
      "text/plain": [
       "                                            name  \\\n",
       "0                  Trabajos Hispanos en New York   \n",
       "1                        Utah Latino Republicans   \n",
       "2                          Zelda Latino New York   \n",
       "3                              Latino Mix Dallas   \n",
       "4                             Latino Mix Chicago   \n",
       "..                                           ...   \n",
       "332                 Solteros Latinos en New York   \n",
       "333     Latinos / Hispanics Over 40 New York, NY   \n",
       "334  Latinos En La Ciudad de New York by the Fox   \n",
       "335                              Houston Latinos   \n",
       "336                   Virginia Latinos for Trump   \n",
       "\n",
       "                           Page or Account URL                   List  \\\n",
       "0     https://www.facebook.com/115818805455671  LatinosPagesPolitical   \n",
       "1     https://www.facebook.com/443879169772342  LatinosPagesPolitical   \n",
       "2     https://www.facebook.com/104115684360170  LatinosPagesPolitical   \n",
       "3     https://www.facebook.com/373210132732581  LatinosPagesPolitical   \n",
       "4     https://www.facebook.com/250085535056159  LatinosPagesPolitical   \n",
       "..                                         ...                    ...   \n",
       "332   https://www.facebook.com/471488416527190  LatinosPagesPolitical   \n",
       "333  https://www.facebook.com/1635374083385330  LatinosPagesPolitical   \n",
       "334  https://www.facebook.com/1001653156892562  LatinosPagesPolitical   \n",
       "335  https://www.facebook.com/1816508631909498  LatinosPagesPolitical   \n",
       "336   https://www.facebook.com/112319103528503  LatinosPagesPolitical   \n",
       "\n",
       "        state  \n",
       "0    New York  \n",
       "1        Utah  \n",
       "2    New York  \n",
       "3       Texas  \n",
       "4    Illinois  \n",
       "..        ...  \n",
       "332  New York  \n",
       "333  New York  \n",
       "334  New York  \n",
       "335     Texas  \n",
       "336  Virginia  \n",
       "\n",
       "[310 rows x 4 columns]"
      ]
     },
     "execution_count": 246,
     "metadata": {},
     "output_type": "execute_result"
    }
   ],
   "source": [
    "fb_data = data[~data['state'].isna()]\n",
    "fb_data"
   ]
  },
  {
   "cell_type": "code",
   "execution_count": 247,
   "metadata": {},
   "outputs": [],
   "source": [
    "fb_data.to_csv(\"cscwDocs/parties/\"+file,index=False)"
   ]
  },
  {
   "cell_type": "code",
   "execution_count": null,
   "metadata": {},
   "outputs": [],
   "source": []
  }
 ],
 "metadata": {
  "kernelspec": {
   "display_name": "Latinx2020env",
   "language": "python",
   "name": "latinx2020env"
  },
  "language_info": {
   "codemirror_mode": {
    "name": "ipython",
    "version": 3
   },
   "file_extension": ".py",
   "mimetype": "text/x-python",
   "name": "python",
   "nbconvert_exporter": "python",
   "pygments_lexer": "ipython3",
   "version": "3.8.5"
  }
 },
 "nbformat": 4,
 "nbformat_minor": 4
}
