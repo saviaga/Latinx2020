{
 "cells": [
  {
   "cell_type": "code",
   "execution_count": 29,
   "metadata": {},
   "outputs": [],
   "source": [
    "import re\n",
    "import pandas as pd"
   ]
  },
  {
   "cell_type": "code",
   "execution_count": 30,
   "metadata": {},
   "outputs": [
    {
     "data": {
      "text/html": [
       "<div>\n",
       "<style scoped>\n",
       "    .dataframe tbody tr th:only-of-type {\n",
       "        vertical-align: middle;\n",
       "    }\n",
       "\n",
       "    .dataframe tbody tr th {\n",
       "        vertical-align: top;\n",
       "    }\n",
       "\n",
       "    .dataframe thead th {\n",
       "        text-align: right;\n",
       "    }\n",
       "</style>\n",
       "<table border=\"1\" class=\"dataframe\">\n",
       "  <thead>\n",
       "    <tr style=\"text-align: right;\">\n",
       "      <th></th>\n",
       "      <th>name</th>\n",
       "      <th>Page or Account URL</th>\n",
       "      <th>List</th>\n",
       "    </tr>\n",
       "  </thead>\n",
       "  <tbody>\n",
       "    <tr>\n",
       "      <th>0</th>\n",
       "      <td>Hispanos unidos en New York (H.U.N.Y)</td>\n",
       "      <td>https://www.facebook.com/groups/793416207356486</td>\n",
       "      <td>LatinosGroupsPolitical</td>\n",
       "    </tr>\n",
       "    <tr>\n",
       "      <th>1</th>\n",
       "      <td>Hispanos en Columbus Ohio</td>\n",
       "      <td>https://www.facebook.com/groups/1450333408570918</td>\n",
       "      <td>LatinosGroupsPolitical</td>\n",
       "    </tr>\n",
       "    <tr>\n",
       "      <th>2</th>\n",
       "      <td>Cristianos Hispanos en Dallas, Texas ( Metroplex)</td>\n",
       "      <td>https://www.facebook.com/groups/600361880064744</td>\n",
       "      <td>LatinosGroupsPolitical</td>\n",
       "    </tr>\n",
       "  </tbody>\n",
       "</table>\n",
       "</div>"
      ],
      "text/plain": [
       "                                                name  \\\n",
       "0              Hispanos unidos en New York (H.U.N.Y)   \n",
       "1                          Hispanos en Columbus Ohio   \n",
       "2  Cristianos Hispanos en Dallas, Texas ( Metroplex)   \n",
       "\n",
       "                                Page or Account URL                    List  \n",
       "0   https://www.facebook.com/groups/793416207356486  LatinosGroupsPolitical  \n",
       "1  https://www.facebook.com/groups/1450333408570918  LatinosGroupsPolitical  \n",
       "2   https://www.facebook.com/groups/600361880064744  LatinosGroupsPolitical  "
      ]
     },
     "execution_count": 30,
     "metadata": {},
     "output_type": "execute_result"
    }
   ],
   "source": [
    "file = \"FBPagesPolitical_Cities.csv\"\n",
    "data = pd.read_csv(\"cscwDocs/\"+file,error_bad_lines=False)\n",
    "data.head(3)"
   ]
  },
  {
   "cell_type": "markdown",
   "metadata": {},
   "source": [
    "### Clasify according to political party"
   ]
  },
  {
   "cell_type": "code",
   "execution_count": 31,
   "metadata": {},
   "outputs": [
    {
     "data": {
      "text/plain": [
       "Index(['name', 'Page or Account URL', 'List'], dtype='object')"
      ]
     },
     "execution_count": 31,
     "metadata": {},
     "output_type": "execute_result"
    }
   ],
   "source": [
    "data.columns"
   ]
  },
  {
   "cell_type": "code",
   "execution_count": 32,
   "metadata": {},
   "outputs": [
    {
     "data": {
      "text/plain": [
       "(556, 3)"
      ]
     },
     "execution_count": 32,
     "metadata": {},
     "output_type": "execute_result"
    }
   ],
   "source": [
    "data.shape"
   ]
  },
  {
   "cell_type": "code",
   "execution_count": 33,
   "metadata": {},
   "outputs": [],
   "source": [
    "def classify_by_party(row):\n",
    "    pro = ['para','por','for','with','support','con']\n",
    "    opp = ['contra','against','vs']   \n",
    "    republican = ['trump','pence','republican','republicans']\n",
    "    democrat = ['biden','harris','democrat','democrats','democratic']\n",
    "    name = row['name'].lower()\n",
    "    \n",
    "    #Republican\n",
    "    if any(re.search(r'\\b' + word_item + r'\\b', name) for word_item in pro) and any(re.search(r'\\b' + party + r'\\b', name) for party in republican):\n",
    "        return 'Republican'\n",
    "    \n",
    "    #Democrat \n",
    "    elif any(re.search(r'\\b' + word_item + r'\\b', name) for word_item in opp) and any(re.search(r'\\b' + party + r'\\b', name) for party in republican): \n",
    "        return 'Democrat'\n",
    "    \n",
    "    #Democrat\n",
    "    elif any(re.search(r'\\b' + word_item + r'\\b', name)  for word_item in pro) and any(re.search(r'\\b' + party + r'\\b', name) for party in democrat):\n",
    "        return 'Democrat'\n",
    "    \n",
    "    #Republican\n",
    "    elif any(re.search(r'\\b' + word_item + r'\\b', name) for word_item in opp) and any(re.search(r'\\b' + party + r'\\b', name) for party in democrat):       \n",
    "        return 'Republican'\n",
    "    \n",
    "    elif any(re.search(r'\\b' + party + r'\\b', name) for party in democrat):\n",
    "        return 'Democrat'\n",
    "    elif any(re.search(r'\\b' + party + r'\\b', name) for party in republican):\n",
    "        return 'Republican'"
   ]
  },
  {
   "cell_type": "code",
   "execution_count": 34,
   "metadata": {},
   "outputs": [
    {
     "data": {
      "text/html": [
       "<div>\n",
       "<style scoped>\n",
       "    .dataframe tbody tr th:only-of-type {\n",
       "        vertical-align: middle;\n",
       "    }\n",
       "\n",
       "    .dataframe tbody tr th {\n",
       "        vertical-align: top;\n",
       "    }\n",
       "\n",
       "    .dataframe thead th {\n",
       "        text-align: right;\n",
       "    }\n",
       "</style>\n",
       "<table border=\"1\" class=\"dataframe\">\n",
       "  <thead>\n",
       "    <tr style=\"text-align: right;\">\n",
       "      <th></th>\n",
       "      <th>name</th>\n",
       "      <th>Page or Account URL</th>\n",
       "      <th>List</th>\n",
       "      <th>party</th>\n",
       "    </tr>\n",
       "  </thead>\n",
       "  <tbody>\n",
       "    <tr>\n",
       "      <th>0</th>\n",
       "      <td>Hispanos unidos en New York (H.U.N.Y)</td>\n",
       "      <td>https://www.facebook.com/groups/793416207356486</td>\n",
       "      <td>LatinosGroupsPolitical</td>\n",
       "      <td>None</td>\n",
       "    </tr>\n",
       "    <tr>\n",
       "      <th>1</th>\n",
       "      <td>Hispanos en Columbus Ohio</td>\n",
       "      <td>https://www.facebook.com/groups/1450333408570918</td>\n",
       "      <td>LatinosGroupsPolitical</td>\n",
       "      <td>None</td>\n",
       "    </tr>\n",
       "    <tr>\n",
       "      <th>2</th>\n",
       "      <td>Cristianos Hispanos en Dallas, Texas ( Metroplex)</td>\n",
       "      <td>https://www.facebook.com/groups/600361880064744</td>\n",
       "      <td>LatinosGroupsPolitical</td>\n",
       "      <td>None</td>\n",
       "    </tr>\n",
       "    <tr>\n",
       "      <th>3</th>\n",
       "      <td>Hispanos en Oklahoma</td>\n",
       "      <td>https://www.facebook.com/groups/1160877743977648</td>\n",
       "      <td>LatinosGroupsPolitical</td>\n",
       "      <td>None</td>\n",
       "    </tr>\n",
       "    <tr>\n",
       "      <th>4</th>\n",
       "      <td>Hispanos unidos en el gabacho (Tennessee)</td>\n",
       "      <td>https://www.facebook.com/groups/2663330647279121</td>\n",
       "      <td>LatinosGroupsPolitical</td>\n",
       "      <td>None</td>\n",
       "    </tr>\n",
       "    <tr>\n",
       "      <th>...</th>\n",
       "      <td>...</td>\n",
       "      <td>...</td>\n",
       "      <td>...</td>\n",
       "      <td>...</td>\n",
       "    </tr>\n",
       "    <tr>\n",
       "      <th>551</th>\n",
       "      <td>Latinos en Fayetteville NC</td>\n",
       "      <td>https://www.facebook.com/groups/330153457746158</td>\n",
       "      <td>LatinosGroupsPolitical</td>\n",
       "      <td>None</td>\n",
       "    </tr>\n",
       "    <tr>\n",
       "      <th>552</th>\n",
       "      <td>LATINOS EN UTAH</td>\n",
       "      <td>https://www.facebook.com/groups/147690845007</td>\n",
       "      <td>LatinosGroupsPolitical</td>\n",
       "      <td>None</td>\n",
       "    </tr>\n",
       "    <tr>\n",
       "      <th>553</th>\n",
       "      <td>Latinos en el DMV</td>\n",
       "      <td>https://www.facebook.com/groups/158210880905597</td>\n",
       "      <td>LatinosGroupsPolitical</td>\n",
       "      <td>None</td>\n",
       "    </tr>\n",
       "    <tr>\n",
       "      <th>554</th>\n",
       "      <td>Latinos en los Angeles California compra y venta</td>\n",
       "      <td>https://www.facebook.com/groups/166308334272338</td>\n",
       "      <td>LatinosGroupsPolitical</td>\n",
       "      <td>None</td>\n",
       "    </tr>\n",
       "    <tr>\n",
       "      <th>555</th>\n",
       "      <td>Latinos en Tampa Bay official</td>\n",
       "      <td>https://www.facebook.com/groups/1422333744524670</td>\n",
       "      <td>LatinosGroupsPolitical</td>\n",
       "      <td>None</td>\n",
       "    </tr>\n",
       "  </tbody>\n",
       "</table>\n",
       "<p>533 rows × 4 columns</p>\n",
       "</div>"
      ],
      "text/plain": [
       "                                                  name  \\\n",
       "0                Hispanos unidos en New York (H.U.N.Y)   \n",
       "1                            Hispanos en Columbus Ohio   \n",
       "2    Cristianos Hispanos en Dallas, Texas ( Metroplex)   \n",
       "3                                 Hispanos en Oklahoma   \n",
       "4            Hispanos unidos en el gabacho (Tennessee)   \n",
       "..                                                 ...   \n",
       "551                         Latinos en Fayetteville NC   \n",
       "552                                    LATINOS EN UTAH   \n",
       "553                                  Latinos en el DMV   \n",
       "554   Latinos en los Angeles California compra y venta   \n",
       "555                      Latinos en Tampa Bay official   \n",
       "\n",
       "                                  Page or Account URL                    List  \\\n",
       "0     https://www.facebook.com/groups/793416207356486  LatinosGroupsPolitical   \n",
       "1    https://www.facebook.com/groups/1450333408570918  LatinosGroupsPolitical   \n",
       "2     https://www.facebook.com/groups/600361880064744  LatinosGroupsPolitical   \n",
       "3    https://www.facebook.com/groups/1160877743977648  LatinosGroupsPolitical   \n",
       "4    https://www.facebook.com/groups/2663330647279121  LatinosGroupsPolitical   \n",
       "..                                                ...                     ...   \n",
       "551   https://www.facebook.com/groups/330153457746158  LatinosGroupsPolitical   \n",
       "552      https://www.facebook.com/groups/147690845007  LatinosGroupsPolitical   \n",
       "553   https://www.facebook.com/groups/158210880905597  LatinosGroupsPolitical   \n",
       "554   https://www.facebook.com/groups/166308334272338  LatinosGroupsPolitical   \n",
       "555  https://www.facebook.com/groups/1422333744524670  LatinosGroupsPolitical   \n",
       "\n",
       "    party  \n",
       "0    None  \n",
       "1    None  \n",
       "2    None  \n",
       "3    None  \n",
       "4    None  \n",
       "..    ...  \n",
       "551  None  \n",
       "552  None  \n",
       "553  None  \n",
       "554  None  \n",
       "555  None  \n",
       "\n",
       "[533 rows x 4 columns]"
      ]
     },
     "execution_count": 34,
     "metadata": {},
     "output_type": "execute_result"
    }
   ],
   "source": [
    "fb_data = pd.DataFrame()\n",
    "data['party']=data.apply(classify_by_party, axis=1)\n",
    "data[data['party'].isna()]"
   ]
  },
  {
   "cell_type": "code",
   "execution_count": 35,
   "metadata": {},
   "outputs": [
    {
     "data": {
      "text/plain": [
       "(23, 4)"
      ]
     },
     "execution_count": 35,
     "metadata": {},
     "output_type": "execute_result"
    }
   ],
   "source": [
    "fb_data = data[~data['party'].isna()]\n",
    "fb_data.shape"
   ]
  },
  {
   "cell_type": "code",
   "execution_count": 36,
   "metadata": {},
   "outputs": [],
   "source": [
    "fb_data.to_csv(\"cscwDocs/parties/party_\"+file,index=False)"
   ]
  },
  {
   "cell_type": "code",
   "execution_count": null,
   "metadata": {},
   "outputs": [],
   "source": []
  }
 ],
 "metadata": {
  "kernelspec": {
   "display_name": "Latinx2020env",
   "language": "python",
   "name": "latinx2020env"
  },
  "language_info": {
   "codemirror_mode": {
    "name": "ipython",
    "version": 3
   },
   "file_extension": ".py",
   "mimetype": "text/x-python",
   "name": "python",
   "nbconvert_exporter": "python",
   "pygments_lexer": "ipython3",
   "version": "3.8.5"
  }
 },
 "nbformat": 4,
 "nbformat_minor": 4
}
