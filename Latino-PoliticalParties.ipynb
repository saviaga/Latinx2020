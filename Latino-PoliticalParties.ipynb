{
 "cells": [
  {
   "cell_type": "code",
   "execution_count": 137,
   "metadata": {},
   "outputs": [],
   "source": [
    "import pandas as pd"
   ]
  },
  {
   "cell_type": "code",
   "execution_count": 138,
   "metadata": {},
   "outputs": [
    {
     "data": {
      "text/html": [
       "<div>\n",
       "<style scoped>\n",
       "    .dataframe tbody tr th:only-of-type {\n",
       "        vertical-align: middle;\n",
       "    }\n",
       "\n",
       "    .dataframe tbody tr th {\n",
       "        vertical-align: top;\n",
       "    }\n",
       "\n",
       "    .dataframe thead th {\n",
       "        text-align: right;\n",
       "    }\n",
       "</style>\n",
       "<table border=\"1\" class=\"dataframe\">\n",
       "  <thead>\n",
       "    <tr style=\"text-align: right;\">\n",
       "      <th></th>\n",
       "      <th>name</th>\n",
       "      <th>Page or Account URL</th>\n",
       "      <th>List</th>\n",
       "    </tr>\n",
       "  </thead>\n",
       "  <tbody>\n",
       "    <tr>\n",
       "      <th>0</th>\n",
       "      <td>DONALD TRUMP PARA HISPANOS</td>\n",
       "      <td>https://www.facebook.com/groups/442514499638810</td>\n",
       "      <td>LatinosGroupsPolitical</td>\n",
       "    </tr>\n",
       "    <tr>\n",
       "      <th>1</th>\n",
       "      <td>Trump Para Los hispanos</td>\n",
       "      <td>https://www.facebook.com/groups/629617674640661</td>\n",
       "      <td>LatinosGroupsPolitical</td>\n",
       "    </tr>\n",
       "    <tr>\n",
       "      <th>2</th>\n",
       "      <td>Hispanos con Donald Trump</td>\n",
       "      <td>https://www.facebook.com/groups/338567032897693</td>\n",
       "      <td>LatinosGroupsPolitical</td>\n",
       "    </tr>\n",
       "  </tbody>\n",
       "</table>\n",
       "</div>"
      ],
      "text/plain": [
       "                         name  \\\n",
       "0  DONALD TRUMP PARA HISPANOS   \n",
       "1     Trump Para Los hispanos   \n",
       "2   Hispanos con Donald Trump   \n",
       "\n",
       "                               Page or Account URL                    List  \n",
       "0  https://www.facebook.com/groups/442514499638810  LatinosGroupsPolitical  \n",
       "1  https://www.facebook.com/groups/629617674640661  LatinosGroupsPolitical  \n",
       "2  https://www.facebook.com/groups/338567032897693  LatinosGroupsPolitical  "
      ]
     },
     "execution_count": 138,
     "metadata": {},
     "output_type": "execute_result"
    }
   ],
   "source": [
    "file = \"FBGroupsPolitical_parties.csv\"\n",
    "data = pd.read_csv(\"cscwDocs/\"+file,error_bad_lines=False)\n",
    "data.head(3)"
   ]
  },
  {
   "cell_type": "markdown",
   "metadata": {},
   "source": [
    "### Clasify according to political party"
   ]
  },
  {
   "cell_type": "code",
   "execution_count": 139,
   "metadata": {},
   "outputs": [
    {
     "data": {
      "text/plain": [
       "Index(['name', 'Page or Account URL', 'List'], dtype='object')"
      ]
     },
     "execution_count": 139,
     "metadata": {},
     "output_type": "execute_result"
    }
   ],
   "source": [
    "data.columns"
   ]
  },
  {
   "cell_type": "code",
   "execution_count": 140,
   "metadata": {},
   "outputs": [
    {
     "data": {
      "text/plain": [
       "(98, 3)"
      ]
     },
     "execution_count": 140,
     "metadata": {},
     "output_type": "execute_result"
    }
   ],
   "source": [
    "data.shape"
   ]
  },
  {
   "cell_type": "code",
   "execution_count": 141,
   "metadata": {},
   "outputs": [],
   "source": [
    "def classify_groups(row):\n",
    "    pro = ['para','por','for','with','support','con']\n",
    "    opp = [\"contra\",'against','vs']   \n",
    "    republican = ['trump','pence','republican']\n",
    "    democrat = ['biden','harris','democrat','democratic']\n",
    "    name = row['name'].lower()\n",
    "    name = \"MEXICANS WITH ATTITUDE AGAINST TRUMP *€€\".lower()\n",
    "   \n",
    "    #Republican\n",
    "    if any(word_item in name for word_item in pro) and any(party in name for party in republican):\n",
    "        return 'Republican'\n",
    "    \n",
    "    #Democrat \n",
    "    elif any(word_item in name for word_item in opp) and \\\n",
    "    any(party in name for party in republican):        \n",
    "        return 'Democrat'\n",
    "    #Democrat\n",
    "    elif any(word_item in name for word_item in pro) and \\\n",
    "    any(party in name for party in democrat):\n",
    "        return 'Democrat'\n",
    "    #Republican\n",
    "    elif any(word_item in name for word_item in opp) and \\\n",
    "    any(party in name for party in democrat):       \n",
    "        return 'Republican'\n",
    "    elif any(party in name for party in democrat):\n",
    "        return 'Democrat'\n",
    "    elif any(party in name for party in republican):\n",
    "        return 'Republican'"
   ]
  },
  {
   "cell_type": "code",
   "execution_count": 142,
   "metadata": {},
   "outputs": [
    {
     "data": {
      "text/html": [
       "<div>\n",
       "<style scoped>\n",
       "    .dataframe tbody tr th:only-of-type {\n",
       "        vertical-align: middle;\n",
       "    }\n",
       "\n",
       "    .dataframe tbody tr th {\n",
       "        vertical-align: top;\n",
       "    }\n",
       "\n",
       "    .dataframe thead th {\n",
       "        text-align: right;\n",
       "    }\n",
       "</style>\n",
       "<table border=\"1\" class=\"dataframe\">\n",
       "  <thead>\n",
       "    <tr style=\"text-align: right;\">\n",
       "      <th></th>\n",
       "      <th>name</th>\n",
       "      <th>Page or Account URL</th>\n",
       "      <th>List</th>\n",
       "      <th>party</th>\n",
       "    </tr>\n",
       "  </thead>\n",
       "  <tbody>\n",
       "  </tbody>\n",
       "</table>\n",
       "</div>"
      ],
      "text/plain": [
       "Empty DataFrame\n",
       "Columns: [name, Page or Account URL, List, party]\n",
       "Index: []"
      ]
     },
     "execution_count": 142,
     "metadata": {},
     "output_type": "execute_result"
    }
   ],
   "source": [
    "fb_data = pd.DataFrame()\n",
    "data['party']=data.apply(classify_groups, axis=1)\n",
    "data[data['party'].isna()]"
   ]
  },
  {
   "cell_type": "code",
   "execution_count": 130,
   "metadata": {},
   "outputs": [
    {
     "data": {
      "text/html": [
       "<div>\n",
       "<style scoped>\n",
       "    .dataframe tbody tr th:only-of-type {\n",
       "        vertical-align: middle;\n",
       "    }\n",
       "\n",
       "    .dataframe tbody tr th {\n",
       "        vertical-align: top;\n",
       "    }\n",
       "\n",
       "    .dataframe thead th {\n",
       "        text-align: right;\n",
       "    }\n",
       "</style>\n",
       "<table border=\"1\" class=\"dataframe\">\n",
       "  <thead>\n",
       "    <tr style=\"text-align: right;\">\n",
       "      <th></th>\n",
       "      <th>name</th>\n",
       "      <th>Page or Account URL</th>\n",
       "      <th>List</th>\n",
       "      <th>party</th>\n",
       "    </tr>\n",
       "  </thead>\n",
       "  <tbody>\n",
       "    <tr>\n",
       "      <th>0</th>\n",
       "      <td>DONALD TRUMP PARA HISPANOS</td>\n",
       "      <td>https://www.facebook.com/groups/442514499638810</td>\n",
       "      <td>LatinosGroupsPolitical</td>\n",
       "      <td>Republican</td>\n",
       "    </tr>\n",
       "    <tr>\n",
       "      <th>1</th>\n",
       "      <td>Trump Para Los hispanos</td>\n",
       "      <td>https://www.facebook.com/groups/629617674640661</td>\n",
       "      <td>LatinosGroupsPolitical</td>\n",
       "      <td>Republican</td>\n",
       "    </tr>\n",
       "    <tr>\n",
       "      <th>2</th>\n",
       "      <td>Hispanos con Donald Trump</td>\n",
       "      <td>https://www.facebook.com/groups/338567032897693</td>\n",
       "      <td>LatinosGroupsPolitical</td>\n",
       "      <td>Republican</td>\n",
       "    </tr>\n",
       "    <tr>\n",
       "      <th>3</th>\n",
       "      <td>Hispanos por trump</td>\n",
       "      <td>https://www.facebook.com/groups/334707374226747</td>\n",
       "      <td>LatinosGroupsPolitical</td>\n",
       "      <td>Republican</td>\n",
       "    </tr>\n",
       "    <tr>\n",
       "      <th>4</th>\n",
       "      <td>Latino Republican National Federation</td>\n",
       "      <td>https://www.facebook.com/groups/365831227113188</td>\n",
       "      <td>LatinosGroupsPolitical</td>\n",
       "      <td>Republican</td>\n",
       "    </tr>\n",
       "    <tr>\n",
       "      <th>...</th>\n",
       "      <td>...</td>\n",
       "      <td>...</td>\n",
       "      <td>...</td>\n",
       "      <td>...</td>\n",
       "    </tr>\n",
       "    <tr>\n",
       "      <th>93</th>\n",
       "      <td>Mexicans for Donald Trump</td>\n",
       "      <td>https://www.facebook.com/1625674184418643</td>\n",
       "      <td>LatinosGroupsPolitical</td>\n",
       "      <td>Republican</td>\n",
       "    </tr>\n",
       "    <tr>\n",
       "      <th>94</th>\n",
       "      <td>Mexicans for Donald J. Trump 2016</td>\n",
       "      <td>https://www.facebook.com/groups/1111822215527744</td>\n",
       "      <td>LatinosGroupsPolitical</td>\n",
       "      <td>Republican</td>\n",
       "    </tr>\n",
       "    <tr>\n",
       "      <th>95</th>\n",
       "      <td>MEXICANS WITH ATTITUDE AGAINST TRUMP *€€</td>\n",
       "      <td>https://www.facebook.com/groups/1939876166265764</td>\n",
       "      <td>LatinosGroupsPolitical</td>\n",
       "      <td>Republican</td>\n",
       "    </tr>\n",
       "    <tr>\n",
       "      <th>96</th>\n",
       "      <td>USA Mexicans for Biden</td>\n",
       "      <td>https://www.facebook.com/groups/3356900297867923</td>\n",
       "      <td>LatinosGroupsPolitical</td>\n",
       "      <td>Republican</td>\n",
       "    </tr>\n",
       "    <tr>\n",
       "      <th>97</th>\n",
       "      <td>San Diego LGBTQ Latinx Coalition</td>\n",
       "      <td>https://www.facebook.com/groups/526119751064424</td>\n",
       "      <td>LatinosGroupsPolitical</td>\n",
       "      <td>Republican</td>\n",
       "    </tr>\n",
       "  </tbody>\n",
       "</table>\n",
       "<p>98 rows × 4 columns</p>\n",
       "</div>"
      ],
      "text/plain": [
       "                                        name  \\\n",
       "0                 DONALD TRUMP PARA HISPANOS   \n",
       "1                    Trump Para Los hispanos   \n",
       "2                  Hispanos con Donald Trump   \n",
       "3                         Hispanos por trump   \n",
       "4      Latino Republican National Federation   \n",
       "..                                       ...   \n",
       "93                 Mexicans for Donald Trump   \n",
       "94         Mexicans for Donald J. Trump 2016   \n",
       "95  MEXICANS WITH ATTITUDE AGAINST TRUMP *€€   \n",
       "96                    USA Mexicans for Biden   \n",
       "97          San Diego LGBTQ Latinx Coalition   \n",
       "\n",
       "                                 Page or Account URL                    List  \\\n",
       "0    https://www.facebook.com/groups/442514499638810  LatinosGroupsPolitical   \n",
       "1    https://www.facebook.com/groups/629617674640661  LatinosGroupsPolitical   \n",
       "2    https://www.facebook.com/groups/338567032897693  LatinosGroupsPolitical   \n",
       "3    https://www.facebook.com/groups/334707374226747  LatinosGroupsPolitical   \n",
       "4    https://www.facebook.com/groups/365831227113188  LatinosGroupsPolitical   \n",
       "..                                               ...                     ...   \n",
       "93         https://www.facebook.com/1625674184418643  LatinosGroupsPolitical   \n",
       "94  https://www.facebook.com/groups/1111822215527744  LatinosGroupsPolitical   \n",
       "95  https://www.facebook.com/groups/1939876166265764  LatinosGroupsPolitical   \n",
       "96  https://www.facebook.com/groups/3356900297867923  LatinosGroupsPolitical   \n",
       "97   https://www.facebook.com/groups/526119751064424  LatinosGroupsPolitical   \n",
       "\n",
       "         party  \n",
       "0   Republican  \n",
       "1   Republican  \n",
       "2   Republican  \n",
       "3   Republican  \n",
       "4   Republican  \n",
       "..         ...  \n",
       "93  Republican  \n",
       "94  Republican  \n",
       "95  Republican  \n",
       "96  Republican  \n",
       "97  Republican  \n",
       "\n",
       "[98 rows x 4 columns]"
      ]
     },
     "execution_count": 130,
     "metadata": {},
     "output_type": "execute_result"
    }
   ],
   "source": [
    "fb_data = data[~data['party'].isna()]\n",
    "fb_data"
   ]
  },
  {
   "cell_type": "code",
   "execution_count": 122,
   "metadata": {},
   "outputs": [],
   "source": [
    "fb_data.to_csv(\"cscwDocs/parties/\"+file,index=False)"
   ]
  },
  {
   "cell_type": "code",
   "execution_count": null,
   "metadata": {},
   "outputs": [],
   "source": []
  }
 ],
 "metadata": {
  "kernelspec": {
   "display_name": "Latinx2020env",
   "language": "python",
   "name": "latinx2020env"
  },
  "language_info": {
   "codemirror_mode": {
    "name": "ipython",
    "version": 3
   },
   "file_extension": ".py",
   "mimetype": "text/x-python",
   "name": "python",
   "nbconvert_exporter": "python",
   "pygments_lexer": "ipython3",
   "version": "3.8.5"
  }
 },
 "nbformat": 4,
 "nbformat_minor": 4
}
