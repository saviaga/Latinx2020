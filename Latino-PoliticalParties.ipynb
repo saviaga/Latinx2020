{
 "cells": [
  {
   "cell_type": "code",
   "execution_count": 215,
   "metadata": {},
   "outputs": [],
   "source": [
    "import re\n",
    "import pandas as pd"
   ]
  },
  {
   "cell_type": "code",
   "execution_count": 216,
   "metadata": {},
   "outputs": [
    {
     "data": {
      "text/html": [
       "<div>\n",
       "<style scoped>\n",
       "    .dataframe tbody tr th:only-of-type {\n",
       "        vertical-align: middle;\n",
       "    }\n",
       "\n",
       "    .dataframe tbody tr th {\n",
       "        vertical-align: top;\n",
       "    }\n",
       "\n",
       "    .dataframe thead th {\n",
       "        text-align: right;\n",
       "    }\n",
       "</style>\n",
       "<table border=\"1\" class=\"dataframe\">\n",
       "  <thead>\n",
       "    <tr style=\"text-align: right;\">\n",
       "      <th></th>\n",
       "      <th>name</th>\n",
       "      <th>Page or Account URL</th>\n",
       "      <th>List</th>\n",
       "    </tr>\n",
       "  </thead>\n",
       "  <tbody>\n",
       "    <tr>\n",
       "      <th>0</th>\n",
       "      <td>This Latino Is For Trump</td>\n",
       "      <td>https://www.facebook.com/176851122669458</td>\n",
       "      <td>LatinosPagesPolitical</td>\n",
       "    </tr>\n",
       "    <tr>\n",
       "      <th>1</th>\n",
       "      <td>I am Latino, immigrant and now I support Presi...</td>\n",
       "      <td>https://www.facebook.com/108912984023583</td>\n",
       "      <td>LatinosPagesPolitical</td>\n",
       "    </tr>\n",
       "    <tr>\n",
       "      <th>2</th>\n",
       "      <td>Arizona Latino Republican Association</td>\n",
       "      <td>https://www.facebook.com/136506579715637</td>\n",
       "      <td>LatinosPagesPolitical</td>\n",
       "    </tr>\n",
       "  </tbody>\n",
       "</table>\n",
       "</div>"
      ],
      "text/plain": [
       "                                                name  \\\n",
       "0                           This Latino Is For Trump   \n",
       "1  I am Latino, immigrant and now I support Presi...   \n",
       "2              Arizona Latino Republican Association   \n",
       "\n",
       "                        Page or Account URL                   List  \n",
       "0  https://www.facebook.com/176851122669458  LatinosPagesPolitical  \n",
       "1  https://www.facebook.com/108912984023583  LatinosPagesPolitical  \n",
       "2  https://www.facebook.com/136506579715637  LatinosPagesPolitical  "
      ]
     },
     "execution_count": 216,
     "metadata": {},
     "output_type": "execute_result"
    }
   ],
   "source": [
    "file = \"FBPagesPolitical_parties.csv\"\n",
    "data = pd.read_csv(\"cscwDocs/\"+file,error_bad_lines=False)\n",
    "data.head(3)"
   ]
  },
  {
   "cell_type": "markdown",
   "metadata": {},
   "source": [
    "### Clasify according to political party"
   ]
  },
  {
   "cell_type": "code",
   "execution_count": 217,
   "metadata": {},
   "outputs": [
    {
     "data": {
      "text/plain": [
       "Index(['name', 'Page or Account URL', 'List'], dtype='object')"
      ]
     },
     "execution_count": 217,
     "metadata": {},
     "output_type": "execute_result"
    }
   ],
   "source": [
    "data.columns"
   ]
  },
  {
   "cell_type": "code",
   "execution_count": 218,
   "metadata": {},
   "outputs": [
    {
     "data": {
      "text/plain": [
       "(126, 3)"
      ]
     },
     "execution_count": 218,
     "metadata": {},
     "output_type": "execute_result"
    }
   ],
   "source": [
    "data.shape"
   ]
  },
  {
   "cell_type": "code",
   "execution_count": 219,
   "metadata": {},
   "outputs": [],
   "source": [
    "def classify_by_party(row):\n",
    "    pro = ['para','por','for','with','support','con']\n",
    "    opp = ['contra','against','vs']   \n",
    "    republican = ['trump','pence','republican','republicans']\n",
    "    democrat = ['biden','harris','democrat','democrats','democratic']\n",
    "    name = row['name'].lower()\n",
    "    \n",
    "    #Republican\n",
    "    if any(re.search(r'\\b' + word_item + r'\\b', name) for word_item in pro) and any(re.search(r'\\b' + party + r'\\b', name) for party in republican):\n",
    "        return 'Republican'\n",
    "    \n",
    "    #Democrat \n",
    "    elif any(re.search(r'\\b' + word_item + r'\\b', name) for word_item in opp) and any(re.search(r'\\b' + party + r'\\b', name) for party in republican): \n",
    "        return 'Democrat'\n",
    "    \n",
    "    #Democrat\n",
    "    elif any(re.search(r'\\b' + word_item + r'\\b', name)  for word_item in pro) and any(re.search(r'\\b' + party + r'\\b', name) for party in democrat):\n",
    "        return 'Democrat'\n",
    "    \n",
    "    #Republican\n",
    "    elif any(re.search(r'\\b' + word_item + r'\\b', name) for word_item in opp) and any(re.search(r'\\b' + party + r'\\b', name) for party in democrat):       \n",
    "        return 'Republican'\n",
    "    \n",
    "    elif any(re.search(r'\\b' + party + r'\\b', name) for party in democrat):\n",
    "        return 'Democrat'\n",
    "    elif any(re.search(r'\\b' + party + r'\\b', name) for party in republican):\n",
    "        return 'Republican'"
   ]
  },
  {
   "cell_type": "code",
   "execution_count": 220,
   "metadata": {},
   "outputs": [
    {
     "data": {
      "text/html": [
       "<div>\n",
       "<style scoped>\n",
       "    .dataframe tbody tr th:only-of-type {\n",
       "        vertical-align: middle;\n",
       "    }\n",
       "\n",
       "    .dataframe tbody tr th {\n",
       "        vertical-align: top;\n",
       "    }\n",
       "\n",
       "    .dataframe thead th {\n",
       "        text-align: right;\n",
       "    }\n",
       "</style>\n",
       "<table border=\"1\" class=\"dataframe\">\n",
       "  <thead>\n",
       "    <tr style=\"text-align: right;\">\n",
       "      <th></th>\n",
       "      <th>name</th>\n",
       "      <th>Page or Account URL</th>\n",
       "      <th>List</th>\n",
       "      <th>party</th>\n",
       "    </tr>\n",
       "  </thead>\n",
       "  <tbody>\n",
       "    <tr>\n",
       "      <th>36</th>\n",
       "      <td>The Minority Machine</td>\n",
       "      <td>https://www.facebook.com/111738403743194</td>\n",
       "      <td>LatinosPagesPolitical</td>\n",
       "      <td>None</td>\n",
       "    </tr>\n",
       "    <tr>\n",
       "      <th>122</th>\n",
       "      <td>Latinx Caucus, New York Greens</td>\n",
       "      <td>https://www.facebook.com/190713054880350</td>\n",
       "      <td>LatinosPagesPolitical</td>\n",
       "      <td>None</td>\n",
       "    </tr>\n",
       "    <tr>\n",
       "      <th>123</th>\n",
       "      <td>San Diego LGBTQ Latinx Coalition</td>\n",
       "      <td>https://www.facebook.com/100849631665329</td>\n",
       "      <td>LatinosPagesPolitical</td>\n",
       "      <td>None</td>\n",
       "    </tr>\n",
       "    <tr>\n",
       "      <th>124</th>\n",
       "      <td>Mi San Diego Latinx North County</td>\n",
       "      <td>https://www.facebook.com/337533476438780</td>\n",
       "      <td>LatinosPagesPolitical</td>\n",
       "      <td>None</td>\n",
       "    </tr>\n",
       "    <tr>\n",
       "      <th>125</th>\n",
       "      <td>Chicago Teachers Union Latinx Caucus</td>\n",
       "      <td>https://www.facebook.com/1475737409309864</td>\n",
       "      <td>LatinosPagesPolitical</td>\n",
       "      <td>None</td>\n",
       "    </tr>\n",
       "  </tbody>\n",
       "</table>\n",
       "</div>"
      ],
      "text/plain": [
       "                                     name  \\\n",
       "36                   The Minority Machine   \n",
       "122        Latinx Caucus, New York Greens   \n",
       "123      San Diego LGBTQ Latinx Coalition   \n",
       "124      Mi San Diego Latinx North County   \n",
       "125  Chicago Teachers Union Latinx Caucus   \n",
       "\n",
       "                           Page or Account URL                   List party  \n",
       "36    https://www.facebook.com/111738403743194  LatinosPagesPolitical  None  \n",
       "122   https://www.facebook.com/190713054880350  LatinosPagesPolitical  None  \n",
       "123   https://www.facebook.com/100849631665329  LatinosPagesPolitical  None  \n",
       "124   https://www.facebook.com/337533476438780  LatinosPagesPolitical  None  \n",
       "125  https://www.facebook.com/1475737409309864  LatinosPagesPolitical  None  "
      ]
     },
     "execution_count": 220,
     "metadata": {},
     "output_type": "execute_result"
    }
   ],
   "source": [
    "fb_data = pd.DataFrame()\n",
    "data['party']=data.apply(classify_by_party, axis=1)\n",
    "data[data['party'].isna()]"
   ]
  },
  {
   "cell_type": "code",
   "execution_count": 222,
   "metadata": {},
   "outputs": [
    {
     "data": {
      "text/html": [
       "<div>\n",
       "<style scoped>\n",
       "    .dataframe tbody tr th:only-of-type {\n",
       "        vertical-align: middle;\n",
       "    }\n",
       "\n",
       "    .dataframe tbody tr th {\n",
       "        vertical-align: top;\n",
       "    }\n",
       "\n",
       "    .dataframe thead th {\n",
       "        text-align: right;\n",
       "    }\n",
       "</style>\n",
       "<table border=\"1\" class=\"dataframe\">\n",
       "  <thead>\n",
       "    <tr style=\"text-align: right;\">\n",
       "      <th></th>\n",
       "      <th>name</th>\n",
       "      <th>Page or Account URL</th>\n",
       "      <th>List</th>\n",
       "      <th>party</th>\n",
       "    </tr>\n",
       "  </thead>\n",
       "  <tbody>\n",
       "    <tr>\n",
       "      <th>0</th>\n",
       "      <td>This Latino Is For Trump</td>\n",
       "      <td>https://www.facebook.com/176851122669458</td>\n",
       "      <td>LatinosPagesPolitical</td>\n",
       "      <td>Republican</td>\n",
       "    </tr>\n",
       "    <tr>\n",
       "      <th>1</th>\n",
       "      <td>I am Latino, immigrant and now I support Presi...</td>\n",
       "      <td>https://www.facebook.com/108912984023583</td>\n",
       "      <td>LatinosPagesPolitical</td>\n",
       "      <td>Republican</td>\n",
       "    </tr>\n",
       "    <tr>\n",
       "      <th>2</th>\n",
       "      <td>Arizona Latino Republican Association</td>\n",
       "      <td>https://www.facebook.com/136506579715637</td>\n",
       "      <td>LatinosPagesPolitical</td>\n",
       "      <td>Republican</td>\n",
       "    </tr>\n",
       "    <tr>\n",
       "      <th>3</th>\n",
       "      <td>Latino National Republican Coalition</td>\n",
       "      <td>https://www.facebook.com/110947184074991</td>\n",
       "      <td>LatinosPagesPolitical</td>\n",
       "      <td>Republican</td>\n",
       "    </tr>\n",
       "    <tr>\n",
       "      <th>4</th>\n",
       "      <td>Latino Veterans con Biden</td>\n",
       "      <td>https://www.facebook.com/100827018332779</td>\n",
       "      <td>LatinosPagesPolitical</td>\n",
       "      <td>Democrat</td>\n",
       "    </tr>\n",
       "    <tr>\n",
       "      <th>...</th>\n",
       "      <td>...</td>\n",
       "      <td>...</td>\n",
       "      <td>...</td>\n",
       "      <td>...</td>\n",
       "    </tr>\n",
       "    <tr>\n",
       "      <th>117</th>\n",
       "      <td>Dominicanos con Biden</td>\n",
       "      <td>https://www.facebook.com/105719911043626</td>\n",
       "      <td>LatinosPagesPolitical</td>\n",
       "      <td>Democrat</td>\n",
       "    </tr>\n",
       "    <tr>\n",
       "      <th>118</th>\n",
       "      <td>Mexicans for Donald Trump</td>\n",
       "      <td>https://www.facebook.com/1816582085244392</td>\n",
       "      <td>LatinosPagesPolitical</td>\n",
       "      <td>Republican</td>\n",
       "    </tr>\n",
       "    <tr>\n",
       "      <th>119</th>\n",
       "      <td>New Mexicans for Donald Trump</td>\n",
       "      <td>https://www.facebook.com/1299240966772695</td>\n",
       "      <td>LatinosPagesPolitical</td>\n",
       "      <td>Republican</td>\n",
       "    </tr>\n",
       "    <tr>\n",
       "      <th>120</th>\n",
       "      <td>This is why Trump is good for Mexico and Mexicans</td>\n",
       "      <td>https://www.facebook.com/1475641536092538</td>\n",
       "      <td>LatinosPagesPolitical</td>\n",
       "      <td>Republican</td>\n",
       "    </tr>\n",
       "    <tr>\n",
       "      <th>121</th>\n",
       "      <td>Republicans Latinos of Palm Beach County</td>\n",
       "      <td>https://www.facebook.com/117602811743234</td>\n",
       "      <td>LatinosPagesPolitical</td>\n",
       "      <td>Republican</td>\n",
       "    </tr>\n",
       "  </tbody>\n",
       "</table>\n",
       "<p>121 rows × 4 columns</p>\n",
       "</div>"
      ],
      "text/plain": [
       "                                                  name  \\\n",
       "0                             This Latino Is For Trump   \n",
       "1    I am Latino, immigrant and now I support Presi...   \n",
       "2                Arizona Latino Republican Association   \n",
       "3                 Latino National Republican Coalition   \n",
       "4                            Latino Veterans con Biden   \n",
       "..                                                 ...   \n",
       "117                              Dominicanos con Biden   \n",
       "118                          Mexicans for Donald Trump   \n",
       "119                      New Mexicans for Donald Trump   \n",
       "120  This is why Trump is good for Mexico and Mexicans   \n",
       "121           Republicans Latinos of Palm Beach County   \n",
       "\n",
       "                           Page or Account URL                   List  \\\n",
       "0     https://www.facebook.com/176851122669458  LatinosPagesPolitical   \n",
       "1     https://www.facebook.com/108912984023583  LatinosPagesPolitical   \n",
       "2     https://www.facebook.com/136506579715637  LatinosPagesPolitical   \n",
       "3     https://www.facebook.com/110947184074991  LatinosPagesPolitical   \n",
       "4     https://www.facebook.com/100827018332779  LatinosPagesPolitical   \n",
       "..                                         ...                    ...   \n",
       "117   https://www.facebook.com/105719911043626  LatinosPagesPolitical   \n",
       "118  https://www.facebook.com/1816582085244392  LatinosPagesPolitical   \n",
       "119  https://www.facebook.com/1299240966772695  LatinosPagesPolitical   \n",
       "120  https://www.facebook.com/1475641536092538  LatinosPagesPolitical   \n",
       "121   https://www.facebook.com/117602811743234  LatinosPagesPolitical   \n",
       "\n",
       "          party  \n",
       "0    Republican  \n",
       "1    Republican  \n",
       "2    Republican  \n",
       "3    Republican  \n",
       "4      Democrat  \n",
       "..          ...  \n",
       "117    Democrat  \n",
       "118  Republican  \n",
       "119  Republican  \n",
       "120  Republican  \n",
       "121  Republican  \n",
       "\n",
       "[121 rows x 4 columns]"
      ]
     },
     "execution_count": 222,
     "metadata": {},
     "output_type": "execute_result"
    }
   ],
   "source": [
    "fb_data = data[~data['party'].isna()]\n",
    "fb_data"
   ]
  },
  {
   "cell_type": "code",
   "execution_count": 167,
   "metadata": {},
   "outputs": [],
   "source": [
    "fb_data.to_csv(\"cscwDocs/parties/\"+file,index=False)"
   ]
  },
  {
   "cell_type": "code",
   "execution_count": null,
   "metadata": {},
   "outputs": [],
   "source": []
  }
 ],
 "metadata": {
  "kernelspec": {
   "display_name": "Latinx2020env",
   "language": "python",
   "name": "latinx2020env"
  },
  "language_info": {
   "codemirror_mode": {
    "name": "ipython",
    "version": 3
   },
   "file_extension": ".py",
   "mimetype": "text/x-python",
   "name": "python",
   "nbconvert_exporter": "python",
   "pygments_lexer": "ipython3",
   "version": "3.8.5"
  }
 },
 "nbformat": 4,
 "nbformat_minor": 4
}
