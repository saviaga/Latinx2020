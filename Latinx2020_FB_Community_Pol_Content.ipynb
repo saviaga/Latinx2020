{
 "cells": [
  {
   "cell_type": "markdown",
   "metadata": {},
   "source": [
    "### Read Public Groups/Pages classify groups by State\n"
   ]
  },
  {
   "cell_type": "code",
   "execution_count": 1,
   "metadata": {},
   "outputs": [],
   "source": [
    "import re\n",
    "import pandas as pd\n",
    "import warnings\n",
    "warnings.filterwarnings(\"ignore\",category=DeprecationWarning)"
   ]
  },
  {
   "cell_type": "code",
   "execution_count": 2,
   "metadata": {},
   "outputs": [],
   "source": [
    "def clean_address(row):\n",
    "    name =  row.lower().split('/')\n",
    "    if  row.lower().startswith('https') or  row.lower().startswith('http'):       \n",
    "        return name[3]\n",
    "    elif row.lower().startswith('www'):\n",
    "        return name[1] \n",
    "    elif row.lower().startswith('facebook'):\n",
    "        return name[1]\n",
    "    else:\n",
    "        print(\"Not found\", row)\n",
    "        return None"
   ]
  },
  {
   "cell_type": "markdown",
   "metadata": {},
   "source": [
    "## 1. Reads  Info\n",
    "Reads the information from all the posts from the studied period"
   ]
  },
  {
   "cell_type": "code",
   "execution_count": 3,
   "metadata": {
    "scrolled": true
   },
   "outputs": [
    {
     "name": "stderr",
     "output_type": "stream",
     "text": [
      "/Users/claudia/opt/anaconda3/lib/python3.8/site-packages/IPython/core/interactiveshell.py:3146: DtypeWarning: Columns (29) have mixed types.Specify dtype option on import or set low_memory=False.\n",
      "  has_raised = await self.run_ast_nodes(code_ast.body, cell_name,\n",
      "/Users/claudia/opt/anaconda3/lib/python3.8/site-packages/IPython/core/interactiveshell.py:3146: DtypeWarning: Columns (29,30) have mixed types.Specify dtype option on import or set low_memory=False.\n",
      "  has_raised = await self.run_ast_nodes(code_ast.body, cell_name,\n"
     ]
    },
    {
     "data": {
      "text/plain": [
       "(1064972, 31)"
      ]
     },
     "execution_count": 3,
     "metadata": {},
     "output_type": "execute_result"
    }
   ],
   "source": [
    "\n",
    "path = \"cscwDocs/parties/FBPagesGroupsData/FBPagesGroupsCities/\"\n",
    "posts1 = pd.read_csv(path+\"LatinosEstadosPagesAug182020-Nov032020.csv\")\n",
    "#We rename the colum Page Name to be able to concat with Group Posts\n",
    "posts1.rename(columns={'Page Name':'Group Name'}, inplace=True)\n",
    "posts2 = pd.read_csv(path+\"LatinosEstadosGroups-Aug182020-Aug252020.csv\")\n",
    "posts3 = pd.read_csv(path+\"LatinosEstadosGroups-Aug262020-Aug312020.csv\")\n",
    "posts4 = pd.read_csv(path+\"LatinosEstadosGroups-Sep012020-Sep042020.csv\")\n",
    "posts5 = pd.read_csv(path+\"LatinosEstadosGroups-Sep052020-Sep082020.csv\")\n",
    "posts6 = pd.read_csv(path+\"LatinosEstadosGroups-Sep092020-Sep122020.csv\")\n",
    "posts7 = pd.read_csv(path+\"LatinosEstadosGroups-Sep132020-Sep162020.csv\")\n",
    "posts8 = pd.read_csv(path+\"LatinosEstadosGroups-Sep172020-Sep202020.csv\")\n",
    "posts9 = pd.read_csv(path+\"LatinosEstadosGroups-Sep212020-Sep242020.csv\")\n",
    "posts10 = pd.read_csv(path+\"LatinosEstadosGroups-Sep252020-Sep282020.csv\")\n",
    "posts11 = pd.read_csv(path+\"LatinosEstadosGroups-Sep292020-Oct022020.csv\")\n",
    "posts12 = pd.read_csv(path+\"LatinosEstadosGroups-Oct032020-Oct062020.csv\")\n",
    "posts13 = pd.read_csv(path+\"LatinosEstadosGroups-Oct072020-Oct102020.csv\")\n",
    "posts14 = pd.read_csv(path+\"LatinosEstadosGroups-Oct112020-Oct142020.csv\")\n",
    "posts15 = pd.read_csv(path+\"LatinosEstadosGroups-Oct152020-Oct172020.csv\")\n",
    "posts16 = pd.read_csv(path+\"LatinosEstadosGroups-Oct182020--Oct212020.csv\")\n",
    "posts17 = pd.read_csv(path+\"LatinosEstadosGroups-Oct222020-Oct252020.csv\")\n",
    "posts18 = pd.read_csv(path+\"LatinosEstadosGroups-Oct262020-Oct292020.csv\")\n",
    "posts19 = pd.read_csv(path+\"LatinosEstadosGroups-October302020-Nov032020.csv\")\n",
    "posts = pd.concat([posts1,posts2,posts3,posts4,posts5,posts6,posts7,posts8,posts9,\n",
    "                   posts10,posts11,posts12,posts13,posts14,posts15,posts16,posts17,posts18,posts19])\n",
    "posts.shape"
   ]
  },
  {
   "cell_type": "code",
   "execution_count": 4,
   "metadata": {
    "scrolled": true
   },
   "outputs": [
    {
     "data": {
      "text/plain": [
       "0                             https://www.facebook.com/massbhr/posts/1707320269437868\n",
       "1                     https://www.facebook.com/CampuzanoDallas/posts/2889965114555748\n",
       "2    https://www.facebook.com/bluecrossblueshieldoftexaslatino/posts/2927651804002395\n",
       "3                     https://www.facebook.com/CampuzanoDallas/posts/2835974503288143\n",
       "4                           https://www.facebook.com/IHCHOUSTON/posts/612042733073951\n",
       "Name: URL, dtype: object"
      ]
     },
     "execution_count": 4,
     "metadata": {},
     "output_type": "execute_result"
    }
   ],
   "source": [
    "pd.set_option('display.max_colwidth', 400)\n",
    "posts['URL'].head()"
   ]
  },
  {
   "cell_type": "code",
   "execution_count": 5,
   "metadata": {},
   "outputs": [
    {
     "data": {
      "text/html": [
       "<div>\n",
       "<style scoped>\n",
       "    .dataframe tbody tr th:only-of-type {\n",
       "        vertical-align: middle;\n",
       "    }\n",
       "\n",
       "    .dataframe tbody tr th {\n",
       "        vertical-align: top;\n",
       "    }\n",
       "\n",
       "    .dataframe thead th {\n",
       "        text-align: right;\n",
       "    }\n",
       "</style>\n",
       "<table border=\"1\" class=\"dataframe\">\n",
       "  <thead>\n",
       "    <tr style=\"text-align: right;\">\n",
       "      <th></th>\n",
       "      <th>Group Name</th>\n",
       "      <th>User Name</th>\n",
       "      <th>Facebook Id</th>\n",
       "      <th>Likes at Posting</th>\n",
       "      <th>Created</th>\n",
       "      <th>Type</th>\n",
       "      <th>Likes</th>\n",
       "      <th>Comments</th>\n",
       "      <th>Shares</th>\n",
       "      <th>Love</th>\n",
       "      <th>...</th>\n",
       "      <th>Message</th>\n",
       "      <th>Link</th>\n",
       "      <th>Final Link</th>\n",
       "      <th>Image Text</th>\n",
       "      <th>Link Text</th>\n",
       "      <th>Description</th>\n",
       "      <th>Sponsor Id</th>\n",
       "      <th>Sponsor Name</th>\n",
       "      <th>Total Interactions</th>\n",
       "      <th>Overperforming Score</th>\n",
       "    </tr>\n",
       "  </thead>\n",
       "  <tbody>\n",
       "    <tr>\n",
       "      <th>0</th>\n",
       "      <td>Massachusetts Black &amp; Hispanic Republicans</td>\n",
       "      <td>massbhr</td>\n",
       "      <td>372721146231127</td>\n",
       "      <td>546.0</td>\n",
       "      <td>2020-08-30 09:58:59 EDT</td>\n",
       "      <td>Photo</td>\n",
       "      <td>177</td>\n",
       "      <td>48</td>\n",
       "      <td>4095</td>\n",
       "      <td>15</td>\n",
       "      <td>...</td>\n",
       "      <td>NaN</td>\n",
       "      <td>https://www.facebook.com/massbhr/photos/a.902962399873663/1707320232771205/?type=3</td>\n",
       "      <td>NaN</td>\n",
       "      <td>McKayla J @McKaylaRoseJ BLM did not start under Trump, it started under under Obama. The war on police didn't start under Trump, it started under Obama. This racial tension did not start under Trump, it started under Obama. Obama emboldened this hate through his administration and now we're paying the cost</td>\n",
       "      <td>NaN</td>\n",
       "      <td>NaN</td>\n",
       "      <td>NaN</td>\n",
       "      <td>NaN</td>\n",
       "      <td>4,354</td>\n",
       "      <td>88.86</td>\n",
       "    </tr>\n",
       "    <tr>\n",
       "      <th>1</th>\n",
       "      <td>Campuzano Mexican Food - Dallas</td>\n",
       "      <td>CampuzanoDallas</td>\n",
       "      <td>1402835359935405</td>\n",
       "      <td>30612.0</td>\n",
       "      <td>2020-10-20 18:06:13 EDT</td>\n",
       "      <td>Photo</td>\n",
       "      <td>1905</td>\n",
       "      <td>25</td>\n",
       "      <td>41</td>\n",
       "      <td>58</td>\n",
       "      <td>...</td>\n",
       "      <td>Let’s enjoy a delicious Over the top Margarita in the patio ☀️</td>\n",
       "      <td>https://www.facebook.com/CampuzanoDallas/photos/a.2737293939822867/2889965091222417/?type=3</td>\n",
       "      <td>NaN</td>\n",
       "      <td>NaN</td>\n",
       "      <td>NaN</td>\n",
       "      <td>NaN</td>\n",
       "      <td>NaN</td>\n",
       "      <td>NaN</td>\n",
       "      <td>2,045</td>\n",
       "      <td>37.18</td>\n",
       "    </tr>\n",
       "    <tr>\n",
       "      <th>2</th>\n",
       "      <td>Blue Cross and Blue Shield of Texas Latino</td>\n",
       "      <td>bluecrossblueshieldoftexaslatino</td>\n",
       "      <td>103499073084363</td>\n",
       "      <td>14339.0</td>\n",
       "      <td>2020-10-09 11:41:00 EDT</td>\n",
       "      <td>Photo</td>\n",
       "      <td>1294</td>\n",
       "      <td>28</td>\n",
       "      <td>77</td>\n",
       "      <td>94</td>\n",
       "      <td>...</td>\n",
       "      <td>Platanos, aguacate, arroz y frijoles se encuentran en muchos platos hispanoamericanos. Comparte una foto de tu comida hispana favorita. #HispanicHeritageMonth</td>\n",
       "      <td>https://www.facebook.com/bluecrossblueshieldoftexaslatino/photos/a.141287472638856/2927651804002395/?type=3</td>\n",
       "      <td>NaN</td>\n",
       "      <td>NaN</td>\n",
       "      <td>Timeline Photos</td>\n",
       "      <td>NaN</td>\n",
       "      <td>NaN</td>\n",
       "      <td>NaN</td>\n",
       "      <td>1,507</td>\n",
       "      <td>79.32</td>\n",
       "    </tr>\n",
       "  </tbody>\n",
       "</table>\n",
       "<p>3 rows × 31 columns</p>\n",
       "</div>"
      ],
      "text/plain": [
       "                                   Group Name  \\\n",
       "0  Massachusetts Black & Hispanic Republicans   \n",
       "1             Campuzano Mexican Food - Dallas   \n",
       "2  Blue Cross and Blue Shield of Texas Latino   \n",
       "\n",
       "                          User Name       Facebook Id  Likes at Posting  \\\n",
       "0                           massbhr   372721146231127             546.0   \n",
       "1                   CampuzanoDallas  1402835359935405           30612.0   \n",
       "2  bluecrossblueshieldoftexaslatino   103499073084363           14339.0   \n",
       "\n",
       "                   Created   Type  Likes  Comments  Shares  Love  ...  \\\n",
       "0  2020-08-30 09:58:59 EDT  Photo    177        48    4095    15  ...   \n",
       "1  2020-10-20 18:06:13 EDT  Photo   1905        25      41    58  ...   \n",
       "2  2020-10-09 11:41:00 EDT  Photo   1294        28      77    94  ...   \n",
       "\n",
       "                                                                                                                                                          Message  \\\n",
       "0                                                                                                                                                             NaN   \n",
       "1                                                                                                  Let’s enjoy a delicious Over the top Margarita in the patio ☀️   \n",
       "2  Platanos, aguacate, arroz y frijoles se encuentran en muchos platos hispanoamericanos. Comparte una foto de tu comida hispana favorita. #HispanicHeritageMonth   \n",
       "\n",
       "                                                                                                          Link  \\\n",
       "0                           https://www.facebook.com/massbhr/photos/a.902962399873663/1707320232771205/?type=3   \n",
       "1                  https://www.facebook.com/CampuzanoDallas/photos/a.2737293939822867/2889965091222417/?type=3   \n",
       "2  https://www.facebook.com/bluecrossblueshieldoftexaslatino/photos/a.141287472638856/2927651804002395/?type=3   \n",
       "\n",
       "   Final Link  \\\n",
       "0         NaN   \n",
       "1         NaN   \n",
       "2         NaN   \n",
       "\n",
       "                                                                                                                                                                                                                                                                                                            Image Text  \\\n",
       "0  McKayla J @McKaylaRoseJ BLM did not start under Trump, it started under under Obama. The war on police didn't start under Trump, it started under Obama. This racial tension did not start under Trump, it started under Obama. Obama emboldened this hate through his administration and now we're paying the cost   \n",
       "1                                                                                                                                                                                                                                                                                                                  NaN   \n",
       "2                                                                                                                                                                                                                                                                                                                  NaN   \n",
       "\n",
       "         Link Text Description  Sponsor Id  Sponsor Name  Total Interactions  \\\n",
       "0              NaN         NaN         NaN           NaN               4,354   \n",
       "1              NaN         NaN         NaN           NaN               2,045   \n",
       "2  Timeline Photos         NaN         NaN           NaN               1,507   \n",
       "\n",
       "  Overperforming Score  \n",
       "0                88.86  \n",
       "1                37.18  \n",
       "2                79.32  \n",
       "\n",
       "[3 rows x 31 columns]"
      ]
     },
     "execution_count": 5,
     "metadata": {},
     "output_type": "execute_result"
    }
   ],
   "source": [
    "posts.head(3)"
   ]
  },
  {
   "cell_type": "markdown",
   "metadata": {},
   "source": [
    "## 9. Filter the most relevant columns\n",
    "### Add column to concat Message, Description, Link Text"
   ]
  },
  {
   "cell_type": "code",
   "execution_count": 6,
   "metadata": {},
   "outputs": [],
   "source": [
    "concat_message = posts['Message'].fillna('') + (' ' + posts['Description']).fillna('')+ (' ' + posts['Link Text']).fillna('') + (' ' + posts['Link']).fillna('')\n",
    "posts['MessageDescr'] = concat_message\n",
    "\n",
    "concat_just_message = posts['Message'].fillna('') + (' ' + posts['Description']).fillna('')+ (' ' + posts['Link Text']).fillna('')\n",
    "posts['MessageOnly'] = concat_just_message"
   ]
  },
  {
   "cell_type": "code",
   "execution_count": 7,
   "metadata": {},
   "outputs": [
    {
     "data": {
      "text/plain": [
       "Index(['Group Name', 'User Name', 'Facebook Id', 'Likes at Posting', 'Created',\n",
       "       'Type', 'Likes', 'Comments', 'Shares', 'Love', 'Wow', 'Haha', 'Sad',\n",
       "       'Angry', 'Care', 'Video Share Status', 'Post Views', 'Total Views',\n",
       "       'Total Views For All Crossposts', 'Video Length', 'URL', 'Message',\n",
       "       'Link', 'Final Link', 'Image Text', 'Link Text', 'Description',\n",
       "       'Sponsor Id', 'Sponsor Name', 'Total Interactions',\n",
       "       'Overperforming Score', 'MessageDescr', 'MessageOnly'],\n",
       "      dtype='object')"
      ]
     },
     "execution_count": 7,
     "metadata": {},
     "output_type": "execute_result"
    }
   ],
   "source": [
    "posts.columns"
   ]
  },
  {
   "cell_type": "code",
   "execution_count": 8,
   "metadata": {
    "scrolled": false
   },
   "outputs": [
    {
     "data": {
      "text/html": [
       "<div>\n",
       "<style scoped>\n",
       "    .dataframe tbody tr th:only-of-type {\n",
       "        vertical-align: middle;\n",
       "    }\n",
       "\n",
       "    .dataframe tbody tr th {\n",
       "        vertical-align: top;\n",
       "    }\n",
       "\n",
       "    .dataframe thead th {\n",
       "        text-align: right;\n",
       "    }\n",
       "</style>\n",
       "<table border=\"1\" class=\"dataframe\">\n",
       "  <thead>\n",
       "    <tr style=\"text-align: right;\">\n",
       "      <th></th>\n",
       "      <th>Group Name</th>\n",
       "      <th>User Name</th>\n",
       "      <th>Facebook Id</th>\n",
       "      <th>Likes at Posting</th>\n",
       "      <th>Created</th>\n",
       "      <th>Type</th>\n",
       "      <th>Likes</th>\n",
       "      <th>Comments</th>\n",
       "      <th>Shares</th>\n",
       "      <th>Love</th>\n",
       "      <th>...</th>\n",
       "      <th>Final Link</th>\n",
       "      <th>Image Text</th>\n",
       "      <th>Link Text</th>\n",
       "      <th>Description</th>\n",
       "      <th>Sponsor Id</th>\n",
       "      <th>Sponsor Name</th>\n",
       "      <th>Total Interactions</th>\n",
       "      <th>Overperforming Score</th>\n",
       "      <th>MessageDescr</th>\n",
       "      <th>MessageOnly</th>\n",
       "    </tr>\n",
       "  </thead>\n",
       "  <tbody>\n",
       "    <tr>\n",
       "      <th>4</th>\n",
       "      <td>Institute of  Hispanic Culture of Houston</td>\n",
       "      <td>IHCHOUSTON</td>\n",
       "      <td>1715255265365568</td>\n",
       "      <td>5778.0</td>\n",
       "      <td>2020-08-20 18:00:48 EDT</td>\n",
       "      <td>Native Video</td>\n",
       "      <td>1032</td>\n",
       "      <td>56</td>\n",
       "      <td>106</td>\n",
       "      <td>28</td>\n",
       "      <td>...</td>\n",
       "      <td>NaN</td>\n",
       "      <td>NaN</td>\n",
       "      <td>SPOTLIGHTS VENEZUELA Capítulo 2 con el percusionista JOSE G. HERNANDEZ</td>\n",
       "      <td>NaN</td>\n",
       "      <td>NaN</td>\n",
       "      <td>NaN</td>\n",
       "      <td>1,227</td>\n",
       "      <td>40.9</td>\n",
       "      <td>Conversaremos con este famoso percusionista Venezolano Jose Gregorio Hernandez SPOTLIGHTS VENEZUELA Capítulo 2 con el percusionista JOSE G. HERNANDEZ https://www.facebook.com/IHCHOUSTON/videos/612042733073951/</td>\n",
       "      <td>Conversaremos con este famoso percusionista Venezolano Jose Gregorio Hernandez SPOTLIGHTS VENEZUELA Capítulo 2 con el percusionista JOSE G. HERNANDEZ</td>\n",
       "    </tr>\n",
       "  </tbody>\n",
       "</table>\n",
       "<p>1 rows × 33 columns</p>\n",
       "</div>"
      ],
      "text/plain": [
       "                                  Group Name   User Name       Facebook Id  \\\n",
       "4  Institute of  Hispanic Culture of Houston  IHCHOUSTON  1715255265365568   \n",
       "\n",
       "   Likes at Posting                  Created          Type  Likes  Comments  \\\n",
       "4            5778.0  2020-08-20 18:00:48 EDT  Native Video   1032        56   \n",
       "\n",
       "   Shares  Love  ...  Final Link  Image Text  \\\n",
       "4     106    28  ...         NaN         NaN   \n",
       "\n",
       "                                                                Link Text  \\\n",
       "4  SPOTLIGHTS VENEZUELA Capítulo 2 con el percusionista JOSE G. HERNANDEZ   \n",
       "\n",
       "   Description  Sponsor Id Sponsor Name  Total Interactions  \\\n",
       "4          NaN         NaN          NaN               1,227   \n",
       "\n",
       "   Overperforming Score  \\\n",
       "4                  40.9   \n",
       "\n",
       "                                                                                                                                                                                                        MessageDescr  \\\n",
       "4  Conversaremos con este famoso percusionista Venezolano Jose Gregorio Hernandez SPOTLIGHTS VENEZUELA Capítulo 2 con el percusionista JOSE G. HERNANDEZ https://www.facebook.com/IHCHOUSTON/videos/612042733073951/   \n",
       "\n",
       "                                                                                                                                             MessageOnly  \n",
       "4  Conversaremos con este famoso percusionista Venezolano Jose Gregorio Hernandez SPOTLIGHTS VENEZUELA Capítulo 2 con el percusionista JOSE G. HERNANDEZ  \n",
       "\n",
       "[1 rows x 33 columns]"
      ]
     },
     "execution_count": 8,
     "metadata": {},
     "output_type": "execute_result"
    }
   ],
   "source": [
    "posts[posts['Link Text'].str.lower().str.contains(\"í\", na = False)].head(1)"
   ]
  },
  {
   "cell_type": "code",
   "execution_count": 9,
   "metadata": {},
   "outputs": [
    {
     "name": "stdout",
     "output_type": "stream",
     "text": [
      "This is a smiley face 😂\n",
      "This is a smiley face \n"
     ]
    }
   ],
   "source": [
    "#!/usr/bin/env python\n",
    "import re\n",
    "\n",
    "text = u'This is a smiley face \\U0001f602'\n",
    "print(text) # with emoji\n",
    "\n",
    "def deEmojify(text):\n",
    "    \n",
    "    regrex_pattern = re.compile(pattern = \"[\"\n",
    "        u\"\\U0001F600-\\U0001F64F\"  # emoticons\n",
    "        u\"\\U0001F300-\\U0001F5FF\"  # symbols & pictographs\n",
    "        u\"\\U0001F680-\\U0001F6FF\"  # transport & map symbols\n",
    "        u\"\\U0001F1E0-\\U0001F1FF\"  # flags (iOS)\n",
    "                          \n",
    "                           \"]+\", flags = re.UNICODE)\n",
    "    \n",
    "    \n",
    "    return regrex_pattern.sub(r'',text)\n",
    "\n",
    "print(deEmojify(text))\n",
    "\n",
    "def deEmojify(inputString):\n",
    "    return inputString.encode('ascii', 'ignore').decode('ascii')"
   ]
  },
  {
   "cell_type": "code",
   "execution_count": 10,
   "metadata": {},
   "outputs": [],
   "source": [
    "\n",
    "posts['Group Name']=posts['Group Name'].apply(deEmojify)\n",
    "posts['Group Name']=posts['Group Name'].apply(lambda i: i.replace('\"', ''))\n",
    "posts['Group Name']=posts['Group Name'].apply(lambda i: i.replace(',', ''))\n",
    "posts['Facebook Id'] = posts['Facebook Id'].astype(int)"
   ]
  },
  {
   "cell_type": "markdown",
   "metadata": {},
   "source": [
    "## Read FB Group Names & State\n"
   ]
  },
  {
   "cell_type": "code",
   "execution_count": 11,
   "metadata": {
    "scrolled": true
   },
   "outputs": [
    {
     "data": {
      "text/html": [
       "<div>\n",
       "<style scoped>\n",
       "    .dataframe tbody tr th:only-of-type {\n",
       "        vertical-align: middle;\n",
       "    }\n",
       "\n",
       "    .dataframe tbody tr th {\n",
       "        vertical-align: top;\n",
       "    }\n",
       "\n",
       "    .dataframe thead th {\n",
       "        text-align: right;\n",
       "    }\n",
       "</style>\n",
       "<table border=\"1\" class=\"dataframe\">\n",
       "  <thead>\n",
       "    <tr style=\"text-align: right;\">\n",
       "      <th></th>\n",
       "      <th>name</th>\n",
       "      <th>Page or Account URL</th>\n",
       "      <th>List</th>\n",
       "      <th>State</th>\n",
       "      <th>state</th>\n",
       "      <th>Facebook Id</th>\n",
       "    </tr>\n",
       "  </thead>\n",
       "  <tbody>\n",
       "    <tr>\n",
       "      <th>0</th>\n",
       "      <td>Hispanos unidos en New York (H.U.N.Y)</td>\n",
       "      <td>https://www.facebook.com/groups/793416207356486</td>\n",
       "      <td>Latinos+EstadosGroups</td>\n",
       "      <td>New York</td>\n",
       "      <td>New York</td>\n",
       "      <td>793416207356486</td>\n",
       "    </tr>\n",
       "    <tr>\n",
       "      <th>1</th>\n",
       "      <td>Hispanos en Columbus Ohio</td>\n",
       "      <td>https://www.facebook.com/groups/1450333408570918</td>\n",
       "      <td>Latinos+EstadosGroups</td>\n",
       "      <td>Ohio</td>\n",
       "      <td>Ohio</td>\n",
       "      <td>1450333408570918</td>\n",
       "    </tr>\n",
       "    <tr>\n",
       "      <th>2</th>\n",
       "      <td>Cristianos Hispanos en Dallas, Texas ( Metroplex)</td>\n",
       "      <td>https://www.facebook.com/groups/600361880064744</td>\n",
       "      <td>Latinos+EstadosGroups</td>\n",
       "      <td>Texas</td>\n",
       "      <td>Texas</td>\n",
       "      <td>600361880064744</td>\n",
       "    </tr>\n",
       "    <tr>\n",
       "      <th>3</th>\n",
       "      <td>Hispanos en Oklahoma</td>\n",
       "      <td>https://www.facebook.com/groups/1160877743977648</td>\n",
       "      <td>Latinos+EstadosGroups</td>\n",
       "      <td>Oklahoma</td>\n",
       "      <td>Oklahoma</td>\n",
       "      <td>1160877743977648</td>\n",
       "    </tr>\n",
       "    <tr>\n",
       "      <th>4</th>\n",
       "      <td>Hispanos unidos en el gabacho (Tennessee)</td>\n",
       "      <td>https://www.facebook.com/groups/2663330647279121</td>\n",
       "      <td>Latinos+EstadosGroups</td>\n",
       "      <td>Tennessee</td>\n",
       "      <td>Tennessee</td>\n",
       "      <td>2663330647279121</td>\n",
       "    </tr>\n",
       "    <tr>\n",
       "      <th>...</th>\n",
       "      <td>...</td>\n",
       "      <td>...</td>\n",
       "      <td>...</td>\n",
       "      <td>...</td>\n",
       "      <td>...</td>\n",
       "      <td>...</td>\n",
       "    </tr>\n",
       "    <tr>\n",
       "      <th>492</th>\n",
       "      <td>Latinos en SWFL</td>\n",
       "      <td>https://www.facebook.com/groups/125398434802756</td>\n",
       "      <td>Latinos+EstadosGroups</td>\n",
       "      <td>Florida</td>\n",
       "      <td>Florida</td>\n",
       "      <td>125398434802756</td>\n",
       "    </tr>\n",
       "    <tr>\n",
       "      <th>493</th>\n",
       "      <td>Latinos en Fayetteville NC</td>\n",
       "      <td>https://www.facebook.com/groups/330153457746158</td>\n",
       "      <td>Latinos+EstadosGroups</td>\n",
       "      <td>North Carolina</td>\n",
       "      <td>North Carolina</td>\n",
       "      <td>330153457746158</td>\n",
       "    </tr>\n",
       "    <tr>\n",
       "      <th>494</th>\n",
       "      <td>LATINOS EN UTAH</td>\n",
       "      <td>https://www.facebook.com/groups/147690845007</td>\n",
       "      <td>Latinos+EstadosGroups</td>\n",
       "      <td>Utah</td>\n",
       "      <td>Utah</td>\n",
       "      <td>147690845007</td>\n",
       "    </tr>\n",
       "    <tr>\n",
       "      <th>495</th>\n",
       "      <td>Latinos en los Angeles California compra y venta</td>\n",
       "      <td>https://www.facebook.com/groups/166308334272338</td>\n",
       "      <td>Latinos+EstadosGroups</td>\n",
       "      <td>California</td>\n",
       "      <td>California</td>\n",
       "      <td>166308334272338</td>\n",
       "    </tr>\n",
       "    <tr>\n",
       "      <th>496</th>\n",
       "      <td>Latinos en Tampa Bay official</td>\n",
       "      <td>https://www.facebook.com/groups/1422333744524670</td>\n",
       "      <td>Latinos+EstadosGroups</td>\n",
       "      <td>Florida</td>\n",
       "      <td>Florida</td>\n",
       "      <td>1422333744524670</td>\n",
       "    </tr>\n",
       "  </tbody>\n",
       "</table>\n",
       "<p>497 rows × 6 columns</p>\n",
       "</div>"
      ],
      "text/plain": [
       "                                                  name  \\\n",
       "0                Hispanos unidos en New York (H.U.N.Y)   \n",
       "1                            Hispanos en Columbus Ohio   \n",
       "2    Cristianos Hispanos en Dallas, Texas ( Metroplex)   \n",
       "3                                 Hispanos en Oklahoma   \n",
       "4            Hispanos unidos en el gabacho (Tennessee)   \n",
       "..                                                 ...   \n",
       "492                                    Latinos en SWFL   \n",
       "493                         Latinos en Fayetteville NC   \n",
       "494                                    LATINOS EN UTAH   \n",
       "495   Latinos en los Angeles California compra y venta   \n",
       "496                      Latinos en Tampa Bay official   \n",
       "\n",
       "                                  Page or Account URL                   List  \\\n",
       "0     https://www.facebook.com/groups/793416207356486  Latinos+EstadosGroups   \n",
       "1    https://www.facebook.com/groups/1450333408570918  Latinos+EstadosGroups   \n",
       "2     https://www.facebook.com/groups/600361880064744  Latinos+EstadosGroups   \n",
       "3    https://www.facebook.com/groups/1160877743977648  Latinos+EstadosGroups   \n",
       "4    https://www.facebook.com/groups/2663330647279121  Latinos+EstadosGroups   \n",
       "..                                                ...                    ...   \n",
       "492   https://www.facebook.com/groups/125398434802756  Latinos+EstadosGroups   \n",
       "493   https://www.facebook.com/groups/330153457746158  Latinos+EstadosGroups   \n",
       "494      https://www.facebook.com/groups/147690845007  Latinos+EstadosGroups   \n",
       "495   https://www.facebook.com/groups/166308334272338  Latinos+EstadosGroups   \n",
       "496  https://www.facebook.com/groups/1422333744524670  Latinos+EstadosGroups   \n",
       "\n",
       "              State           state       Facebook Id  \n",
       "0          New York        New York   793416207356486  \n",
       "1              Ohio            Ohio  1450333408570918  \n",
       "2             Texas           Texas   600361880064744  \n",
       "3          Oklahoma        Oklahoma  1160877743977648  \n",
       "4         Tennessee       Tennessee  2663330647279121  \n",
       "..              ...             ...               ...  \n",
       "492         Florida         Florida   125398434802756  \n",
       "493  North Carolina  North Carolina   330153457746158  \n",
       "494            Utah            Utah      147690845007  \n",
       "495      California      California   166308334272338  \n",
       "496         Florida         Florida  1422333744524670  \n",
       "\n",
       "[497 rows x 6 columns]"
      ]
     },
     "execution_count": 11,
     "metadata": {},
     "output_type": "execute_result"
    }
   ],
   "source": [
    "fb_groups = pd.read_csv(\"cscwDocs/parties/FBGroupsPolitical_cities.csv\")\n",
    "fb_groups['Facebook Id'] = fb_groups['Page or Account URL'].str.strip(\"https://www.facebook.com/groups/\")\n",
    "fb_groups"
   ]
  },
  {
   "cell_type": "markdown",
   "metadata": {},
   "source": [
    "### 4. US states"
   ]
  },
  {
   "cell_type": "code",
   "execution_count": 12,
   "metadata": {},
   "outputs": [],
   "source": [
    "us_states = pd.DataFrame({'State':['Alabama','Alaska','Arizona','Arkansas','California','Colorado','Connecticut','Delaware','District of Columbia','Florida',\n",
    "             'Georgia','Hawaii','Idaho','Illinois','Indiana','Iowa','Kansas','Kentucky','Louisiana','Maine','Maryland','Massachusetts',\n",
    "             'Michigan','Minnesota','Mississippi','Missouri','Montana','Nebraska','Nevada','New Hampshire','New Jersey','New Mexico',\n",
    "             'New York','North Carolina','North Dakota','Ohio','Oklahoma','Oregon','Pennsylvania','Rhode Island','South Carolina',\n",
    "             'South Dakota','Tennessee','Texas','Utah','Vermont','Virginia','Washington','West Virginia','Wisconsin','Wyoming']})"
   ]
  },
  {
   "cell_type": "markdown",
   "metadata": {},
   "source": [
    "##  Count posts in general by state"
   ]
  },
  {
   "cell_type": "code",
   "execution_count": 13,
   "metadata": {},
   "outputs": [
    {
     "data": {
      "text/html": [
       "<div>\n",
       "<style scoped>\n",
       "    .dataframe tbody tr th:only-of-type {\n",
       "        vertical-align: middle;\n",
       "    }\n",
       "\n",
       "    .dataframe tbody tr th {\n",
       "        vertical-align: top;\n",
       "    }\n",
       "\n",
       "    .dataframe thead th {\n",
       "        text-align: right;\n",
       "    }\n",
       "</style>\n",
       "<table border=\"1\" class=\"dataframe\">\n",
       "  <thead>\n",
       "    <tr style=\"text-align: right;\">\n",
       "      <th></th>\n",
       "      <th>State</th>\n",
       "      <th>Posts_Counts</th>\n",
       "    </tr>\n",
       "  </thead>\n",
       "  <tbody>\n",
       "    <tr>\n",
       "      <th>0</th>\n",
       "      <td>Arizona</td>\n",
       "      <td>4140</td>\n",
       "    </tr>\n",
       "    <tr>\n",
       "      <th>1</th>\n",
       "      <td>Arkansas</td>\n",
       "      <td>44</td>\n",
       "    </tr>\n",
       "    <tr>\n",
       "      <th>2</th>\n",
       "      <td>California</td>\n",
       "      <td>61055</td>\n",
       "    </tr>\n",
       "    <tr>\n",
       "      <th>3</th>\n",
       "      <td>Colorado</td>\n",
       "      <td>1645</td>\n",
       "    </tr>\n",
       "    <tr>\n",
       "      <th>4</th>\n",
       "      <td>Connecticut</td>\n",
       "      <td>9245</td>\n",
       "    </tr>\n",
       "    <tr>\n",
       "      <th>5</th>\n",
       "      <td>Florida</td>\n",
       "      <td>303098</td>\n",
       "    </tr>\n",
       "    <tr>\n",
       "      <th>6</th>\n",
       "      <td>Georgia</td>\n",
       "      <td>23082</td>\n",
       "    </tr>\n",
       "    <tr>\n",
       "      <th>7</th>\n",
       "      <td>Illinois</td>\n",
       "      <td>16804</td>\n",
       "    </tr>\n",
       "    <tr>\n",
       "      <th>8</th>\n",
       "      <td>Indiana</td>\n",
       "      <td>103</td>\n",
       "    </tr>\n",
       "    <tr>\n",
       "      <th>9</th>\n",
       "      <td>Iowa</td>\n",
       "      <td>675</td>\n",
       "    </tr>\n",
       "  </tbody>\n",
       "</table>\n",
       "</div>"
      ],
      "text/plain": [
       "         State  Posts_Counts\n",
       "0      Arizona          4140\n",
       "1     Arkansas            44\n",
       "2   California         61055\n",
       "3     Colorado          1645\n",
       "4  Connecticut          9245\n",
       "5      Florida        303098\n",
       "6      Georgia         23082\n",
       "7     Illinois         16804\n",
       "8      Indiana           103\n",
       "9         Iowa           675"
      ]
     },
     "execution_count": 13,
     "metadata": {},
     "output_type": "execute_result"
    }
   ],
   "source": [
    "from functools import reduce\n",
    "data_frames = [fb_groups, posts]\n",
    "fb_groups['Facebook Id'] = fb_groups['Facebook Id'].astype(int)\n",
    "df_posts_state  = reduce(lambda  left,right: pd.merge(left,right,on=['Facebook Id'],\n",
    "                                            how='outer'), data_frames)\n",
    "df_count = df_posts_state.groupby(['State']).agg({'Facebook Id':'count'}).reset_index() \n",
    "\n",
    "df_count.columns = ['State','Posts_Counts']\n",
    "df_count.sort_values(by=['State'], ascending=True,inplace=True)\n",
    "df_count.fillna(0, inplace=True)\n",
    "df_count['Posts_Counts'] = df_count['Posts_Counts'].astype(int)\n",
    "df_count.head(10)"
   ]
  },
  {
   "cell_type": "code",
   "execution_count": 14,
   "metadata": {},
   "outputs": [
    {
     "data": {
      "text/html": [
       "<div>\n",
       "<style scoped>\n",
       "    .dataframe tbody tr th:only-of-type {\n",
       "        vertical-align: middle;\n",
       "    }\n",
       "\n",
       "    .dataframe tbody tr th {\n",
       "        vertical-align: top;\n",
       "    }\n",
       "\n",
       "    .dataframe thead th {\n",
       "        text-align: right;\n",
       "    }\n",
       "</style>\n",
       "<table border=\"1\" class=\"dataframe\">\n",
       "  <thead>\n",
       "    <tr style=\"text-align: right;\">\n",
       "      <th></th>\n",
       "      <th>State</th>\n",
       "      <th>Posts_Counts</th>\n",
       "    </tr>\n",
       "  </thead>\n",
       "  <tbody>\n",
       "    <tr>\n",
       "      <th>0</th>\n",
       "      <td>Arizona</td>\n",
       "      <td>4140</td>\n",
       "    </tr>\n",
       "    <tr>\n",
       "      <th>1</th>\n",
       "      <td>Arkansas</td>\n",
       "      <td>44</td>\n",
       "    </tr>\n",
       "    <tr>\n",
       "      <th>2</th>\n",
       "      <td>California</td>\n",
       "      <td>61055</td>\n",
       "    </tr>\n",
       "    <tr>\n",
       "      <th>3</th>\n",
       "      <td>Colorado</td>\n",
       "      <td>1645</td>\n",
       "    </tr>\n",
       "    <tr>\n",
       "      <th>4</th>\n",
       "      <td>Connecticut</td>\n",
       "      <td>9245</td>\n",
       "    </tr>\n",
       "    <tr>\n",
       "      <th>5</th>\n",
       "      <td>Florida</td>\n",
       "      <td>303098</td>\n",
       "    </tr>\n",
       "    <tr>\n",
       "      <th>6</th>\n",
       "      <td>Georgia</td>\n",
       "      <td>23082</td>\n",
       "    </tr>\n",
       "    <tr>\n",
       "      <th>7</th>\n",
       "      <td>Illinois</td>\n",
       "      <td>16804</td>\n",
       "    </tr>\n",
       "    <tr>\n",
       "      <th>8</th>\n",
       "      <td>Indiana</td>\n",
       "      <td>103</td>\n",
       "    </tr>\n",
       "    <tr>\n",
       "      <th>9</th>\n",
       "      <td>Iowa</td>\n",
       "      <td>675</td>\n",
       "    </tr>\n",
       "    <tr>\n",
       "      <th>10</th>\n",
       "      <td>Kentucky</td>\n",
       "      <td>2552</td>\n",
       "    </tr>\n",
       "    <tr>\n",
       "      <th>11</th>\n",
       "      <td>Maryland</td>\n",
       "      <td>40412</td>\n",
       "    </tr>\n",
       "    <tr>\n",
       "      <th>12</th>\n",
       "      <td>Massachusetts</td>\n",
       "      <td>20543</td>\n",
       "    </tr>\n",
       "    <tr>\n",
       "      <th>13</th>\n",
       "      <td>Michigan</td>\n",
       "      <td>1586</td>\n",
       "    </tr>\n",
       "    <tr>\n",
       "      <th>14</th>\n",
       "      <td>Minnesota</td>\n",
       "      <td>31955</td>\n",
       "    </tr>\n",
       "    <tr>\n",
       "      <th>15</th>\n",
       "      <td>Mississippi</td>\n",
       "      <td>72</td>\n",
       "    </tr>\n",
       "    <tr>\n",
       "      <th>16</th>\n",
       "      <td>Missouri</td>\n",
       "      <td>12375</td>\n",
       "    </tr>\n",
       "    <tr>\n",
       "      <th>17</th>\n",
       "      <td>Montana</td>\n",
       "      <td>8</td>\n",
       "    </tr>\n",
       "    <tr>\n",
       "      <th>18</th>\n",
       "      <td>Nebraska</td>\n",
       "      <td>210</td>\n",
       "    </tr>\n",
       "    <tr>\n",
       "      <th>19</th>\n",
       "      <td>Nevada</td>\n",
       "      <td>2768</td>\n",
       "    </tr>\n",
       "    <tr>\n",
       "      <th>20</th>\n",
       "      <td>New Jersey</td>\n",
       "      <td>92209</td>\n",
       "    </tr>\n",
       "    <tr>\n",
       "      <th>21</th>\n",
       "      <td>New York</td>\n",
       "      <td>123670</td>\n",
       "    </tr>\n",
       "    <tr>\n",
       "      <th>22</th>\n",
       "      <td>North Carolina</td>\n",
       "      <td>31737</td>\n",
       "    </tr>\n",
       "    <tr>\n",
       "      <th>23</th>\n",
       "      <td>North Dakota</td>\n",
       "      <td>37</td>\n",
       "    </tr>\n",
       "    <tr>\n",
       "      <th>24</th>\n",
       "      <td>Ohio</td>\n",
       "      <td>27205</td>\n",
       "    </tr>\n",
       "    <tr>\n",
       "      <th>25</th>\n",
       "      <td>Oklahoma</td>\n",
       "      <td>7780</td>\n",
       "    </tr>\n",
       "    <tr>\n",
       "      <th>26</th>\n",
       "      <td>Oregon</td>\n",
       "      <td>10657</td>\n",
       "    </tr>\n",
       "    <tr>\n",
       "      <th>27</th>\n",
       "      <td>Pennsylvania</td>\n",
       "      <td>4661</td>\n",
       "    </tr>\n",
       "    <tr>\n",
       "      <th>28</th>\n",
       "      <td>Rhode Island</td>\n",
       "      <td>249</td>\n",
       "    </tr>\n",
       "    <tr>\n",
       "      <th>29</th>\n",
       "      <td>South Carolina</td>\n",
       "      <td>2507</td>\n",
       "    </tr>\n",
       "    <tr>\n",
       "      <th>30</th>\n",
       "      <td>South Dakota</td>\n",
       "      <td>374</td>\n",
       "    </tr>\n",
       "    <tr>\n",
       "      <th>31</th>\n",
       "      <td>Tennessee</td>\n",
       "      <td>14433</td>\n",
       "    </tr>\n",
       "    <tr>\n",
       "      <th>32</th>\n",
       "      <td>Texas</td>\n",
       "      <td>153434</td>\n",
       "    </tr>\n",
       "    <tr>\n",
       "      <th>33</th>\n",
       "      <td>Utah</td>\n",
       "      <td>32085</td>\n",
       "    </tr>\n",
       "    <tr>\n",
       "      <th>34</th>\n",
       "      <td>Virginia</td>\n",
       "      <td>7139</td>\n",
       "    </tr>\n",
       "    <tr>\n",
       "      <th>35</th>\n",
       "      <td>Washington</td>\n",
       "      <td>2097</td>\n",
       "    </tr>\n",
       "    <tr>\n",
       "      <th>36</th>\n",
       "      <td>Wisconsin</td>\n",
       "      <td>2668</td>\n",
       "    </tr>\n",
       "    <tr>\n",
       "      <th>37</th>\n",
       "      <td>Wyoming</td>\n",
       "      <td>40</td>\n",
       "    </tr>\n",
       "    <tr>\n",
       "      <th>38</th>\n",
       "      <td>Alabama</td>\n",
       "      <td>0</td>\n",
       "    </tr>\n",
       "    <tr>\n",
       "      <th>39</th>\n",
       "      <td>Alaska</td>\n",
       "      <td>0</td>\n",
       "    </tr>\n",
       "    <tr>\n",
       "      <th>40</th>\n",
       "      <td>Delaware</td>\n",
       "      <td>0</td>\n",
       "    </tr>\n",
       "    <tr>\n",
       "      <th>41</th>\n",
       "      <td>District of Columbia</td>\n",
       "      <td>0</td>\n",
       "    </tr>\n",
       "    <tr>\n",
       "      <th>42</th>\n",
       "      <td>Hawaii</td>\n",
       "      <td>0</td>\n",
       "    </tr>\n",
       "    <tr>\n",
       "      <th>43</th>\n",
       "      <td>Idaho</td>\n",
       "      <td>0</td>\n",
       "    </tr>\n",
       "    <tr>\n",
       "      <th>44</th>\n",
       "      <td>Kansas</td>\n",
       "      <td>0</td>\n",
       "    </tr>\n",
       "    <tr>\n",
       "      <th>45</th>\n",
       "      <td>Louisiana</td>\n",
       "      <td>0</td>\n",
       "    </tr>\n",
       "    <tr>\n",
       "      <th>46</th>\n",
       "      <td>Maine</td>\n",
       "      <td>0</td>\n",
       "    </tr>\n",
       "    <tr>\n",
       "      <th>47</th>\n",
       "      <td>New Hampshire</td>\n",
       "      <td>0</td>\n",
       "    </tr>\n",
       "    <tr>\n",
       "      <th>48</th>\n",
       "      <td>New Mexico</td>\n",
       "      <td>0</td>\n",
       "    </tr>\n",
       "    <tr>\n",
       "      <th>49</th>\n",
       "      <td>Vermont</td>\n",
       "      <td>0</td>\n",
       "    </tr>\n",
       "    <tr>\n",
       "      <th>50</th>\n",
       "      <td>West Virginia</td>\n",
       "      <td>0</td>\n",
       "    </tr>\n",
       "  </tbody>\n",
       "</table>\n",
       "</div>"
      ],
      "text/plain": [
       "                   State  Posts_Counts\n",
       "0                Arizona          4140\n",
       "1               Arkansas            44\n",
       "2             California         61055\n",
       "3               Colorado          1645\n",
       "4            Connecticut          9245\n",
       "5                Florida        303098\n",
       "6                Georgia         23082\n",
       "7               Illinois         16804\n",
       "8                Indiana           103\n",
       "9                   Iowa           675\n",
       "10              Kentucky          2552\n",
       "11              Maryland         40412\n",
       "12         Massachusetts         20543\n",
       "13              Michigan          1586\n",
       "14             Minnesota         31955\n",
       "15           Mississippi            72\n",
       "16              Missouri         12375\n",
       "17               Montana             8\n",
       "18              Nebraska           210\n",
       "19                Nevada          2768\n",
       "20            New Jersey         92209\n",
       "21              New York        123670\n",
       "22        North Carolina         31737\n",
       "23          North Dakota            37\n",
       "24                  Ohio         27205\n",
       "25              Oklahoma          7780\n",
       "26                Oregon         10657\n",
       "27          Pennsylvania          4661\n",
       "28          Rhode Island           249\n",
       "29        South Carolina          2507\n",
       "30          South Dakota           374\n",
       "31             Tennessee         14433\n",
       "32                 Texas        153434\n",
       "33                  Utah         32085\n",
       "34              Virginia          7139\n",
       "35            Washington          2097\n",
       "36             Wisconsin          2668\n",
       "37               Wyoming            40\n",
       "38               Alabama             0\n",
       "39                Alaska             0\n",
       "40              Delaware             0\n",
       "41  District of Columbia             0\n",
       "42                Hawaii             0\n",
       "43                 Idaho             0\n",
       "44                Kansas             0\n",
       "45             Louisiana             0\n",
       "46                 Maine             0\n",
       "47         New Hampshire             0\n",
       "48            New Mexico             0\n",
       "49               Vermont             0\n",
       "50         West Virginia             0"
      ]
     },
     "execution_count": 14,
     "metadata": {},
     "output_type": "execute_result"
    }
   ],
   "source": [
    "data_frames = [df_count, us_states]\n",
    "missing_states  = reduce(lambda  left,right: pd.merge(left,right,on=['State'],\n",
    "                                            how='outer'), data_frames)\n",
    "missing_states.fillna(0, inplace=True)\n",
    "missing_states['Posts_Counts'] = missing_states['Posts_Counts'].astype(int)\n",
    "missing_states"
   ]
  },
  {
   "cell_type": "code",
   "execution_count": 15,
   "metadata": {},
   "outputs": [],
   "source": [
    "df_count.to_csv('cscwDocs/FB_groups_States/FB_groups_posts_by_state2.csv',index=False,na_rep=0)"
   ]
  },
  {
   "cell_type": "code",
   "execution_count": 16,
   "metadata": {},
   "outputs": [
    {
     "data": {
      "text/plain": [
       "Index(['name', 'Page or Account URL', 'List', 'State', 'state', 'Facebook Id',\n",
       "       'Group Name', 'User Name', 'Likes at Posting', 'Created', 'Type',\n",
       "       'Likes', 'Comments', 'Shares', 'Love', 'Wow', 'Haha', 'Sad', 'Angry',\n",
       "       'Care', 'Video Share Status', 'Post Views', 'Total Views',\n",
       "       'Total Views For All Crossposts', 'Video Length', 'URL', 'Message',\n",
       "       'Link', 'Final Link', 'Image Text', 'Link Text', 'Description',\n",
       "       'Sponsor Id', 'Sponsor Name', 'Total Interactions',\n",
       "       'Overperforming Score', 'MessageDescr', 'MessageOnly'],\n",
       "      dtype='object')"
      ]
     },
     "execution_count": 16,
     "metadata": {},
     "output_type": "execute_result"
    }
   ],
   "source": [
    "df_posts_state.columns"
   ]
  },
  {
   "cell_type": "markdown",
   "metadata": {},
   "source": [
    "## 3. Which groups are publishing the majority of the content"
   ]
  },
  {
   "cell_type": "code",
   "execution_count": 17,
   "metadata": {},
   "outputs": [
    {
     "data": {
      "text/html": [
       "<div>\n",
       "<style scoped>\n",
       "    .dataframe tbody tr th:only-of-type {\n",
       "        vertical-align: middle;\n",
       "    }\n",
       "\n",
       "    .dataframe tbody tr th {\n",
       "        vertical-align: top;\n",
       "    }\n",
       "\n",
       "    .dataframe thead th {\n",
       "        text-align: right;\n",
       "    }\n",
       "</style>\n",
       "<table border=\"1\" class=\"dataframe\">\n",
       "  <thead>\n",
       "    <tr style=\"text-align: right;\">\n",
       "      <th></th>\n",
       "      <th>Facebook Id</th>\n",
       "    </tr>\n",
       "    <tr>\n",
       "      <th>Group Name</th>\n",
       "      <th></th>\n",
       "    </tr>\n",
       "  </thead>\n",
       "  <tbody>\n",
       "    <tr>\n",
       "      <th>LATINOS EN NEW YORK</th>\n",
       "      <td>73716</td>\n",
       "    </tr>\n",
       "    <tr>\n",
       "      <th>Venezolanos en Miami</th>\n",
       "      <td>29886</td>\n",
       "    </tr>\n",
       "    <tr>\n",
       "      <th>Latinos en New Jersey y areas cercanas</th>\n",
       "      <td>20811</td>\n",
       "    </tr>\n",
       "    <tr>\n",
       "      <th>Cubanos en miamifl</th>\n",
       "      <td>16746</td>\n",
       "    </tr>\n",
       "    <tr>\n",
       "      <th>Latinos en Minnesota</th>\n",
       "      <td>16011</td>\n",
       "    </tr>\n",
       "    <tr>\n",
       "      <th>...</th>\n",
       "      <td>...</td>\n",
       "    </tr>\n",
       "    <tr>\n",
       "      <th>New York State  Black Puerto Rican Hispanic and Asian Legislative Caucus</th>\n",
       "      <td>1</td>\n",
       "    </tr>\n",
       "    <tr>\n",
       "      <th>Latino San Francisco Bay Area</th>\n",
       "      <td>1</td>\n",
       "    </tr>\n",
       "    <tr>\n",
       "      <th>North Carolina Congress of Latino Organizations</th>\n",
       "      <td>1</td>\n",
       "    </tr>\n",
       "    <tr>\n",
       "      <th>Don Carlos Mexican Restaurant 416 76th Street Houston</th>\n",
       "      <td>1</td>\n",
       "    </tr>\n",
       "    <tr>\n",
       "      <th>Hispanic Chamber of Commerce of Palm Beach County</th>\n",
       "      <td>1</td>\n",
       "    </tr>\n",
       "  </tbody>\n",
       "</table>\n",
       "<p>783 rows × 1 columns</p>\n",
       "</div>"
      ],
      "text/plain": [
       "                                                                          Facebook Id\n",
       "Group Name                                                                           \n",
       "LATINOS EN NEW YORK                                                             73716\n",
       "Venezolanos en Miami                                                            29886\n",
       "Latinos en New Jersey y areas cercanas                                          20811\n",
       "Cubanos en miamifl                                                              16746\n",
       "Latinos en Minnesota                                                            16011\n",
       "...                                                                               ...\n",
       "New York State  Black Puerto Rican Hispanic and Asian Legislative Caucus            1\n",
       "Latino San Francisco Bay Area                                                       1\n",
       "North Carolina Congress of Latino Organizations                                     1\n",
       "Don Carlos Mexican Restaurant 416 76th Street Houston                               1\n",
       "Hispanic Chamber of Commerce of Palm Beach County                                   1\n",
       "\n",
       "[783 rows x 1 columns]"
      ]
     },
     "execution_count": 17,
     "metadata": {},
     "output_type": "execute_result"
    }
   ],
   "source": [
    "group = posts.groupby(['Group Name'])\n",
    "final_groups = group.agg({'Facebook Id':'count'}).sort_values(by='Facebook Id',ascending=False)\n",
    "final_groups"
   ]
  },
  {
   "cell_type": "code",
   "execution_count": 18,
   "metadata": {
    "scrolled": true
   },
   "outputs": [],
   "source": [
    "final_groups.to_csv(\"cscwDocs/FB_groups_States/Posts_Per_group2.csv\")"
   ]
  },
  {
   "cell_type": "markdown",
   "metadata": {},
   "source": [
    "## 4. Filter posts per topic"
   ]
  },
  {
   "cell_type": "code",
   "execution_count": 19,
   "metadata": {},
   "outputs": [],
   "source": [
    "#Topics\n",
    "economy = 'economy|economía|economia|welfare|taxes|unemployment|employment|job|minimum-wage|union|poverty|poor|homeless|stock|gdp'\n",
    "health_care = 'health care|salud|medico|médico|salud|doctor|medicaid|medicare|planned parenthood|insurance|injury|disability'\n",
    "coronavirus = 'coronavirus|covid|pandemia|vacuna|tos|fiebre|enfermo|pandemic|vaccine|fever|sick'\n",
    "crime = 'crime|crimen|pandilla|violento|vandalism|violence|crime|robbery|theft|gang'\n",
    "supreme_court = 'supreme court|suprema corte|juez|corte suprema|ruth bader ginsberg'\n",
    "climate_change = 'climate change|cambio climático|environment|recycle|pollution|litter|nature|climate change|global warming ",
    "'\n",
    "immigration = 'immigration|migration|inmigración|migración|immigracion|indocumentado|frontera|pared|ice|border'\n",
    "gun_policy = 'gun policy|gun policies|política de armas|guns rights|NRA|armas|arma|pistola|política de armas|armas|gun violence|shooting|2nd amendment|second amendment|concealed carry'\n",
    "foreign_policy ='foreign policy|política exterior|foreign policies|china|russia|united kingdom|england|mexico|canada|trade|embargo|ambassador|consulate|middle east|prime minister|war'\n",
    "abortion = 'aborto|abortion|aborto|feto|embarazada|planned parenthood|abortion|fetus|trimester|miscarriage|pregnancy'\n",
    "racism = 'racial inequality|etnic inqueality|racism|racismo|inequidad racial|inequidad étnica|crimen de odio|igualdad de raza y étnica|discriminación|asian|black|hate crime|racism|desigualdad|blm|all lives matter'\n",
    "\n",
    "\n",
    "pd.set_option('display.max_colwidth', 400)\n",
    "path = 'cscwDocs/FB_groups_States/Topics/'\n",
    "prefix = 'FB_groups_States_'"
   ]
  },
  {
   "cell_type": "code",
   "execution_count": 20,
   "metadata": {},
   "outputs": [
    {
     "name": "stdout",
     "output_type": "stream",
     "text": [
      "economy (14507, 38)\n"
     ]
    }
   ],
   "source": [
    "posts_economy = df_posts_state.copy()\n",
    "posts_economy = df_posts_state[df_posts_state['MessageDescr'].str.lower().str.contains(economy   ,na = False)]\n",
    "print('economy', posts_economy.shape)\n",
    "posts_economy.to_csv(path + prefix + 'economy' + '.csv')"
   ]
  },
  {
   "cell_type": "code",
   "execution_count": 21,
   "metadata": {},
   "outputs": [
    {
     "name": "stdout",
     "output_type": "stream",
     "text": [
      "health_care (1, 38)\n"
     ]
    }
   ],
   "source": [
    "topic='health_care'\n",
    "df = df_posts_state.copy()\n",
    "df = df_posts_state[df_posts_state['MessageDescr'].str.lower().str.contains(topic ,na = False)]\n",
    "print(topic, df.shape)\n",
    "df.to_csv(path + prefix + topic + '.csv')"
   ]
  },
  {
   "cell_type": "code",
   "execution_count": 22,
   "metadata": {},
   "outputs": [
    {
     "name": "stdout",
     "output_type": "stream",
     "text": [
      "coronavirus (5954, 38)\n"
     ]
    }
   ],
   "source": [
    "topic='coronavirus'\n",
    "df = df_posts_state.copy()\n",
    "df = df_posts_state[df_posts_state['MessageDescr'].str.lower().str.contains(topic ,na = False)]\n",
    "print(topic, df.shape)\n",
    "df.to_csv(path + prefix + topic + '.csv')"
   ]
  },
  {
   "cell_type": "code",
   "execution_count": 23,
   "metadata": {},
   "outputs": [
    {
     "name": "stdout",
     "output_type": "stream",
     "text": [
      "crime (1131, 38)\n"
     ]
    }
   ],
   "source": [
    "topic='crime'\n",
    "df = df_posts_state.copy()\n",
    "df = df_posts_state[df_posts_state['MessageDescr'].str.lower().str.contains(topic ,na = False)]\n",
    "print(topic, df.shape)\n",
    "df.to_csv(path + prefix + topic + '.csv')"
   ]
  },
  {
   "cell_type": "code",
   "execution_count": 24,
   "metadata": {},
   "outputs": [
    {
     "name": "stdout",
     "output_type": "stream",
     "text": [
      "supreme_court (2, 38)\n"
     ]
    }
   ],
   "source": [
    "topic='supreme_court'\n",
    "df = df_posts_state.copy()\n",
    "df = df_posts_state[df_posts_state['MessageDescr'].str.lower().str.contains(topic ,na = False)]\n",
    "print(topic, df.shape)\n",
    "df.to_csv(path + prefix + topic + '.csv')"
   ]
  },
  {
   "cell_type": "code",
   "execution_count": 25,
   "metadata": {},
   "outputs": [
    {
     "name": "stdout",
     "output_type": "stream",
     "text": [
      "climate_change (0, 38)\n"
     ]
    }
   ],
   "source": [
    "topic='climate_change'\n",
    "df = df_posts_state.copy()\n",
    "df = df_posts_state[df_posts_state['MessageDescr'].str.lower().str.contains(topic ,na = False)]\n",
    "print(topic, df.shape)\n",
    "df.to_csv(path + prefix + topic + '.csv')"
   ]
  },
  {
   "cell_type": "code",
   "execution_count": 26,
   "metadata": {},
   "outputs": [
    {
     "name": "stdout",
     "output_type": "stream",
     "text": [
      "immigration (2714, 38)\n"
     ]
    }
   ],
   "source": [
    "topic='immigration'\n",
    "df = df_posts_state.copy()\n",
    "df = df_posts_state[df_posts_state['MessageDescr'].str.lower().str.contains(topic ,na = False)]\n",
    "print(topic, df.shape)\n",
    "df.to_csv(path + prefix + topic + '.csv')"
   ]
  },
  {
   "cell_type": "code",
   "execution_count": 27,
   "metadata": {},
   "outputs": [
    {
     "name": "stdout",
     "output_type": "stream",
     "text": [
      "gun_policy (0, 38)\n"
     ]
    }
   ],
   "source": [
    "topic='gun_policy'\n",
    "df = df_posts_state.copy()\n",
    "df = df_posts_state[df_posts_state['MessageDescr'].str.lower().str.contains(topic ,na = False)]\n",
    "print(topic, df.shape)\n",
    "df.to_csv(path + prefix + topic + '.csv')"
   ]
  },
  {
   "cell_type": "code",
   "execution_count": 28,
   "metadata": {},
   "outputs": [
    {
     "name": "stdout",
     "output_type": "stream",
     "text": [
      "foreign_policy (0, 38)\n"
     ]
    }
   ],
   "source": [
    "topic='foreign_policy'\n",
    "df = df_posts_state.copy()\n",
    "df = df_posts_state[df_posts_state['MessageDescr'].str.lower().str.contains(topic ,na = False)]\n",
    "print(topic, df.shape)\n",
    "df.to_csv(path + prefix + topic + '.csv')"
   ]
  },
  {
   "cell_type": "code",
   "execution_count": 29,
   "metadata": {},
   "outputs": [
    {
     "name": "stdout",
     "output_type": "stream",
     "text": [
      "abortion (121, 38)\n"
     ]
    }
   ],
   "source": [
    "topic='abortion'\n",
    "df = df_posts_state.copy()\n",
    "df = df_posts_state[df_posts_state['MessageDescr'].str.lower().str.contains(topic ,na = False)]\n",
    "print(topic, df.shape)\n",
    "df.to_csv(path + prefix + topic + '.csv')"
   ]
  },
  {
   "cell_type": "code",
   "execution_count": 30,
   "metadata": {},
   "outputs": [
    {
     "name": "stdout",
     "output_type": "stream",
     "text": [
      "racism (520, 38)\n"
     ]
    }
   ],
   "source": [
    "topic='racism'\n",
    "df = df_posts_state.copy()\n",
    "df = df_posts_state[df_posts_state['MessageDescr'].str.lower().str.contains(topic ,na = False)]\n",
    "print(topic, df.shape)\n",
    "df.to_csv(path + prefix + topic + '.csv')"
   ]
  }
 ],
 "metadata": {
  "kernelspec": {
   "display_name": "Latinx2020env",
   "language": "python",
   "name": "latinx2020env"
  },
  "language_info": {
   "codemirror_mode": {
    "name": "ipython",
    "version": 3
   },
   "file_extension": ".py",
   "mimetype": "text/x-python",
   "name": "python",
   "nbconvert_exporter": "python",
   "pygments_lexer": "ipython3",
   "version": "3.8.5"
  }
 },
 "nbformat": 4,
 "nbformat_minor": 4
}
