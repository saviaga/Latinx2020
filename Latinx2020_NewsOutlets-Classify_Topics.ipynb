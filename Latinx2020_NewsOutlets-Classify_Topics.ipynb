{
 "cells": [
  {
   "cell_type": "code",
   "execution_count": 1,
   "metadata": {},
   "outputs": [],
   "source": [
    "import re\n",
    "\n",
    "import pandas as pd\n",
    "\n",
    "import warnings\n",
    "warnings.filterwarnings(\"ignore\",category=DeprecationWarning)"
   ]
  },
  {
   "cell_type": "markdown",
   "metadata": {},
   "source": [
    "## 1. Read News Outlets List"
   ]
  },
  {
   "cell_type": "code",
   "execution_count": 2,
   "metadata": {
    "scrolled": true
   },
   "outputs": [
    {
     "data": {
      "text/html": [
       "<div>\n",
       "<style scoped>\n",
       "    .dataframe tbody tr th:only-of-type {\n",
       "        vertical-align: middle;\n",
       "    }\n",
       "\n",
       "    .dataframe tbody tr th {\n",
       "        vertical-align: top;\n",
       "    }\n",
       "\n",
       "    .dataframe thead th {\n",
       "        text-align: right;\n",
       "    }\n",
       "</style>\n",
       "<table border=\"1\" class=\"dataframe\">\n",
       "  <thead>\n",
       "    <tr style=\"text-align: right;\">\n",
       "      <th></th>\n",
       "      <th>Estado</th>\n",
       "      <th>State</th>\n",
       "      <th>Medio</th>\n",
       "      <th>Media Outlet</th>\n",
       "      <th>Ciudad</th>\n",
       "      <th>City</th>\n",
       "      <th>Dirección</th>\n",
       "      <th>Zip Code</th>\n",
       "      <th>Latitud</th>\n",
       "      <th>Longitud</th>\n",
       "      <th>...</th>\n",
       "      <th>Fuentes de ingresos</th>\n",
       "      <th>Sources of Revenue</th>\n",
       "      <th>Número de empleados/Number of employees</th>\n",
       "      <th>Frecuencia</th>\n",
       "      <th>Frequency</th>\n",
       "      <th>Facebook</th>\n",
       "      <th>Twitter</th>\n",
       "      <th>Instagram</th>\n",
       "      <th>YouTube</th>\n",
       "      <th>Otra red social</th>\n",
       "    </tr>\n",
       "  </thead>\n",
       "  <tbody>\n",
       "    <tr>\n",
       "      <th>0</th>\n",
       "      <td>Alabama</td>\n",
       "      <td>Alabama</td>\n",
       "      <td>Latino News</td>\n",
       "      <td>Latino News</td>\n",
       "      <td>Trussville</td>\n",
       "      <td>Trussville</td>\n",
       "      <td>PO Box 1313</td>\n",
       "      <td>35173</td>\n",
       "      <td>33.637321</td>\n",
       "      <td>-86.560208</td>\n",
       "      <td>...</td>\n",
       "      <td>NaN</td>\n",
       "      <td>NaN</td>\n",
       "      <td>NaN</td>\n",
       "      <td>Semanario</td>\n",
       "      <td>Weekly</td>\n",
       "      <td>https://www.facebook.com/LatinoNewspaper/</td>\n",
       "      <td>https://twitter.com/latinonews1</td>\n",
       "      <td>NaN</td>\n",
       "      <td>NaN</td>\n",
       "      <td>NaN</td>\n",
       "    </tr>\n",
       "    <tr>\n",
       "      <th>1</th>\n",
       "      <td>Alabama</td>\n",
       "      <td>Alabama</td>\n",
       "      <td>Alabama TV</td>\n",
       "      <td>Alabama TV</td>\n",
       "      <td>Hoover</td>\n",
       "      <td>Hoover</td>\n",
       "      <td>2105 Lorna Ridge Lane, Suite 151</td>\n",
       "      <td>35216</td>\n",
       "      <td>33.391113</td>\n",
       "      <td>-86.796007</td>\n",
       "      <td>...</td>\n",
       "      <td>NaN</td>\n",
       "      <td>NaN</td>\n",
       "      <td>NaN</td>\n",
       "      <td>NaN</td>\n",
       "      <td>NaN</td>\n",
       "      <td>https://www.facebook.com/alabamatv/</td>\n",
       "      <td>https://twitter.com/AlabamaTv</td>\n",
       "      <td>https://www.instagram.com/alabamatv/</td>\n",
       "      <td>https://www.youtube.com/channel/UCdXIk0_d5kv_p...</td>\n",
       "      <td>NaN</td>\n",
       "    </tr>\n",
       "  </tbody>\n",
       "</table>\n",
       "<p>2 rows × 32 columns</p>\n",
       "</div>"
      ],
      "text/plain": [
       "    Estado    State        Medio Media Outlet      Ciudad        City  \\\n",
       "0  Alabama  Alabama  Latino News  Latino News  Trussville  Trussville   \n",
       "1  Alabama  Alabama   Alabama TV   Alabama TV      Hoover      Hoover   \n",
       "\n",
       "                          Dirección Zip Code    Latitud   Longitud  ...  \\\n",
       "0                       PO Box 1313    35173  33.637321 -86.560208  ...   \n",
       "1  2105 Lorna Ridge Lane, Suite 151    35216  33.391113 -86.796007  ...   \n",
       "\n",
       "  Fuentes de ingresos Sources of Revenue  \\\n",
       "0                 NaN                NaN   \n",
       "1                 NaN                NaN   \n",
       "\n",
       "  Número de empleados/Number of employees Frecuencia Frequency  \\\n",
       "0                                     NaN  Semanario    Weekly   \n",
       "1                                     NaN        NaN       NaN   \n",
       "\n",
       "                                    Facebook                          Twitter  \\\n",
       "0  https://www.facebook.com/LatinoNewspaper/  https://twitter.com/latinonews1   \n",
       "1        https://www.facebook.com/alabamatv/    https://twitter.com/AlabamaTv   \n",
       "\n",
       "                              Instagram  \\\n",
       "0                                   NaN   \n",
       "1  https://www.instagram.com/alabamatv/   \n",
       "\n",
       "                                             YouTube Otra red social  \n",
       "0                                                NaN             NaN  \n",
       "1  https://www.youtube.com/channel/UCdXIk0_d5kv_p...             NaN  \n",
       "\n",
       "[2 rows x 32 columns]"
      ]
     },
     "execution_count": 2,
     "metadata": {},
     "output_type": "execute_result"
    }
   ],
   "source": [
    "news_outlets = pd.read_csv(\"cscwDocs/LatinoNewsMediaOutlets_corrected.csv\")\n",
    "news_outlets.head(2)"
   ]
  },
  {
   "cell_type": "code",
   "execution_count": 3,
   "metadata": {},
   "outputs": [],
   "source": [
    "def clean_address(row):\n",
    "    name =  row.lower().split('/')\n",
    "    if  row.lower().startswith('https') or  row.lower().startswith('http'):       \n",
    "        return name[3]\n",
    "    elif row.lower().startswith('www'):\n",
    "        return name[1] \n",
    "    elif row.lower().startswith('facebook'):\n",
    "        return name[1]\n",
    "    else:\n",
    "        print(\"Not found\", row)\n",
    "        return None"
   ]
  },
  {
   "cell_type": "code",
   "execution_count": 4,
   "metadata": {},
   "outputs": [],
   "source": [
    "name_fb = news_outlets[['State','Facebook']].copy()\n",
    "name_fb = name_fb[name_fb['Facebook'].notna()]"
   ]
  },
  {
   "cell_type": "code",
   "execution_count": 5,
   "metadata": {
    "scrolled": true
   },
   "outputs": [
    {
     "data": {
      "text/html": [
       "<div>\n",
       "<style scoped>\n",
       "    .dataframe tbody tr th:only-of-type {\n",
       "        vertical-align: middle;\n",
       "    }\n",
       "\n",
       "    .dataframe tbody tr th {\n",
       "        vertical-align: top;\n",
       "    }\n",
       "\n",
       "    .dataframe thead th {\n",
       "        text-align: right;\n",
       "    }\n",
       "</style>\n",
       "<table border=\"1\" class=\"dataframe\">\n",
       "  <thead>\n",
       "    <tr style=\"text-align: right;\">\n",
       "      <th></th>\n",
       "      <th>State</th>\n",
       "      <th>Facebook</th>\n",
       "      <th>clean_url</th>\n",
       "    </tr>\n",
       "  </thead>\n",
       "  <tbody>\n",
       "    <tr>\n",
       "      <th>0</th>\n",
       "      <td>Alabama</td>\n",
       "      <td>https://www.facebook.com/LatinoNewspaper/</td>\n",
       "      <td>latinonewspaper</td>\n",
       "    </tr>\n",
       "    <tr>\n",
       "      <th>1</th>\n",
       "      <td>Alabama</td>\n",
       "      <td>https://www.facebook.com/alabamatv/</td>\n",
       "      <td>alabamatv</td>\n",
       "    </tr>\n",
       "    <tr>\n",
       "      <th>2</th>\n",
       "      <td>Alabama</td>\n",
       "      <td>https://www.facebook.com/lidernews.alabama/</td>\n",
       "      <td>lidernews.alabama</td>\n",
       "    </tr>\n",
       "  </tbody>\n",
       "</table>\n",
       "</div>"
      ],
      "text/plain": [
       "     State                                     Facebook          clean_url\n",
       "0  Alabama    https://www.facebook.com/LatinoNewspaper/    latinonewspaper\n",
       "1  Alabama          https://www.facebook.com/alabamatv/          alabamatv\n",
       "2  Alabama  https://www.facebook.com/lidernews.alabama/  lidernews.alabama"
      ]
     },
     "execution_count": 5,
     "metadata": {},
     "output_type": "execute_result"
    }
   ],
   "source": [
    "name_fb['clean_url'] = name_fb['Facebook'].apply(clean_address)\n",
    "name_fb.head(3)"
   ]
  },
  {
   "cell_type": "code",
   "execution_count": 6,
   "metadata": {},
   "outputs": [
    {
     "data": {
      "text/plain": [
       "487"
      ]
     },
     "execution_count": 6,
     "metadata": {},
     "output_type": "execute_result"
    }
   ],
   "source": [
    "name_fb['clean_url'].nunique()"
   ]
  },
  {
   "cell_type": "code",
   "execution_count": 7,
   "metadata": {},
   "outputs": [
    {
     "data": {
      "text/html": [
       "<div>\n",
       "<style scoped>\n",
       "    .dataframe tbody tr th:only-of-type {\n",
       "        vertical-align: middle;\n",
       "    }\n",
       "\n",
       "    .dataframe tbody tr th {\n",
       "        vertical-align: top;\n",
       "    }\n",
       "\n",
       "    .dataframe thead th {\n",
       "        text-align: right;\n",
       "    }\n",
       "</style>\n",
       "<table border=\"1\" class=\"dataframe\">\n",
       "  <thead>\n",
       "    <tr style=\"text-align: right;\">\n",
       "      <th></th>\n",
       "      <th>State</th>\n",
       "      <th>Facebook</th>\n",
       "      <th>clean_url</th>\n",
       "    </tr>\n",
       "  </thead>\n",
       "  <tbody>\n",
       "    <tr>\n",
       "      <th>613</th>\n",
       "      <td>District of Columbia</td>\n",
       "      <td>https://www.facebook.com/eltiempolatino/</td>\n",
       "      <td>eltiempolatino</td>\n",
       "    </tr>\n",
       "  </tbody>\n",
       "</table>\n",
       "</div>"
      ],
      "text/plain": [
       "                    State                                  Facebook  \\\n",
       "613  District of Columbia  https://www.facebook.com/eltiempolatino/   \n",
       "\n",
       "          clean_url  \n",
       "613  eltiempolatino  "
      ]
     },
     "execution_count": 7,
     "metadata": {},
     "output_type": "execute_result"
    }
   ],
   "source": [
    "name_fb[name_fb['clean_url']=='eltiempolatino']"
   ]
  },
  {
   "cell_type": "code",
   "execution_count": 8,
   "metadata": {},
   "outputs": [
    {
     "data": {
      "text/html": [
       "<div>\n",
       "<style scoped>\n",
       "    .dataframe tbody tr th:only-of-type {\n",
       "        vertical-align: middle;\n",
       "    }\n",
       "\n",
       "    .dataframe tbody tr th {\n",
       "        vertical-align: top;\n",
       "    }\n",
       "\n",
       "    .dataframe thead th {\n",
       "        text-align: right;\n",
       "    }\n",
       "</style>\n",
       "<table border=\"1\" class=\"dataframe\">\n",
       "  <thead>\n",
       "    <tr style=\"text-align: right;\">\n",
       "      <th></th>\n",
       "      <th>State</th>\n",
       "      <th>Facebook</th>\n",
       "      <th>clean_url</th>\n",
       "    </tr>\n",
       "  </thead>\n",
       "  <tbody>\n",
       "    <tr>\n",
       "      <th>611</th>\n",
       "      <td>District of Columbia</td>\n",
       "      <td>https://www.facebook.com/NTN24/</td>\n",
       "      <td>ntn24</td>\n",
       "    </tr>\n",
       "    <tr>\n",
       "      <th>612</th>\n",
       "      <td>District of Columbia</td>\n",
       "      <td>https://www.facebook.com/Latinovations/</td>\n",
       "      <td>latinovations</td>\n",
       "    </tr>\n",
       "    <tr>\n",
       "      <th>613</th>\n",
       "      <td>District of Columbia</td>\n",
       "      <td>https://www.facebook.com/eltiempolatino/</td>\n",
       "      <td>eltiempolatino</td>\n",
       "    </tr>\n",
       "    <tr>\n",
       "      <th>614</th>\n",
       "      <td>District of Columbia</td>\n",
       "      <td>https://www.facebook.com/NoticiasDC/</td>\n",
       "      <td>noticiasdc</td>\n",
       "    </tr>\n",
       "    <tr>\n",
       "      <th>615</th>\n",
       "      <td>District of Columbia</td>\n",
       "      <td>https://www.facebook.com/Telemundo44/</td>\n",
       "      <td>telemundo44</td>\n",
       "    </tr>\n",
       "    <tr>\n",
       "      <th>617</th>\n",
       "      <td>District of Columbia</td>\n",
       "      <td>https://www.facebook.com/ElComercioNewspaperCorp/</td>\n",
       "      <td>elcomercionewspapercorp</td>\n",
       "    </tr>\n",
       "    <tr>\n",
       "      <th>618</th>\n",
       "      <td>District of Columbia</td>\n",
       "      <td>https://www.facebook.com/AgenciaEFEnoticias/</td>\n",
       "      <td>agenciaefenoticias</td>\n",
       "    </tr>\n",
       "  </tbody>\n",
       "</table>\n",
       "</div>"
      ],
      "text/plain": [
       "                    State                                           Facebook  \\\n",
       "611  District of Columbia                    https://www.facebook.com/NTN24/   \n",
       "612  District of Columbia            https://www.facebook.com/Latinovations/   \n",
       "613  District of Columbia           https://www.facebook.com/eltiempolatino/   \n",
       "614  District of Columbia               https://www.facebook.com/NoticiasDC/   \n",
       "615  District of Columbia              https://www.facebook.com/Telemundo44/   \n",
       "617  District of Columbia  https://www.facebook.com/ElComercioNewspaperCorp/   \n",
       "618  District of Columbia       https://www.facebook.com/AgenciaEFEnoticias/   \n",
       "\n",
       "                   clean_url  \n",
       "611                    ntn24  \n",
       "612            latinovations  \n",
       "613           eltiempolatino  \n",
       "614               noticiasdc  \n",
       "615              telemundo44  \n",
       "617  elcomercionewspapercorp  \n",
       "618       agenciaefenoticias  "
      ]
     },
     "execution_count": 8,
     "metadata": {},
     "output_type": "execute_result"
    }
   ],
   "source": [
    "name_fb[name_fb['State']=='District of Columbia']"
   ]
  },
  {
   "cell_type": "markdown",
   "metadata": {},
   "source": [
    "### 1.1 Remove Puerto Rico"
   ]
  },
  {
   "cell_type": "code",
   "execution_count": 9,
   "metadata": {
    "scrolled": true
   },
   "outputs": [],
   "source": [
    "#name_fb[name_fb['State']=='Puerto Rico']"
   ]
  },
  {
   "cell_type": "code",
   "execution_count": 10,
   "metadata": {},
   "outputs": [
    {
     "data": {
      "text/html": [
       "<div>\n",
       "<style scoped>\n",
       "    .dataframe tbody tr th:only-of-type {\n",
       "        vertical-align: middle;\n",
       "    }\n",
       "\n",
       "    .dataframe tbody tr th {\n",
       "        vertical-align: top;\n",
       "    }\n",
       "\n",
       "    .dataframe thead th {\n",
       "        text-align: right;\n",
       "    }\n",
       "</style>\n",
       "<table border=\"1\" class=\"dataframe\">\n",
       "  <thead>\n",
       "    <tr style=\"text-align: right;\">\n",
       "      <th></th>\n",
       "      <th>State</th>\n",
       "      <th>Facebook</th>\n",
       "      <th>clean_url</th>\n",
       "    </tr>\n",
       "  </thead>\n",
       "  <tbody>\n",
       "    <tr>\n",
       "      <th>611</th>\n",
       "      <td>District of Columbia</td>\n",
       "      <td>https://www.facebook.com/NTN24/</td>\n",
       "      <td>ntn24</td>\n",
       "    </tr>\n",
       "    <tr>\n",
       "      <th>612</th>\n",
       "      <td>District of Columbia</td>\n",
       "      <td>https://www.facebook.com/Latinovations/</td>\n",
       "      <td>latinovations</td>\n",
       "    </tr>\n",
       "    <tr>\n",
       "      <th>613</th>\n",
       "      <td>District of Columbia</td>\n",
       "      <td>https://www.facebook.com/eltiempolatino/</td>\n",
       "      <td>eltiempolatino</td>\n",
       "    </tr>\n",
       "    <tr>\n",
       "      <th>614</th>\n",
       "      <td>District of Columbia</td>\n",
       "      <td>https://www.facebook.com/NoticiasDC/</td>\n",
       "      <td>noticiasdc</td>\n",
       "    </tr>\n",
       "    <tr>\n",
       "      <th>615</th>\n",
       "      <td>District of Columbia</td>\n",
       "      <td>https://www.facebook.com/Telemundo44/</td>\n",
       "      <td>telemundo44</td>\n",
       "    </tr>\n",
       "    <tr>\n",
       "      <th>617</th>\n",
       "      <td>District of Columbia</td>\n",
       "      <td>https://www.facebook.com/ElComercioNewspaperCorp/</td>\n",
       "      <td>elcomercionewspapercorp</td>\n",
       "    </tr>\n",
       "    <tr>\n",
       "      <th>618</th>\n",
       "      <td>District of Columbia</td>\n",
       "      <td>https://www.facebook.com/AgenciaEFEnoticias/</td>\n",
       "      <td>agenciaefenoticias</td>\n",
       "    </tr>\n",
       "  </tbody>\n",
       "</table>\n",
       "</div>"
      ],
      "text/plain": [
       "                    State                                           Facebook  \\\n",
       "611  District of Columbia                    https://www.facebook.com/NTN24/   \n",
       "612  District of Columbia            https://www.facebook.com/Latinovations/   \n",
       "613  District of Columbia           https://www.facebook.com/eltiempolatino/   \n",
       "614  District of Columbia               https://www.facebook.com/NoticiasDC/   \n",
       "615  District of Columbia              https://www.facebook.com/Telemundo44/   \n",
       "617  District of Columbia  https://www.facebook.com/ElComercioNewspaperCorp/   \n",
       "618  District of Columbia       https://www.facebook.com/AgenciaEFEnoticias/   \n",
       "\n",
       "                   clean_url  \n",
       "611                    ntn24  \n",
       "612            latinovations  \n",
       "613           eltiempolatino  \n",
       "614               noticiasdc  \n",
       "615              telemundo44  \n",
       "617  elcomercionewspapercorp  \n",
       "618       agenciaefenoticias  "
      ]
     },
     "execution_count": 10,
     "metadata": {},
     "output_type": "execute_result"
    }
   ],
   "source": [
    "name_fb[name_fb['State']=='District of Columbia']"
   ]
  },
  {
   "cell_type": "markdown",
   "metadata": {},
   "source": [
    "## 2. Registered news media outlets\n",
    "Reads the information from all the posts from the studied period"
   ]
  },
  {
   "cell_type": "code",
   "execution_count": 11,
   "metadata": {},
   "outputs": [],
   "source": [
    "name_fb.to_csv(\"name_fb.csv\",index=False)"
   ]
  },
  {
   "cell_type": "code",
   "execution_count": 12,
   "metadata": {
    "scrolled": true
   },
   "outputs": [
    {
     "name": "stderr",
     "output_type": "stream",
     "text": [
      "/Users/claudia/opt/anaconda3/lib/python3.8/site-packages/IPython/core/interactiveshell.py:3146: DtypeWarning: Columns (29,30,31) have mixed types.Specify dtype option on import or set low_memory=False.\n",
      "  has_raised = await self.run_ast_nodes(code_ast.body, cell_name,\n",
      "/Users/claudia/opt/anaconda3/lib/python3.8/site-packages/IPython/core/interactiveshell.py:3146: DtypeWarning: Columns (29,30) have mixed types.Specify dtype option on import or set low_memory=False.\n",
      "  has_raised = await self.run_ast_nodes(code_ast.body, cell_name,\n"
     ]
    },
    {
     "data": {
      "text/plain": [
       "(414954, 32)"
      ]
     },
     "execution_count": 12,
     "metadata": {},
     "output_type": "execute_result"
    }
   ],
   "source": [
    "posts1 = pd.read_csv(\"cscwDocs/general_posts/Aug_18-Aug-31-2020.csv\")\n",
    "posts2 = pd.read_csv(\"cscwDocs/general_posts/Sep_1-Sep-15-2020.csv\")\n",
    "posts3 = pd.read_csv(\"cscwDocs/general_posts/Sep-16-Sep-30-2020.csv\")\n",
    "posts4 = pd.read_csv(\"cscwDocs/general_posts/Oct-1-2020-Oct-15-2020.csv\")\n",
    "posts5 = pd.read_csv(\"cscwDocs/general_posts/Oct-16-2020-Oct-31-2020.csv\")\n",
    "posts6 = pd.read_csv(\"cscwDocs/general_posts/Nov-1-3-2020.csv\")\n",
    "posts = pd.concat([posts1,posts2,posts3,posts4,posts5,posts6],axis=0)\n",
    "posts.shape"
   ]
  },
  {
   "cell_type": "code",
   "execution_count": 13,
   "metadata": {},
   "outputs": [
    {
     "data": {
      "text/plain": [
       "(414954, 32)"
      ]
     },
     "execution_count": 13,
     "metadata": {},
     "output_type": "execute_result"
    }
   ],
   "source": [
    "posts.dropna(subset=['Facebook Id'],inplace=True)\n",
    "posts.shape"
   ]
  },
  {
   "cell_type": "code",
   "execution_count": 14,
   "metadata": {
    "scrolled": true
   },
   "outputs": [
    {
     "data": {
      "text/plain": [
       "0        https://www.facebook.com/telemundopr/posts/335...\n",
       "1        https://www.facebook.com/ESPNDeportes/posts/36...\n",
       "2        https://www.facebook.com/NotiUno630/posts/3337...\n",
       "3        https://www.facebook.com/EstrellaTVNetwork/pos...\n",
       "4        https://www.facebook.com/EstrellaTVNetwork/pos...\n",
       "                               ...                        \n",
       "17646    https://www.facebook.com/LatinOpinionBaltimore...\n",
       "17647    https://www.facebook.com/HuffPostLatinoVoices/...\n",
       "17648    https://www.facebook.com/HuffPostLatinoVoices/...\n",
       "17649    https://www.facebook.com/HuffPostLatinoVoices/...\n",
       "17650    https://www.facebook.com/HuffPostLatinoVoices/...\n",
       "Name: URL, Length: 414954, dtype: object"
      ]
     },
     "execution_count": 14,
     "metadata": {},
     "output_type": "execute_result"
    }
   ],
   "source": [
    "posts['URL']"
   ]
  },
  {
   "cell_type": "code",
   "execution_count": 15,
   "metadata": {},
   "outputs": [
    {
     "data": {
      "text/plain": [
       "0                  telemundopr\n",
       "1                 espndeportes\n",
       "2                   notiuno630\n",
       "3            estrellatvnetwork\n",
       "4            estrellatvnetwork\n",
       "                 ...          \n",
       "17646    latinopinionbaltimore\n",
       "17647     huffpostlatinovoices\n",
       "17648     huffpostlatinovoices\n",
       "17649     huffpostlatinovoices\n",
       "17650     huffpostlatinovoices\n",
       "Name: clean_url, Length: 414954, dtype: object"
      ]
     },
     "execution_count": 15,
     "metadata": {},
     "output_type": "execute_result"
    }
   ],
   "source": [
    "posts['clean_url'] = posts['URL'].apply(clean_address)\n",
    "posts['clean_url']"
   ]
  },
  {
   "cell_type": "code",
   "execution_count": 16,
   "metadata": {},
   "outputs": [],
   "source": [
    "posts_st =  posts.merge(name_fb, on=\"clean_url\", how=\"left\")\n",
    "posts_st.loc[posts_st['Page Name'] == 'El Kentubano','State'] = 'Kentucky'"
   ]
  },
  {
   "cell_type": "code",
   "execution_count": 17,
   "metadata": {},
   "outputs": [],
   "source": [
    "posts_st.loc[posts_st['Page Name'] =='Telemundo Surco','State'] = 'Colorado'\n",
    "posts_st.loc[posts_st['Page Name'] =='Impulso de Oaxaca','State'] = 'California'\n",
    "posts_st.loc[posts_st['Page Name'] =='La Oferta Newspaper','State'] = 'California'\n",
    "posts_st.loc[posts_st['Page Name'] =='ElNuevoHeraldo.com','State'] = 'Texas'\n",
    "posts_st.loc[posts_st['Page Name'] =='Cumbre1470am','State'] = 'Puerto Rico'\n",
    "posts_st.loc[posts_st['Page Name'] =='WIPR','State'] = 'Puerto Rico'\n",
    "posts_st.loc[posts_st['Page Name'] =='El Sol Latino','State'] = 'Florida'\n",
    "posts_st.loc[posts_st['Page Name'] =='Latino Newspaper','State'] = 'South Carolina'\n",
    "posts_st.loc[posts_st['Page Name'] =='Pdxlatino.com','State'] = 'Oregon'\n",
    "posts_st.loc[posts_st['Page Name'] =='AHORA NEWS','State'] = 'New Jersey'\n",
    "posts_st.loc[posts_st['Page Name'] =='Enterate Magazine NY& NJ','State'] = 'New York'"
   ]
  },
  {
   "cell_type": "code",
   "execution_count": 18,
   "metadata": {
    "scrolled": true
   },
   "outputs": [
    {
     "name": "stdout",
     "output_type": "stream",
     "text": [
      "(462831, 35)\n"
     ]
    },
    {
     "data": {
      "text/html": [
       "<div>\n",
       "<style scoped>\n",
       "    .dataframe tbody tr th:only-of-type {\n",
       "        vertical-align: middle;\n",
       "    }\n",
       "\n",
       "    .dataframe tbody tr th {\n",
       "        vertical-align: top;\n",
       "    }\n",
       "\n",
       "    .dataframe thead th {\n",
       "        text-align: right;\n",
       "    }\n",
       "</style>\n",
       "<table border=\"1\" class=\"dataframe\">\n",
       "  <thead>\n",
       "    <tr style=\"text-align: right;\">\n",
       "      <th></th>\n",
       "      <th>Page Name</th>\n",
       "      <th>User Name</th>\n",
       "      <th>Facebook Id</th>\n",
       "      <th>Likes at Posting</th>\n",
       "      <th>Created</th>\n",
       "      <th>Type</th>\n",
       "      <th>Likes</th>\n",
       "      <th>Comments</th>\n",
       "      <th>Shares</th>\n",
       "      <th>Love</th>\n",
       "      <th>...</th>\n",
       "      <th>Link Text</th>\n",
       "      <th>Description</th>\n",
       "      <th>Sponsor Id</th>\n",
       "      <th>Sponsor Name</th>\n",
       "      <th>Total Interactions</th>\n",
       "      <th>Total Interactions (weighted  —  Likes 1x Shares 1x Comments 1x Love 1x Wow 1x Haha 1x Sad 1x Angry 1x Care 1x )</th>\n",
       "      <th>Overperforming Score</th>\n",
       "      <th>clean_url</th>\n",
       "      <th>State</th>\n",
       "      <th>Facebook</th>\n",
       "    </tr>\n",
       "  </thead>\n",
       "  <tbody>\n",
       "    <tr>\n",
       "      <th>4</th>\n",
       "      <td>ESTRELLA TV</td>\n",
       "      <td>EstrellaTVNetwork</td>\n",
       "      <td>329076968099</td>\n",
       "      <td>758998.0</td>\n",
       "      <td>2020-08-18 18:17:52 EDT</td>\n",
       "      <td>Photo</td>\n",
       "      <td>103686</td>\n",
       "      <td>654</td>\n",
       "      <td>507</td>\n",
       "      <td>12104</td>\n",
       "      <td>...</td>\n",
       "      <td>NaN</td>\n",
       "      <td>NaN</td>\n",
       "      <td>NaN</td>\n",
       "      <td>NaN</td>\n",
       "      <td>118,280</td>\n",
       "      <td>118,280</td>\n",
       "      <td>258.25</td>\n",
       "      <td>estrellatvnetwork</td>\n",
       "      <td>North Carolina</td>\n",
       "      <td>https://www.facebook.com/EstrellaTVNetwork</td>\n",
       "    </tr>\n",
       "    <tr>\n",
       "      <th>5</th>\n",
       "      <td>ESPN Deportes</td>\n",
       "      <td>ESPNDeportes</td>\n",
       "      <td>161975953820925</td>\n",
       "      <td>6741785.0</td>\n",
       "      <td>2020-08-28 02:00:00 EDT</td>\n",
       "      <td>Photo</td>\n",
       "      <td>28914</td>\n",
       "      <td>11832</td>\n",
       "      <td>7990</td>\n",
       "      <td>6741</td>\n",
       "      <td>...</td>\n",
       "      <td>Timeline Photos</td>\n",
       "      <td>NaN</td>\n",
       "      <td>NaN</td>\n",
       "      <td>NaN</td>\n",
       "      <td>116,263</td>\n",
       "      <td>116,263</td>\n",
       "      <td>47.69</td>\n",
       "      <td>espndeportes</td>\n",
       "      <td>Connecticut</td>\n",
       "      <td>https://www.facebook.com/ESPNDeportes/</td>\n",
       "    </tr>\n",
       "    <tr>\n",
       "      <th>6</th>\n",
       "      <td>ESTRELLA TV</td>\n",
       "      <td>EstrellaTVNetwork</td>\n",
       "      <td>329076968099</td>\n",
       "      <td>765384.0</td>\n",
       "      <td>2020-08-25 20:40:51 EDT</td>\n",
       "      <td>Photo</td>\n",
       "      <td>100735</td>\n",
       "      <td>990</td>\n",
       "      <td>412</td>\n",
       "      <td>12335</td>\n",
       "      <td>...</td>\n",
       "      <td>Timeline Photos</td>\n",
       "      <td>NaN</td>\n",
       "      <td>NaN</td>\n",
       "      <td>NaN</td>\n",
       "      <td>115,961</td>\n",
       "      <td>115,961</td>\n",
       "      <td>253.19</td>\n",
       "      <td>estrellatvnetwork</td>\n",
       "      <td>North Carolina</td>\n",
       "      <td>https://www.facebook.com/EstrellaTVNetwork</td>\n",
       "    </tr>\n",
       "    <tr>\n",
       "      <th>7</th>\n",
       "      <td>ESTRELLA TV</td>\n",
       "      <td>EstrellaTVNetwork</td>\n",
       "      <td>329076968099</td>\n",
       "      <td>758998.0</td>\n",
       "      <td>2020-08-18 13:30:00 EDT</td>\n",
       "      <td>Photo</td>\n",
       "      <td>91381</td>\n",
       "      <td>516</td>\n",
       "      <td>366</td>\n",
       "      <td>15648</td>\n",
       "      <td>...</td>\n",
       "      <td>NaN</td>\n",
       "      <td>NaN</td>\n",
       "      <td>NaN</td>\n",
       "      <td>NaN</td>\n",
       "      <td>109,262</td>\n",
       "      <td>109,262</td>\n",
       "      <td>242.27</td>\n",
       "      <td>estrellatvnetwork</td>\n",
       "      <td>North Carolina</td>\n",
       "      <td>https://www.facebook.com/EstrellaTVNetwork</td>\n",
       "    </tr>\n",
       "    <tr>\n",
       "      <th>8</th>\n",
       "      <td>ESPN Deportes</td>\n",
       "      <td>ESPNDeportes</td>\n",
       "      <td>161975953820925</td>\n",
       "      <td>6730340.0</td>\n",
       "      <td>2020-08-20 01:00:12 EDT</td>\n",
       "      <td>Native Video</td>\n",
       "      <td>34234</td>\n",
       "      <td>1289</td>\n",
       "      <td>32920</td>\n",
       "      <td>10671</td>\n",
       "      <td>...</td>\n",
       "      <td>NaN</td>\n",
       "      <td>NaN</td>\n",
       "      <td>NaN</td>\n",
       "      <td>NaN</td>\n",
       "      <td>96,474</td>\n",
       "      <td>96,474</td>\n",
       "      <td>140.02</td>\n",
       "      <td>espndeportes</td>\n",
       "      <td>Connecticut</td>\n",
       "      <td>https://www.facebook.com/ESPNDeportes/</td>\n",
       "    </tr>\n",
       "    <tr>\n",
       "      <th>...</th>\n",
       "      <td>...</td>\n",
       "      <td>...</td>\n",
       "      <td>...</td>\n",
       "      <td>...</td>\n",
       "      <td>...</td>\n",
       "      <td>...</td>\n",
       "      <td>...</td>\n",
       "      <td>...</td>\n",
       "      <td>...</td>\n",
       "      <td>...</td>\n",
       "      <td>...</td>\n",
       "      <td>...</td>\n",
       "      <td>...</td>\n",
       "      <td>...</td>\n",
       "      <td>...</td>\n",
       "      <td>...</td>\n",
       "      <td>...</td>\n",
       "      <td>...</td>\n",
       "      <td>...</td>\n",
       "      <td>...</td>\n",
       "      <td>...</td>\n",
       "    </tr>\n",
       "    <tr>\n",
       "      <th>462826</th>\n",
       "      <td>Latin Opinion Baltimore</td>\n",
       "      <td>LatinOpinionBaltimore</td>\n",
       "      <td>169130696504934</td>\n",
       "      <td>6285.0</td>\n",
       "      <td>2020-11-01 07:56:32 EST</td>\n",
       "      <td>Photo</td>\n",
       "      <td>0</td>\n",
       "      <td>0</td>\n",
       "      <td>0</td>\n",
       "      <td>0</td>\n",
       "      <td>...</td>\n",
       "      <td>ConsulMex Washington</td>\n",
       "      <td>📣 Acompáñanos a la inauguración de nuestro #Al...</td>\n",
       "      <td>NaN</td>\n",
       "      <td>NaN</td>\n",
       "      <td>0</td>\n",
       "      <td>0</td>\n",
       "      <td>-38</td>\n",
       "      <td>latinopinionbaltimore</td>\n",
       "      <td>Maryland</td>\n",
       "      <td>https://www.facebook.com/LatinOpinionBaltimore/</td>\n",
       "    </tr>\n",
       "    <tr>\n",
       "      <th>462827</th>\n",
       "      <td>HuffPost Latino Voices</td>\n",
       "      <td>HuffPostLatinoVoices</td>\n",
       "      <td>256004367748633</td>\n",
       "      <td>168290.0</td>\n",
       "      <td>2020-11-02 21:02:44 EST</td>\n",
       "      <td>Link</td>\n",
       "      <td>0</td>\n",
       "      <td>0</td>\n",
       "      <td>0</td>\n",
       "      <td>0</td>\n",
       "      <td>...</td>\n",
       "      <td>Can You Vote Anywhere On Election Day?</td>\n",
       "      <td>Whether you have to vote at a specific neighbo...</td>\n",
       "      <td>NaN</td>\n",
       "      <td>NaN</td>\n",
       "      <td>0</td>\n",
       "      <td>0</td>\n",
       "      <td>-204</td>\n",
       "      <td>huffpostlatinovoices</td>\n",
       "      <td>New York</td>\n",
       "      <td>https://www.facebook.com/HuffPostLatinoVoices/</td>\n",
       "    </tr>\n",
       "    <tr>\n",
       "      <th>462828</th>\n",
       "      <td>HuffPost Latino Voices</td>\n",
       "      <td>HuffPostLatinoVoices</td>\n",
       "      <td>256004367748633</td>\n",
       "      <td>168298.0</td>\n",
       "      <td>2020-11-02 11:29:10 EST</td>\n",
       "      <td>Link</td>\n",
       "      <td>0</td>\n",
       "      <td>0</td>\n",
       "      <td>0</td>\n",
       "      <td>0</td>\n",
       "      <td>...</td>\n",
       "      <td>8 Problems You May Encounter Going To Vote In ...</td>\n",
       "      <td>Here's what you need to know if you're droppin...</td>\n",
       "      <td>NaN</td>\n",
       "      <td>NaN</td>\n",
       "      <td>0</td>\n",
       "      <td>0</td>\n",
       "      <td>-204</td>\n",
       "      <td>huffpostlatinovoices</td>\n",
       "      <td>New York</td>\n",
       "      <td>https://www.facebook.com/HuffPostLatinoVoices/</td>\n",
       "    </tr>\n",
       "    <tr>\n",
       "      <th>462829</th>\n",
       "      <td>HuffPost Latino Voices</td>\n",
       "      <td>HuffPostLatinoVoices</td>\n",
       "      <td>256004367748633</td>\n",
       "      <td>168298.0</td>\n",
       "      <td>2020-11-02 07:01:06 EST</td>\n",
       "      <td>Link</td>\n",
       "      <td>0</td>\n",
       "      <td>0</td>\n",
       "      <td>0</td>\n",
       "      <td>0</td>\n",
       "      <td>...</td>\n",
       "      <td>Is It Safe To Vote In Person During COVID-19? ...</td>\n",
       "      <td>The pandemic has many worried about the electi...</td>\n",
       "      <td>NaN</td>\n",
       "      <td>NaN</td>\n",
       "      <td>0</td>\n",
       "      <td>0</td>\n",
       "      <td>-204</td>\n",
       "      <td>huffpostlatinovoices</td>\n",
       "      <td>New York</td>\n",
       "      <td>https://www.facebook.com/HuffPostLatinoVoices/</td>\n",
       "    </tr>\n",
       "    <tr>\n",
       "      <th>462830</th>\n",
       "      <td>HuffPost Latino Voices</td>\n",
       "      <td>HuffPostLatinoVoices</td>\n",
       "      <td>256004367748633</td>\n",
       "      <td>168303.0</td>\n",
       "      <td>2020-11-01 13:01:37 EST</td>\n",
       "      <td>Link</td>\n",
       "      <td>0</td>\n",
       "      <td>0</td>\n",
       "      <td>0</td>\n",
       "      <td>0</td>\n",
       "      <td>...</td>\n",
       "      <td>What Happened And What’s Next: A Postelection ...</td>\n",
       "      <td>Join a virtual conversation with HuffPost's po...</td>\n",
       "      <td>NaN</td>\n",
       "      <td>NaN</td>\n",
       "      <td>0</td>\n",
       "      <td>0</td>\n",
       "      <td>-204</td>\n",
       "      <td>huffpostlatinovoices</td>\n",
       "      <td>New York</td>\n",
       "      <td>https://www.facebook.com/HuffPostLatinoVoices/</td>\n",
       "    </tr>\n",
       "  </tbody>\n",
       "</table>\n",
       "<p>462407 rows × 35 columns</p>\n",
       "</div>"
      ],
      "text/plain": [
       "                      Page Name              User Name      Facebook Id  \\\n",
       "4                   ESTRELLA TV      EstrellaTVNetwork     329076968099   \n",
       "5                 ESPN Deportes           ESPNDeportes  161975953820925   \n",
       "6                   ESTRELLA TV      EstrellaTVNetwork     329076968099   \n",
       "7                   ESTRELLA TV      EstrellaTVNetwork     329076968099   \n",
       "8                 ESPN Deportes           ESPNDeportes  161975953820925   \n",
       "...                         ...                    ...              ...   \n",
       "462826  Latin Opinion Baltimore  LatinOpinionBaltimore  169130696504934   \n",
       "462827   HuffPost Latino Voices   HuffPostLatinoVoices  256004367748633   \n",
       "462828   HuffPost Latino Voices   HuffPostLatinoVoices  256004367748633   \n",
       "462829   HuffPost Latino Voices   HuffPostLatinoVoices  256004367748633   \n",
       "462830   HuffPost Latino Voices   HuffPostLatinoVoices  256004367748633   \n",
       "\n",
       "        Likes at Posting                  Created          Type   Likes  \\\n",
       "4               758998.0  2020-08-18 18:17:52 EDT         Photo  103686   \n",
       "5              6741785.0  2020-08-28 02:00:00 EDT         Photo   28914   \n",
       "6               765384.0  2020-08-25 20:40:51 EDT         Photo  100735   \n",
       "7               758998.0  2020-08-18 13:30:00 EDT         Photo   91381   \n",
       "8              6730340.0  2020-08-20 01:00:12 EDT  Native Video   34234   \n",
       "...                  ...                      ...           ...     ...   \n",
       "462826            6285.0  2020-11-01 07:56:32 EST         Photo       0   \n",
       "462827          168290.0  2020-11-02 21:02:44 EST          Link       0   \n",
       "462828          168298.0  2020-11-02 11:29:10 EST          Link       0   \n",
       "462829          168298.0  2020-11-02 07:01:06 EST          Link       0   \n",
       "462830          168303.0  2020-11-01 13:01:37 EST          Link       0   \n",
       "\n",
       "        Comments  Shares   Love  ...  \\\n",
       "4            654     507  12104  ...   \n",
       "5          11832    7990   6741  ...   \n",
       "6            990     412  12335  ...   \n",
       "7            516     366  15648  ...   \n",
       "8           1289   32920  10671  ...   \n",
       "...          ...     ...    ...  ...   \n",
       "462826         0       0      0  ...   \n",
       "462827         0       0      0  ...   \n",
       "462828         0       0      0  ...   \n",
       "462829         0       0      0  ...   \n",
       "462830         0       0      0  ...   \n",
       "\n",
       "                                                Link Text  \\\n",
       "4                                                     NaN   \n",
       "5                                         Timeline Photos   \n",
       "6                                         Timeline Photos   \n",
       "7                                                     NaN   \n",
       "8                                                     NaN   \n",
       "...                                                   ...   \n",
       "462826                               ConsulMex Washington   \n",
       "462827             Can You Vote Anywhere On Election Day?   \n",
       "462828  8 Problems You May Encounter Going To Vote In ...   \n",
       "462829  Is It Safe To Vote In Person During COVID-19? ...   \n",
       "462830  What Happened And What’s Next: A Postelection ...   \n",
       "\n",
       "                                              Description  Sponsor Id  \\\n",
       "4                                                     NaN         NaN   \n",
       "5                                                     NaN         NaN   \n",
       "6                                                     NaN         NaN   \n",
       "7                                                     NaN         NaN   \n",
       "8                                                     NaN         NaN   \n",
       "...                                                   ...         ...   \n",
       "462826  📣 Acompáñanos a la inauguración de nuestro #Al...         NaN   \n",
       "462827  Whether you have to vote at a specific neighbo...         NaN   \n",
       "462828  Here's what you need to know if you're droppin...         NaN   \n",
       "462829  The pandemic has many worried about the electi...         NaN   \n",
       "462830  Join a virtual conversation with HuffPost's po...         NaN   \n",
       "\n",
       "        Sponsor Name  Total Interactions  \\\n",
       "4                NaN             118,280   \n",
       "5                NaN             116,263   \n",
       "6                NaN             115,961   \n",
       "7                NaN             109,262   \n",
       "8                NaN              96,474   \n",
       "...              ...                 ...   \n",
       "462826           NaN                   0   \n",
       "462827           NaN                   0   \n",
       "462828           NaN                   0   \n",
       "462829           NaN                   0   \n",
       "462830           NaN                   0   \n",
       "\n",
       "       Total Interactions (weighted  —  Likes 1x Shares 1x Comments 1x Love 1x Wow 1x Haha 1x Sad 1x Angry 1x Care 1x )  \\\n",
       "4                                                 118,280                                                                 \n",
       "5                                                 116,263                                                                 \n",
       "6                                                 115,961                                                                 \n",
       "7                                                 109,262                                                                 \n",
       "8                                                  96,474                                                                 \n",
       "...                                                   ...                                                                 \n",
       "462826                                                  0                                                                 \n",
       "462827                                                  0                                                                 \n",
       "462828                                                  0                                                                 \n",
       "462829                                                  0                                                                 \n",
       "462830                                                  0                                                                 \n",
       "\n",
       "        Overperforming Score              clean_url           State  \\\n",
       "4                     258.25      estrellatvnetwork  North Carolina   \n",
       "5                      47.69           espndeportes     Connecticut   \n",
       "6                     253.19      estrellatvnetwork  North Carolina   \n",
       "7                     242.27      estrellatvnetwork  North Carolina   \n",
       "8                     140.02           espndeportes     Connecticut   \n",
       "...                      ...                    ...             ...   \n",
       "462826                   -38  latinopinionbaltimore        Maryland   \n",
       "462827                  -204   huffpostlatinovoices        New York   \n",
       "462828                  -204   huffpostlatinovoices        New York   \n",
       "462829                  -204   huffpostlatinovoices        New York   \n",
       "462830                  -204   huffpostlatinovoices        New York   \n",
       "\n",
       "                                               Facebook  \n",
       "4            https://www.facebook.com/EstrellaTVNetwork  \n",
       "5                https://www.facebook.com/ESPNDeportes/  \n",
       "6            https://www.facebook.com/EstrellaTVNetwork  \n",
       "7            https://www.facebook.com/EstrellaTVNetwork  \n",
       "8                https://www.facebook.com/ESPNDeportes/  \n",
       "...                                                 ...  \n",
       "462826  https://www.facebook.com/LatinOpinionBaltimore/  \n",
       "462827   https://www.facebook.com/HuffPostLatinoVoices/  \n",
       "462828   https://www.facebook.com/HuffPostLatinoVoices/  \n",
       "462829   https://www.facebook.com/HuffPostLatinoVoices/  \n",
       "462830   https://www.facebook.com/HuffPostLatinoVoices/  \n",
       "\n",
       "[462407 rows x 35 columns]"
      ]
     },
     "execution_count": 18,
     "metadata": {},
     "output_type": "execute_result"
    }
   ],
   "source": [
    "#posts_st = posts_st[posts_st['State']!='Puerto Rico']\n",
    "print(posts_st.shape)\n",
    "posts_st[posts_st.duplicated('Facebook Id')] "
   ]
  },
  {
   "cell_type": "code",
   "execution_count": 19,
   "metadata": {},
   "outputs": [
    {
     "data": {
      "text/html": [
       "<div>\n",
       "<style scoped>\n",
       "    .dataframe tbody tr th:only-of-type {\n",
       "        vertical-align: middle;\n",
       "    }\n",
       "\n",
       "    .dataframe tbody tr th {\n",
       "        vertical-align: top;\n",
       "    }\n",
       "\n",
       "    .dataframe thead th {\n",
       "        text-align: right;\n",
       "    }\n",
       "</style>\n",
       "<table border=\"1\" class=\"dataframe\">\n",
       "  <thead>\n",
       "    <tr style=\"text-align: right;\">\n",
       "      <th></th>\n",
       "      <th>Page Name</th>\n",
       "      <th>User Name</th>\n",
       "      <th>Facebook Id</th>\n",
       "      <th>Likes at Posting</th>\n",
       "      <th>Created</th>\n",
       "      <th>Type</th>\n",
       "      <th>Likes</th>\n",
       "      <th>Comments</th>\n",
       "      <th>Shares</th>\n",
       "      <th>Love</th>\n",
       "      <th>...</th>\n",
       "      <th>Link Text</th>\n",
       "      <th>Description</th>\n",
       "      <th>Sponsor Id</th>\n",
       "      <th>Sponsor Name</th>\n",
       "      <th>Total Interactions</th>\n",
       "      <th>Total Interactions (weighted  —  Likes 1x Shares 1x Comments 1x Love 1x Wow 1x Haha 1x Sad 1x Angry 1x Care 1x )</th>\n",
       "      <th>Overperforming Score</th>\n",
       "      <th>clean_url</th>\n",
       "      <th>State</th>\n",
       "      <th>Facebook</th>\n",
       "    </tr>\n",
       "  </thead>\n",
       "  <tbody>\n",
       "    <tr>\n",
       "      <th>10</th>\n",
       "      <td>Real America with Jorge Ramos</td>\n",
       "      <td>RealAmericaWithJorgeRamos</td>\n",
       "      <td>2076199329293198</td>\n",
       "      <td>615169.0</td>\n",
       "      <td>2020-08-23 10:13:43 EDT</td>\n",
       "      <td>Native Video</td>\n",
       "      <td>13846</td>\n",
       "      <td>17075</td>\n",
       "      <td>46664</td>\n",
       "      <td>411</td>\n",
       "      <td>...</td>\n",
       "      <td>BANANA REPUBLIC U.S.A.</td>\n",
       "      <td>NaN</td>\n",
       "      <td>NaN</td>\n",
       "      <td>NaN</td>\n",
       "      <td>88,373</td>\n",
       "      <td>88,373</td>\n",
       "      <td>124.64</td>\n",
       "      <td>realamericawithjorgeramos</td>\n",
       "      <td>Florida</td>\n",
       "      <td>https://www.facebook.com/RealAmericaWithJorgeR...</td>\n",
       "    </tr>\n",
       "  </tbody>\n",
       "</table>\n",
       "<p>1 rows × 35 columns</p>\n",
       "</div>"
      ],
      "text/plain": [
       "                        Page Name                  User Name  \\\n",
       "10  Real America with Jorge Ramos  RealAmericaWithJorgeRamos   \n",
       "\n",
       "         Facebook Id  Likes at Posting                  Created          Type  \\\n",
       "10  2076199329293198          615169.0  2020-08-23 10:13:43 EDT  Native Video   \n",
       "\n",
       "    Likes  Comments  Shares  Love  ...               Link Text  Description  \\\n",
       "10  13846     17075   46664   411  ...  BANANA REPUBLIC U.S.A.          NaN   \n",
       "\n",
       "    Sponsor Id  Sponsor Name  Total Interactions  \\\n",
       "10         NaN           NaN              88,373   \n",
       "\n",
       "   Total Interactions (weighted  —  Likes 1x Shares 1x Comments 1x Love 1x Wow 1x Haha 1x Sad 1x Angry 1x Care 1x )  \\\n",
       "10                                             88,373                                                                 \n",
       "\n",
       "    Overperforming Score                  clean_url    State  \\\n",
       "10                124.64  realamericawithjorgeramos  Florida   \n",
       "\n",
       "                                             Facebook  \n",
       "10  https://www.facebook.com/RealAmericaWithJorgeR...  \n",
       "\n",
       "[1 rows x 35 columns]"
      ]
     },
     "execution_count": 19,
     "metadata": {},
     "output_type": "execute_result"
    }
   ],
   "source": [
    "posts_st[(posts_st['State']=='Texas') | (posts_st['State']=='California')| (posts_st['State']=='Florida')].head(1)"
   ]
  },
  {
   "cell_type": "code",
   "execution_count": 20,
   "metadata": {},
   "outputs": [
    {
     "data": {
      "text/html": [
       "<div>\n",
       "<style scoped>\n",
       "    .dataframe tbody tr th:only-of-type {\n",
       "        vertical-align: middle;\n",
       "    }\n",
       "\n",
       "    .dataframe tbody tr th {\n",
       "        vertical-align: top;\n",
       "    }\n",
       "\n",
       "    .dataframe thead th {\n",
       "        text-align: right;\n",
       "    }\n",
       "</style>\n",
       "<table border=\"1\" class=\"dataframe\">\n",
       "  <thead>\n",
       "    <tr style=\"text-align: right;\">\n",
       "      <th></th>\n",
       "      <th>Page Name</th>\n",
       "      <th>User Name</th>\n",
       "      <th>Facebook Id</th>\n",
       "      <th>Likes at Posting</th>\n",
       "      <th>Created</th>\n",
       "      <th>Type</th>\n",
       "      <th>Likes</th>\n",
       "      <th>Comments</th>\n",
       "      <th>Shares</th>\n",
       "      <th>Love</th>\n",
       "      <th>...</th>\n",
       "      <th>Link Text</th>\n",
       "      <th>Description</th>\n",
       "      <th>Sponsor Id</th>\n",
       "      <th>Sponsor Name</th>\n",
       "      <th>Total Interactions</th>\n",
       "      <th>Total Interactions (weighted  —  Likes 1x Shares 1x Comments 1x Love 1x Wow 1x Haha 1x Sad 1x Angry 1x Care 1x )</th>\n",
       "      <th>Overperforming Score</th>\n",
       "      <th>clean_url</th>\n",
       "      <th>State</th>\n",
       "      <th>Facebook</th>\n",
       "    </tr>\n",
       "  </thead>\n",
       "  <tbody>\n",
       "    <tr>\n",
       "      <th>111</th>\n",
       "      <td>El Tiempo Latino</td>\n",
       "      <td>eltiempolatino</td>\n",
       "      <td>214061167976</td>\n",
       "      <td>25127.0</td>\n",
       "      <td>2020-08-26 08:00:01 EDT</td>\n",
       "      <td>Native Video</td>\n",
       "      <td>4141</td>\n",
       "      <td>724</td>\n",
       "      <td>4824</td>\n",
       "      <td>219</td>\n",
       "      <td>...</td>\n",
       "      <td>Niña de cuatro años a la deriva es rescatada p...</td>\n",
       "      <td>NaN</td>\n",
       "      <td>NaN</td>\n",
       "      <td>NaN</td>\n",
       "      <td>14,958</td>\n",
       "      <td>14,958</td>\n",
       "      <td>318.26</td>\n",
       "      <td>eltiempolatino</td>\n",
       "      <td>District of Columbia</td>\n",
       "      <td>https://www.facebook.com/eltiempolatino/</td>\n",
       "    </tr>\n",
       "  </tbody>\n",
       "</table>\n",
       "<p>1 rows × 35 columns</p>\n",
       "</div>"
      ],
      "text/plain": [
       "            Page Name       User Name   Facebook Id  Likes at Posting  \\\n",
       "111  El Tiempo Latino  eltiempolatino  214061167976           25127.0   \n",
       "\n",
       "                     Created          Type  Likes  Comments  Shares  Love  \\\n",
       "111  2020-08-26 08:00:01 EDT  Native Video   4141       724    4824   219   \n",
       "\n",
       "     ...                                          Link Text  Description  \\\n",
       "111  ...  Niña de cuatro años a la deriva es rescatada p...          NaN   \n",
       "\n",
       "     Sponsor Id  Sponsor Name  Total Interactions  \\\n",
       "111         NaN           NaN              14,958   \n",
       "\n",
       "    Total Interactions (weighted  —  Likes 1x Shares 1x Comments 1x Love 1x Wow 1x Haha 1x Sad 1x Angry 1x Care 1x )  \\\n",
       "111                                             14,958                                                                 \n",
       "\n",
       "     Overperforming Score       clean_url                 State  \\\n",
       "111                318.26  eltiempolatino  District of Columbia   \n",
       "\n",
       "                                     Facebook  \n",
       "111  https://www.facebook.com/eltiempolatino/  \n",
       "\n",
       "[1 rows x 35 columns]"
      ]
     },
     "execution_count": 20,
     "metadata": {},
     "output_type": "execute_result"
    }
   ],
   "source": [
    "posts_st[posts_st['State']=='District of Columbia'].head(1)\n"
   ]
  },
  {
   "cell_type": "code",
   "execution_count": 21,
   "metadata": {},
   "outputs": [
    {
     "data": {
      "text/plain": [
       "423"
      ]
     },
     "execution_count": 21,
     "metadata": {},
     "output_type": "execute_result"
    }
   ],
   "source": [
    "#Unique Pages withouth Puerto Rico\n",
    "### The actual news media outlets with Posts \n",
    "posts_st['Page Name'].nunique()"
   ]
  },
  {
   "cell_type": "code",
   "execution_count": 22,
   "metadata": {
    "scrolled": true
   },
   "outputs": [],
   "source": [
    "posts_st['State'] = posts_st['State'].str.rstrip()\n",
    "posts_st['State'] = posts_st['State'].str.lstrip()"
   ]
  },
  {
   "cell_type": "code",
   "execution_count": 23,
   "metadata": {},
   "outputs": [
    {
     "data": {
      "text/plain": [
       "Series([], Name: Page Name, dtype: object)"
      ]
     },
     "execution_count": 23,
     "metadata": {},
     "output_type": "execute_result"
    }
   ],
   "source": [
    "filtered = posts_st[posts_st['State'].isnull()]\n",
    "filtered['Page Name']"
   ]
  },
  {
   "cell_type": "code",
   "execution_count": 24,
   "metadata": {
    "scrolled": false
   },
   "outputs": [
    {
     "data": {
      "text/plain": [
       "Index(['Page Name', 'User Name', 'Facebook Id', 'Likes at Posting', 'Created',\n",
       "       'Type', 'Likes', 'Comments', 'Shares', 'Love', 'Wow', 'Haha', 'Sad',\n",
       "       'Angry', 'Care', 'Video Share Status', 'Post Views', 'Total Views',\n",
       "       'Total Views For All Crossposts', 'Video Length', 'URL', 'Message',\n",
       "       'Link', 'Final Link', 'Image Text', 'Link Text', 'Description',\n",
       "       'Sponsor Id', 'Sponsor Name', 'Total Interactions',\n",
       "       'Total Interactions (weighted  —  Likes 1x Shares 1x Comments 1x Love 1x Wow 1x Haha 1x Sad 1x Angry 1x Care 1x )',\n",
       "       'Overperforming Score', 'clean_url', 'State', 'Facebook'],\n",
       "      dtype='object')"
      ]
     },
     "execution_count": 24,
     "metadata": {},
     "output_type": "execute_result"
    }
   ],
   "source": [
    "posts_st.columns"
   ]
  },
  {
   "cell_type": "code",
   "execution_count": 25,
   "metadata": {},
   "outputs": [
    {
     "data": {
      "text/plain": [
       "0                    Telemundo PR\n",
       "1                   ESPN Deportes\n",
       "2                     NotiUno 630\n",
       "3                     ESTRELLA TV\n",
       "4                     ESTRELLA TV\n",
       "                   ...           \n",
       "462826    Latin Opinion Baltimore\n",
       "462827     HuffPost Latino Voices\n",
       "462828     HuffPost Latino Voices\n",
       "462829     HuffPost Latino Voices\n",
       "462830     HuffPost Latino Voices\n",
       "Name: Page Name, Length: 462831, dtype: object"
      ]
     },
     "execution_count": 25,
     "metadata": {},
     "output_type": "execute_result"
    }
   ],
   "source": [
    "posts_st['Page Name']"
   ]
  },
  {
   "cell_type": "markdown",
   "metadata": {},
   "source": [
    "## 9. Filter the most relevant columns\n",
    "### Add column to concat Message, Description, Link Text"
   ]
  },
  {
   "cell_type": "code",
   "execution_count": 26,
   "metadata": {},
   "outputs": [],
   "source": [
    "concat_message = posts_st['Message'].fillna('') + (' ' + posts_st['Description']).fillna('')+ (' ' + posts_st['Link Text']).fillna('') + (' ' + posts_st['Link']).fillna('')\n",
    "posts_st['MessageDescr'] = concat_message\n",
    "\n",
    "concat_just_message = posts_st['Message'].fillna('') + (' ' + posts_st['Description']).fillna('')+ (' ' + posts_st['Link Text']).fillna('')\n",
    "posts_st['MessageOnly'] = concat_just_message"
   ]
  },
  {
   "cell_type": "markdown",
   "metadata": {},
   "source": [
    "## 3. Which news media outlets are publishing the majority of the content"
   ]
  },
  {
   "cell_type": "code",
   "execution_count": 27,
   "metadata": {},
   "outputs": [
    {
     "data": {
      "text/html": [
       "<div>\n",
       "<style scoped>\n",
       "    .dataframe tbody tr th:only-of-type {\n",
       "        vertical-align: middle;\n",
       "    }\n",
       "\n",
       "    .dataframe tbody tr th {\n",
       "        vertical-align: top;\n",
       "    }\n",
       "\n",
       "    .dataframe thead th {\n",
       "        text-align: right;\n",
       "    }\n",
       "</style>\n",
       "<table border=\"1\" class=\"dataframe\">\n",
       "  <thead>\n",
       "    <tr style=\"text-align: right;\">\n",
       "      <th></th>\n",
       "      <th>Facebook Id</th>\n",
       "    </tr>\n",
       "    <tr>\n",
       "      <th>Page Name</th>\n",
       "      <th></th>\n",
       "    </tr>\n",
       "  </thead>\n",
       "  <tbody>\n",
       "    <tr>\n",
       "      <th>47 ABC</th>\n",
       "      <td>1707</td>\n",
       "    </tr>\n",
       "    <tr>\n",
       "      <th>80grados</th>\n",
       "      <td>331</td>\n",
       "    </tr>\n",
       "    <tr>\n",
       "      <th>99.1 La Perrona</th>\n",
       "      <td>316</td>\n",
       "    </tr>\n",
       "    <tr>\n",
       "      <th>AHORA NEWS</th>\n",
       "      <td>34</td>\n",
       "    </tr>\n",
       "    <tr>\n",
       "      <th>Acontecer Latino</th>\n",
       "      <td>113</td>\n",
       "    </tr>\n",
       "    <tr>\n",
       "      <th>...</th>\n",
       "      <td>...</td>\n",
       "    </tr>\n",
       "    <tr>\n",
       "      <th>Wuvn Hartford</th>\n",
       "      <td>1</td>\n",
       "    </tr>\n",
       "    <tr>\n",
       "      <th>Zona Pop CNN</th>\n",
       "      <td>35</td>\n",
       "    </tr>\n",
       "    <tr>\n",
       "      <th>¿Qué Pasa, Midwest?</th>\n",
       "      <td>8</td>\n",
       "    </tr>\n",
       "    <tr>\n",
       "      <th>¿Qué Pasa, OSU?</th>\n",
       "      <td>18</td>\n",
       "    </tr>\n",
       "    <tr>\n",
       "      <th>Ñ Magazine</th>\n",
       "      <td>4</td>\n",
       "    </tr>\n",
       "  </tbody>\n",
       "</table>\n",
       "<p>423 rows × 1 columns</p>\n",
       "</div>"
      ],
      "text/plain": [
       "                     Facebook Id\n",
       "Page Name                       \n",
       "47 ABC                      1707\n",
       "80grados                     331\n",
       "99.1 La Perrona              316\n",
       "AHORA NEWS                    34\n",
       "Acontecer Latino             113\n",
       "...                          ...\n",
       "Wuvn Hartford                  1\n",
       "Zona Pop CNN                  35\n",
       "¿Qué Pasa, Midwest?            8\n",
       "¿Qué Pasa, OSU?               18\n",
       "Ñ Magazine                     4\n",
       "\n",
       "[423 rows x 1 columns]"
      ]
     },
     "execution_count": 27,
     "metadata": {},
     "output_type": "execute_result"
    }
   ],
   "source": [
    "group = posts_st.groupby(['Page Name'])\n",
    "group.agg({'Facebook Id':'count'})"
   ]
  },
  {
   "cell_type": "code",
   "execution_count": 28,
   "metadata": {},
   "outputs": [],
   "source": [
    "#group['Page Name'].sum()"
   ]
  },
  {
   "cell_type": "code",
   "execution_count": 29,
   "metadata": {
    "scrolled": true
   },
   "outputs": [],
   "source": [
    "posts_st.to_csv(\"cscwDocs/media_news_outlets.csv\")"
   ]
  },
  {
   "cell_type": "markdown",
   "metadata": {},
   "source": [
    "### 4. US states"
   ]
  },
  {
   "cell_type": "code",
   "execution_count": 30,
   "metadata": {},
   "outputs": [],
   "source": [
    "us_states = pd.DataFrame({'State':['Alabama','Alaska','Arizona','Arkansas','California','Colorado','Connecticut','Delaware','District of Columbia','Florida',\n",
    "             'Georgia','Hawaii','Idaho','Illinois','Indiana','Iowa','Kansas','Kentucky','Louisiana','Maine','Maryland','Massachusetts',\n",
    "             'Michigan','Minnesota','Mississippi','Missouri','Montana','Nebraska','Nevada','New Hampshire','New Jersey','New Mexico',\n",
    "             'New York','North Carolina','North Dakota','Ohio','Oklahoma','Oregon','Pennsylvania','Rhode Island','South Carolina',\n",
    "             'South Dakota','Tennessee','Texas','Utah','Vermont','Virginia','Washington','West Virginia','Wisconsin','Wyoming']})"
   ]
  },
  {
   "cell_type": "markdown",
   "metadata": {},
   "source": [
    "## 5. Count posts in general by state"
   ]
  },
  {
   "cell_type": "code",
   "execution_count": 36,
   "metadata": {},
   "outputs": [],
   "source": [
    "\n",
    "df_general = posts_st['State'].value_counts().reset_index()\n",
    "df_general.columns = ['State','Count']\n"
   ]
  },
  {
   "cell_type": "code",
   "execution_count": 37,
   "metadata": {
    "scrolled": true
   },
   "outputs": [
    {
     "data": {
      "text/html": [
       "<div>\n",
       "<style scoped>\n",
       "    .dataframe tbody tr th:only-of-type {\n",
       "        vertical-align: middle;\n",
       "    }\n",
       "\n",
       "    .dataframe tbody tr th {\n",
       "        vertical-align: top;\n",
       "    }\n",
       "\n",
       "    .dataframe thead th {\n",
       "        text-align: right;\n",
       "    }\n",
       "</style>\n",
       "<table border=\"1\" class=\"dataframe\">\n",
       "  <thead>\n",
       "    <tr style=\"text-align: right;\">\n",
       "      <th></th>\n",
       "      <th>State</th>\n",
       "      <th>Posts_Counts</th>\n",
       "    </tr>\n",
       "  </thead>\n",
       "  <tbody>\n",
       "    <tr>\n",
       "      <th>0</th>\n",
       "      <td>Alabama</td>\n",
       "      <td>1164</td>\n",
       "    </tr>\n",
       "    <tr>\n",
       "      <th>1</th>\n",
       "      <td>Alaska</td>\n",
       "      <td>443</td>\n",
       "    </tr>\n",
       "    <tr>\n",
       "      <th>2</th>\n",
       "      <td>Arizona</td>\n",
       "      <td>14637</td>\n",
       "    </tr>\n",
       "    <tr>\n",
       "      <th>3</th>\n",
       "      <td>Arkansas</td>\n",
       "      <td>741</td>\n",
       "    </tr>\n",
       "    <tr>\n",
       "      <th>4</th>\n",
       "      <td>California</td>\n",
       "      <td>72208</td>\n",
       "    </tr>\n",
       "    <tr>\n",
       "      <th>5</th>\n",
       "      <td>Colorado</td>\n",
       "      <td>10566</td>\n",
       "    </tr>\n",
       "    <tr>\n",
       "      <th>6</th>\n",
       "      <td>Connecticut</td>\n",
       "      <td>9787</td>\n",
       "    </tr>\n",
       "    <tr>\n",
       "      <th>7</th>\n",
       "      <td>Delaware</td>\n",
       "      <td>942</td>\n",
       "    </tr>\n",
       "    <tr>\n",
       "      <th>8</th>\n",
       "      <td>District of Columbia</td>\n",
       "      <td>14156</td>\n",
       "    </tr>\n",
       "    <tr>\n",
       "      <th>9</th>\n",
       "      <td>Florida</td>\n",
       "      <td>36682</td>\n",
       "    </tr>\n",
       "    <tr>\n",
       "      <th>10</th>\n",
       "      <td>Georgia</td>\n",
       "      <td>22853</td>\n",
       "    </tr>\n",
       "    <tr>\n",
       "      <th>11</th>\n",
       "      <td>Hawaii</td>\n",
       "      <td>0</td>\n",
       "    </tr>\n",
       "    <tr>\n",
       "      <th>12</th>\n",
       "      <td>Idaho</td>\n",
       "      <td>548</td>\n",
       "    </tr>\n",
       "    <tr>\n",
       "      <th>13</th>\n",
       "      <td>Illinois</td>\n",
       "      <td>7683</td>\n",
       "    </tr>\n",
       "    <tr>\n",
       "      <th>14</th>\n",
       "      <td>Indiana</td>\n",
       "      <td>1052</td>\n",
       "    </tr>\n",
       "    <tr>\n",
       "      <th>15</th>\n",
       "      <td>Iowa</td>\n",
       "      <td>1742</td>\n",
       "    </tr>\n",
       "    <tr>\n",
       "      <th>16</th>\n",
       "      <td>Kansas</td>\n",
       "      <td>3217</td>\n",
       "    </tr>\n",
       "    <tr>\n",
       "      <th>17</th>\n",
       "      <td>Kentucky</td>\n",
       "      <td>1733</td>\n",
       "    </tr>\n",
       "    <tr>\n",
       "      <th>18</th>\n",
       "      <td>Louisiana</td>\n",
       "      <td>1532</td>\n",
       "    </tr>\n",
       "    <tr>\n",
       "      <th>19</th>\n",
       "      <td>Maine</td>\n",
       "      <td>0</td>\n",
       "    </tr>\n",
       "    <tr>\n",
       "      <th>20</th>\n",
       "      <td>Maryland</td>\n",
       "      <td>4868</td>\n",
       "    </tr>\n",
       "    <tr>\n",
       "      <th>21</th>\n",
       "      <td>Massachusetts</td>\n",
       "      <td>11995</td>\n",
       "    </tr>\n",
       "    <tr>\n",
       "      <th>22</th>\n",
       "      <td>Michigan</td>\n",
       "      <td>2461</td>\n",
       "    </tr>\n",
       "    <tr>\n",
       "      <th>23</th>\n",
       "      <td>Minnesota</td>\n",
       "      <td>3086</td>\n",
       "    </tr>\n",
       "    <tr>\n",
       "      <th>24</th>\n",
       "      <td>Mississippi</td>\n",
       "      <td>344</td>\n",
       "    </tr>\n",
       "    <tr>\n",
       "      <th>25</th>\n",
       "      <td>Missouri</td>\n",
       "      <td>3137</td>\n",
       "    </tr>\n",
       "    <tr>\n",
       "      <th>26</th>\n",
       "      <td>Montana</td>\n",
       "      <td>0</td>\n",
       "    </tr>\n",
       "    <tr>\n",
       "      <th>27</th>\n",
       "      <td>Nebraska</td>\n",
       "      <td>3692</td>\n",
       "    </tr>\n",
       "    <tr>\n",
       "      <th>28</th>\n",
       "      <td>Nevada</td>\n",
       "      <td>9345</td>\n",
       "    </tr>\n",
       "    <tr>\n",
       "      <th>29</th>\n",
       "      <td>New Hampshire</td>\n",
       "      <td>0</td>\n",
       "    </tr>\n",
       "    <tr>\n",
       "      <th>30</th>\n",
       "      <td>New Jersey</td>\n",
       "      <td>7229</td>\n",
       "    </tr>\n",
       "    <tr>\n",
       "      <th>31</th>\n",
       "      <td>New Mexico</td>\n",
       "      <td>3580</td>\n",
       "    </tr>\n",
       "    <tr>\n",
       "      <th>32</th>\n",
       "      <td>New York</td>\n",
       "      <td>21609</td>\n",
       "    </tr>\n",
       "    <tr>\n",
       "      <th>33</th>\n",
       "      <td>North Carolina</td>\n",
       "      <td>27422</td>\n",
       "    </tr>\n",
       "    <tr>\n",
       "      <th>34</th>\n",
       "      <td>North Dakota</td>\n",
       "      <td>0</td>\n",
       "    </tr>\n",
       "    <tr>\n",
       "      <th>35</th>\n",
       "      <td>Ohio</td>\n",
       "      <td>1050</td>\n",
       "    </tr>\n",
       "    <tr>\n",
       "      <th>36</th>\n",
       "      <td>Oklahoma</td>\n",
       "      <td>1428</td>\n",
       "    </tr>\n",
       "    <tr>\n",
       "      <th>37</th>\n",
       "      <td>Oregon</td>\n",
       "      <td>1760</td>\n",
       "    </tr>\n",
       "    <tr>\n",
       "      <th>38</th>\n",
       "      <td>Pennsylvania</td>\n",
       "      <td>6074</td>\n",
       "    </tr>\n",
       "    <tr>\n",
       "      <th>51</th>\n",
       "      <td>Puerto Rico</td>\n",
       "      <td>79803</td>\n",
       "    </tr>\n",
       "    <tr>\n",
       "      <th>39</th>\n",
       "      <td>Rhode Island</td>\n",
       "      <td>2684</td>\n",
       "    </tr>\n",
       "    <tr>\n",
       "      <th>40</th>\n",
       "      <td>South Carolina</td>\n",
       "      <td>1632</td>\n",
       "    </tr>\n",
       "    <tr>\n",
       "      <th>41</th>\n",
       "      <td>South Dakota</td>\n",
       "      <td>0</td>\n",
       "    </tr>\n",
       "    <tr>\n",
       "      <th>42</th>\n",
       "      <td>Tennessee</td>\n",
       "      <td>618</td>\n",
       "    </tr>\n",
       "    <tr>\n",
       "      <th>43</th>\n",
       "      <td>Texas</td>\n",
       "      <td>59850</td>\n",
       "    </tr>\n",
       "    <tr>\n",
       "      <th>44</th>\n",
       "      <td>Utah</td>\n",
       "      <td>3340</td>\n",
       "    </tr>\n",
       "    <tr>\n",
       "      <th>45</th>\n",
       "      <td>Vermont</td>\n",
       "      <td>0</td>\n",
       "    </tr>\n",
       "    <tr>\n",
       "      <th>46</th>\n",
       "      <td>Virginia</td>\n",
       "      <td>562</td>\n",
       "    </tr>\n",
       "    <tr>\n",
       "      <th>47</th>\n",
       "      <td>Washington</td>\n",
       "      <td>2980</td>\n",
       "    </tr>\n",
       "    <tr>\n",
       "      <th>48</th>\n",
       "      <td>West Virginia</td>\n",
       "      <td>0</td>\n",
       "    </tr>\n",
       "    <tr>\n",
       "      <th>49</th>\n",
       "      <td>Wisconsin</td>\n",
       "      <td>596</td>\n",
       "    </tr>\n",
       "    <tr>\n",
       "      <th>50</th>\n",
       "      <td>Wyoming</td>\n",
       "      <td>0</td>\n",
       "    </tr>\n",
       "  </tbody>\n",
       "</table>\n",
       "</div>"
      ],
      "text/plain": [
       "                   State  Posts_Counts\n",
       "0                Alabama          1164\n",
       "1                 Alaska           443\n",
       "2                Arizona         14637\n",
       "3               Arkansas           741\n",
       "4             California         72208\n",
       "5               Colorado         10566\n",
       "6            Connecticut          9787\n",
       "7               Delaware           942\n",
       "8   District of Columbia         14156\n",
       "9                Florida         36682\n",
       "10               Georgia         22853\n",
       "11                Hawaii             0\n",
       "12                 Idaho           548\n",
       "13              Illinois          7683\n",
       "14               Indiana          1052\n",
       "15                  Iowa          1742\n",
       "16                Kansas          3217\n",
       "17              Kentucky          1733\n",
       "18             Louisiana          1532\n",
       "19                 Maine             0\n",
       "20              Maryland          4868\n",
       "21         Massachusetts         11995\n",
       "22              Michigan          2461\n",
       "23             Minnesota          3086\n",
       "24           Mississippi           344\n",
       "25              Missouri          3137\n",
       "26               Montana             0\n",
       "27              Nebraska          3692\n",
       "28                Nevada          9345\n",
       "29         New Hampshire             0\n",
       "30            New Jersey          7229\n",
       "31            New Mexico          3580\n",
       "32              New York         21609\n",
       "33        North Carolina         27422\n",
       "34          North Dakota             0\n",
       "35                  Ohio          1050\n",
       "36              Oklahoma          1428\n",
       "37                Oregon          1760\n",
       "38          Pennsylvania          6074\n",
       "51           Puerto Rico         79803\n",
       "39          Rhode Island          2684\n",
       "40        South Carolina          1632\n",
       "41          South Dakota             0\n",
       "42             Tennessee           618\n",
       "43                 Texas         59850\n",
       "44                  Utah          3340\n",
       "45               Vermont             0\n",
       "46              Virginia           562\n",
       "47            Washington          2980\n",
       "48         West Virginia             0\n",
       "49             Wisconsin           596\n",
       "50               Wyoming             0"
      ]
     },
     "execution_count": 37,
     "metadata": {},
     "output_type": "execute_result"
    }
   ],
   "source": [
    "from functools import reduce\n",
    "data_frames = [us_states, df_general]\n",
    "df_gen  = reduce(lambda  left,right: pd.merge(left,right,on=['State'],\n",
    "                                            how='outer'), data_frames)\n",
    "df_gen.columns = ['State','Posts_Counts']\n",
    "df_gen.sort_values(by=['State'], ascending=True,inplace=True)\n",
    "df_gen.fillna(0, inplace=True)\n",
    "df_gen['Posts_Counts'] = df_gen['Posts_Counts'].astype(int)\n",
    "df_gen"
   ]
  },
  {
   "cell_type": "code",
   "execution_count": 38,
   "metadata": {},
   "outputs": [],
   "source": [
    "df_gen.to_csv('cscwDocs/News_media_outlets_all_posts_by_state.csv',index=False,na_rep=0)"
   ]
  },
  {
   "cell_type": "markdown",
   "metadata": {},
   "source": [
    "## 6.Filter Posts per each political party \n",
    "How much each candidate talked about all the topics that Latinx cared about"
   ]
  },
  {
   "cell_type": "code",
   "execution_count": 39,
   "metadata": {
    "scrolled": false
   },
   "outputs": [],
   "source": [
    "#Topics\n",
    "economy = r\"\\b(economy|economía|welfare|seguridad social|irs|taxes|impuestos|unemployment|employment|empleo|desempleo|minimum wage|salario mínimo|poverty|pobreza|gdp|pib)\\b\"\n",
    "health_care = r\"\\b(health care|salud|médico|health|doctor|medicaid|medicare|obamacare|insurance|seguro médico|disability|discapacidad|discapacidad|disability)\\b\"\n",
    "coronavirus = r\"\\b(coronavirus|covid|pandemia|pandemic|vacuna|vaccine|vaccination|vacunación|covid-19|pfizer|moderna|johnson & johnson|astrazeneca|johnson and johnson|sputnik|tos|fiebre|cough|fever)\\b\"\n",
    "crime = r\"\\b(crime|crimen|pandilla|gang|vandalism|vandalismo|violence|violencia|robbery|theft|robo)\\b\"\n",
    "supreme_court = r\"\\b(supreme court|suprema corte|juez|corte suprema|ruth bader|ginsberg)\\b\"\n",
    "climate_change = r\"\\b(climate change|cambio climático|recycle|reciclar|pollution|contaminación|global warming|calentamiento global|environmental impact|impacto ambiental|tratado de paris|paris agreement)\\b\"\n",
    "gun_policy = r\"\\b(gun policy|gun policies|política de armas|guns rights|nra|armas|arma|pistola|gun|gun violence|shooting|tiroteo|2nd amendment|second amendment|segunda enmienda|concealed carry|licencia de portación)\\b\"\n",
    "\n",
    "foreign_policy =r\"\\b(usmca|foreign policy|política exterior|foreign trade|comercio exterior|divisa|foreign exchange|cámara de comercio|chamber of commerce|ambassador|embajador|embajadora|embajada|embassy|diplomatic relations|relaciones diplomáticas|middle east|medio oriente|prime minister|primer ministro)\\b\"\n",
    "abortion = r\"\\b(aborto|abortion|feto|fetus|embarazada|pregnancy|embarazo|embarazo no deseado|unplanned pregnancy|embarazo no planeado|planned parenthood|planificación familiar|miscarriage)\\b\"\n",
    "racism = r\"\\b(racial inequality|etnic inequality|racism|racismo|inequidad racial|inequidad étnica|crimen de odio|hate crime|discriminación|discrimination|asian|african american|black population|black community|desigualdad|blm|black lives matter|all lives matter)\\b\"\n",
    "immigration = r\"\\b(visa|immigration|migration|inmigración|migración|indocumentado|undocumented|frontera|border|muro|wall|green card|ice|daca|dreamers)\\b\"\n",
    "\n",
    "\n",
    "pd.set_option('display.max_colwidth', 400)\n",
    "path = 'cscwDocs/NewsMediaOutlets/Topics/'\n",
    "prefix = 'FB_groups_News_Media_Outlets_'"
   ]
  },
  {
   "cell_type": "code",
   "execution_count": 40,
   "metadata": {},
   "outputs": [
    {
     "name": "stderr",
     "output_type": "stream",
     "text": [
      "/Users/claudia/opt/anaconda3/lib/python3.8/site-packages/pandas/core/strings.py:2001: UserWarning: This pattern has match groups. To actually get the groups, use str.extract.\n",
      "  return func(self, *args, **kwargs)\n"
     ]
    },
    {
     "name": "stdout",
     "output_type": "stream",
     "text": [
      "economy (10571, 37)\n"
     ]
    }
   ],
   "source": [
    "posts_economy = posts_st.copy()\n",
    "posts_economy = posts_st[posts_st['MessageDescr'].str.lower().str.contains(economy   ,na = False)]\n",
    "print('economy', posts_economy.shape)\n",
    "posts_economy.to_csv(path + prefix + 'economy' + '.csv')"
   ]
  },
  {
   "cell_type": "code",
   "execution_count": 41,
   "metadata": {},
   "outputs": [
    {
     "name": "stdout",
     "output_type": "stream",
     "text": [
      "health_care (29892, 37)\n"
     ]
    }
   ],
   "source": [
    "topic='health_care'\n",
    "df = posts_st.copy()\n",
    "df = posts_st[posts_st['MessageDescr'].str.lower().str.contains(health_care ,na = False)]\n",
    "print(topic, df.shape)\n",
    "df.to_csv(path + prefix + topic + '.csv')"
   ]
  },
  {
   "cell_type": "code",
   "execution_count": 42,
   "metadata": {},
   "outputs": [
    {
     "name": "stdout",
     "output_type": "stream",
     "text": [
      "coronavirus (95098, 37)\n"
     ]
    }
   ],
   "source": [
    "topic='coronavirus'\n",
    "df = posts_st.copy()\n",
    "df = posts_st[posts_st['MessageDescr'].str.lower().str.contains(coronavirus ,na = False)]\n",
    "print(topic, df.shape)\n",
    "df.to_csv(path + prefix + topic + '.csv')"
   ]
  },
  {
   "cell_type": "code",
   "execution_count": 43,
   "metadata": {},
   "outputs": [
    {
     "name": "stdout",
     "output_type": "stream",
     "text": [
      "crime (9088, 37)\n"
     ]
    }
   ],
   "source": [
    "topic='crime'\n",
    "df = posts_st.copy()\n",
    "df = posts_st[posts_st['MessageDescr'].str.lower().str.contains(crime ,na = False)]\n",
    "print(topic, df.shape)\n",
    "df.to_csv(path + prefix + topic + '.csv')"
   ]
  },
  {
   "cell_type": "code",
   "execution_count": 44,
   "metadata": {},
   "outputs": [
    {
     "name": "stdout",
     "output_type": "stream",
     "text": [
      "supreme_court (7176, 37)\n"
     ]
    }
   ],
   "source": [
    "topic='supreme_court'\n",
    "df = posts_st.copy()\n",
    "df = posts_st[posts_st['MessageDescr'].str.lower().str.contains(supreme_court ,na = False)]\n",
    "print(topic, df.shape)\n",
    "df.to_csv(path + prefix + topic + '.csv')"
   ]
  },
  {
   "cell_type": "code",
   "execution_count": 45,
   "metadata": {},
   "outputs": [
    {
     "name": "stdout",
     "output_type": "stream",
     "text": [
      "climate_change (1182, 37)\n"
     ]
    }
   ],
   "source": [
    "topic='climate_change'\n",
    "df = posts_st.copy()\n",
    "df = posts_st[posts_st['MessageDescr'].str.lower().str.contains(climate_change ,na = False)]\n",
    "print(topic, df.shape)\n",
    "df.to_csv(path + prefix + topic + '.csv')"
   ]
  },
  {
   "cell_type": "code",
   "execution_count": 46,
   "metadata": {},
   "outputs": [
    {
     "name": "stdout",
     "output_type": "stream",
     "text": [
      "gun_policy (7309, 37)\n"
     ]
    }
   ],
   "source": [
    "topic='gun_policy'\n",
    "df = posts_st.copy()\n",
    "df = posts_st[posts_st['MessageDescr'].str.lower().str.contains(gun_policy ,na = False)]\n",
    "print(topic, df.shape)\n",
    "df.to_csv(path + prefix + topic + '.csv')"
   ]
  },
  {
   "cell_type": "code",
   "execution_count": 47,
   "metadata": {},
   "outputs": [
    {
     "name": "stdout",
     "output_type": "stream",
     "text": [
      "foreign_policy (534, 37)\n"
     ]
    }
   ],
   "source": [
    "topic='foreign_policy'\n",
    "foreign_policy =r\"\\b(cámara de comercio|primer ministro|foreign policy)\\b\"\n",
    "\n",
    "df = posts_st.copy()\n",
    "df = posts_st[posts_st['MessageDescr'].str.lower().str.contains(foreign_policy ,na = False)]\n",
    "print(topic, df.shape)\n",
    "df.to_csv(path + prefix + topic + '.csv')"
   ]
  },
  {
   "cell_type": "code",
   "execution_count": 48,
   "metadata": {},
   "outputs": [
    {
     "name": "stdout",
     "output_type": "stream",
     "text": [
      "abortion (2189, 37)\n"
     ]
    }
   ],
   "source": [
    "topic='abortion'\n",
    "df = posts_st.copy()\n",
    "df = posts_st[posts_st['MessageDescr'].str.lower().str.contains(abortion ,na = False)]\n",
    "print(topic, df.shape)\n",
    "df.to_csv(path + prefix + topic + '.csv')"
   ]
  },
  {
   "cell_type": "code",
   "execution_count": 49,
   "metadata": {},
   "outputs": [
    {
     "name": "stdout",
     "output_type": "stream",
     "text": [
      "racism (2666, 37)\n"
     ]
    }
   ],
   "source": [
    "topic='racism'\n",
    "df = posts_st.copy()\n",
    "df = posts_st[posts_st['MessageDescr'].str.lower().str.contains(racism ,na = False)]\n",
    "print(topic, df.shape)\n",
    "df.to_csv(path + prefix + topic + '.csv')"
   ]
  },
  {
   "cell_type": "code",
   "execution_count": 50,
   "metadata": {},
   "outputs": [
    {
     "name": "stdout",
     "output_type": "stream",
     "text": [
      "immigration (10166, 37)\n"
     ]
    }
   ],
   "source": [
    "topic='immigration'\n",
    "\n",
    "#has only immigration words but not ICE\n",
    "df_imm = posts_st[(posts_st['MessageOnly'].str.lower().str.contains(immigration ,na = False))]\n",
    "print(topic, df_imm.shape)\n",
    "df_imm.to_csv(path + prefix + topic + '.csv')"
   ]
  },
  {
   "cell_type": "code",
   "execution_count": null,
   "metadata": {},
   "outputs": [],
   "source": []
  }
 ],
 "metadata": {
  "kernelspec": {
   "display_name": "Latinx2020env",
   "language": "python",
   "name": "latinx2020env"
  },
  "language_info": {
   "codemirror_mode": {
    "name": "ipython",
    "version": 3
   },
   "file_extension": ".py",
   "mimetype": "text/x-python",
   "name": "python",
   "nbconvert_exporter": "python",
   "pygments_lexer": "ipython3",
   "version": "3.8.5"
  }
 },
 "nbformat": 4,
 "nbformat_minor": 4
}
