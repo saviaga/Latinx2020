{
 "cells": [
  {
   "cell_type": "markdown",
   "metadata": {},
   "source": [
    "### Classify groups/Pages by Political Party\n"
   ]
  },
  {
   "cell_type": "code",
   "execution_count": 1,
   "metadata": {},
   "outputs": [],
   "source": [
    "import pandas as pd\n",
    "import warnings\n",
    "warnings.filterwarnings(\"ignore\",category=DeprecationWarning)"
   ]
  },
  {
   "cell_type": "markdown",
   "metadata": {},
   "source": [
    "## 1. Reads  Info\n",
    "Reads the information from all the posts from the studied period (csv files)\n",
    "We are importing information from Group Pages and FB Pages"
   ]
  },
  {
   "cell_type": "code",
   "execution_count": 2,
   "metadata": {
    "scrolled": true
   },
   "outputs": [
    {
     "name": "stderr",
     "output_type": "stream",
     "text": [
      "/Users/claudia/opt/anaconda3/lib/python3.8/site-packages/IPython/core/interactiveshell.py:3146: DtypeWarning: Columns (29) have mixed types.Specify dtype option on import or set low_memory=False.\n",
      "  has_raised = await self.run_ast_nodes(code_ast.body, cell_name,\n"
     ]
    },
    {
     "data": {
      "text/plain": [
       "(78080, 31)"
      ]
     },
     "execution_count": 2,
     "metadata": {},
     "output_type": "execute_result"
    }
   ],
   "source": [
    "path = \"cscwDocs/parties/FBPagesGroupsData/FBPagesGroupsParty/\"\n",
    "posts1 = pd.read_csv(path+\"LatinxPagesDemocrats-Aug18_2020-Nov03_2020.csv\")\n",
    "#We rename the colum Page Name to be able to join with Group Posts\n",
    "posts1.rename(columns={'Page Name':'Group Name'}, inplace=True)\n",
    "\n",
    "posts2 = pd.read_csv(path+\"LatinxPagesRepublicans-Aug08_2020-Nov03_2020.csv\")\n",
    "posts2.rename(columns={'Page Name':'Group Name'}, inplace=True)\n",
    "\n",
    "posts3 = pd.read_csv(path+\"LatinxGroupsDemocrats-Aug08_2020-Nov03_2020.csv\")\n",
    "posts4 = pd.read_csv(path+\"LatinxGroupsRepublicansAug18_2020-Nov03_2020.csv\")\n",
    "posts = pd.concat([posts1,posts2,posts3,posts4])\n",
    "posts.shape"
   ]
  },
  {
   "cell_type": "code",
   "execution_count": 3,
   "metadata": {
    "scrolled": true
   },
   "outputs": [
    {
     "data": {
      "text/plain": [
       "0             https://www.facebook.com/latinosvstrump/posts/3423913737724737\n",
       "1             https://www.facebook.com/latinosvstrump/posts/3413154015467376\n",
       "2             https://www.facebook.com/latinosvstrump/posts/3429907320458712\n",
       "3    https://www.facebook.com/MexicanAmericansForBiden/posts/150162376782089\n",
       "4             https://www.facebook.com/latinosvstrump/posts/3448617171921060\n",
       "Name: URL, dtype: object"
      ]
     },
     "execution_count": 3,
     "metadata": {},
     "output_type": "execute_result"
    }
   ],
   "source": [
    "pd.set_option('display.max_colwidth', 400)\n",
    "posts['URL'].head()"
   ]
  },
  {
   "cell_type": "code",
   "execution_count": 4,
   "metadata": {},
   "outputs": [
    {
     "data": {
      "text/html": [
       "<div>\n",
       "<style scoped>\n",
       "    .dataframe tbody tr th:only-of-type {\n",
       "        vertical-align: middle;\n",
       "    }\n",
       "\n",
       "    .dataframe tbody tr th {\n",
       "        vertical-align: top;\n",
       "    }\n",
       "\n",
       "    .dataframe thead th {\n",
       "        text-align: right;\n",
       "    }\n",
       "</style>\n",
       "<table border=\"1\" class=\"dataframe\">\n",
       "  <thead>\n",
       "    <tr style=\"text-align: right;\">\n",
       "      <th></th>\n",
       "      <th>Group Name</th>\n",
       "      <th>User Name</th>\n",
       "      <th>Facebook Id</th>\n",
       "      <th>Likes at Posting</th>\n",
       "      <th>Created</th>\n",
       "      <th>Type</th>\n",
       "      <th>Likes</th>\n",
       "      <th>Comments</th>\n",
       "      <th>Shares</th>\n",
       "      <th>Love</th>\n",
       "      <th>...</th>\n",
       "      <th>Message</th>\n",
       "      <th>Link</th>\n",
       "      <th>Final Link</th>\n",
       "      <th>Image Text</th>\n",
       "      <th>Link Text</th>\n",
       "      <th>Description</th>\n",
       "      <th>Sponsor Id</th>\n",
       "      <th>Sponsor Name</th>\n",
       "      <th>Total Interactions</th>\n",
       "      <th>Overperforming Score</th>\n",
       "    </tr>\n",
       "  </thead>\n",
       "  <tbody>\n",
       "    <tr>\n",
       "      <th>0</th>\n",
       "      <td>Latinos Contra Trump</td>\n",
       "      <td>latinosvstrump</td>\n",
       "      <td>1161597243956409</td>\n",
       "      <td>229464.0</td>\n",
       "      <td>2020-10-23 16:32:29 EDT</td>\n",
       "      <td>Native Video</td>\n",
       "      <td>534</td>\n",
       "      <td>465</td>\n",
       "      <td>4864</td>\n",
       "      <td>70</td>\n",
       "      <td>...</td>\n",
       "      <td>🚨 Latinos for TRUMP?! NEVER! Here's why Latinos are WITH BIDEN! 🇺🇸</td>\n",
       "      <td>https://www.facebook.com/latinosvstrump/videos/1465058357217245/</td>\n",
       "      <td>https://www.facebook.com/login/?next=https%3A%2F%2Fwww.facebook.com%2Flatinosvstrump%2Fvideos%2F1465058357217245%2F</td>\n",
       "      <td>NaN</td>\n",
       "      <td>🚨 Latinos for TRUMP?! NEVER! Here's why Latinos are WITH BIDEN! 🇺🇸</td>\n",
       "      <td>NaN</td>\n",
       "      <td>NaN</td>\n",
       "      <td>NaN</td>\n",
       "      <td>6,121</td>\n",
       "      <td>8.14</td>\n",
       "    </tr>\n",
       "    <tr>\n",
       "      <th>1</th>\n",
       "      <td>Latinos Contra Trump</td>\n",
       "      <td>latinosvstrump</td>\n",
       "      <td>1161597243956409</td>\n",
       "      <td>229497.0</td>\n",
       "      <td>2020-10-19 17:21:34 EDT</td>\n",
       "      <td>Native Video</td>\n",
       "      <td>448</td>\n",
       "      <td>169</td>\n",
       "      <td>2317</td>\n",
       "      <td>60</td>\n",
       "      <td>...</td>\n",
       "      <td>🚨 Latinos for Trump? NEVER. Latinos are with Biden! 🇺🇸🇺🇸🇺🇸</td>\n",
       "      <td>https://www.facebook.com/latinosvstrump/videos/1264467610612988/</td>\n",
       "      <td>https://www.facebook.com/login/?next=https%3A%2F%2Fwww.facebook.com%2Flatinosvstrump%2Fvideos%2F1264467610612988%2F</td>\n",
       "      <td>NaN</td>\n",
       "      <td>🚨 Why Latinos are NOT with Trump!</td>\n",
       "      <td>NaN</td>\n",
       "      <td>NaN</td>\n",
       "      <td>NaN</td>\n",
       "      <td>3,028</td>\n",
       "      <td>4.03</td>\n",
       "    </tr>\n",
       "    <tr>\n",
       "      <th>2</th>\n",
       "      <td>Latinos Contra Trump</td>\n",
       "      <td>latinosvstrump</td>\n",
       "      <td>1161597243956409</td>\n",
       "      <td>229471.0</td>\n",
       "      <td>2020-10-25 20:46:11 EDT</td>\n",
       "      <td>Native Video</td>\n",
       "      <td>332</td>\n",
       "      <td>278</td>\n",
       "      <td>2168</td>\n",
       "      <td>36</td>\n",
       "      <td>...</td>\n",
       "      <td>🚨 Latinos for TRUMP?! NEVER! Here's why Latinos are WITH BIDEN! 🇺🇸</td>\n",
       "      <td>https://www.facebook.com/latinosvstrump/videos/1100994100334633/</td>\n",
       "      <td>https://www.facebook.com/login/?next=https%3A%2F%2Fwww.facebook.com%2Flatinosvstrump%2Fvideos%2F1100994100334633%2F</td>\n",
       "      <td>NaN</td>\n",
       "      <td>🚨 Latinos for TRUMP?! NEVER! Here's why Latinos are WITH BIDEN! 🇺🇸</td>\n",
       "      <td>NaN</td>\n",
       "      <td>NaN</td>\n",
       "      <td>NaN</td>\n",
       "      <td>2,946</td>\n",
       "      <td>3.92</td>\n",
       "    </tr>\n",
       "  </tbody>\n",
       "</table>\n",
       "<p>3 rows × 31 columns</p>\n",
       "</div>"
      ],
      "text/plain": [
       "             Group Name       User Name       Facebook Id  Likes at Posting  \\\n",
       "0  Latinos Contra Trump  latinosvstrump  1161597243956409          229464.0   \n",
       "1  Latinos Contra Trump  latinosvstrump  1161597243956409          229497.0   \n",
       "2  Latinos Contra Trump  latinosvstrump  1161597243956409          229471.0   \n",
       "\n",
       "                   Created          Type  Likes  Comments  Shares  Love  ...  \\\n",
       "0  2020-10-23 16:32:29 EDT  Native Video    534       465    4864    70  ...   \n",
       "1  2020-10-19 17:21:34 EDT  Native Video    448       169    2317    60  ...   \n",
       "2  2020-10-25 20:46:11 EDT  Native Video    332       278    2168    36  ...   \n",
       "\n",
       "                                                              Message  \\\n",
       "0  🚨 Latinos for TRUMP?! NEVER! Here's why Latinos are WITH BIDEN! 🇺🇸   \n",
       "1          🚨 Latinos for Trump? NEVER. Latinos are with Biden! 🇺🇸🇺🇸🇺🇸   \n",
       "2  🚨 Latinos for TRUMP?! NEVER! Here's why Latinos are WITH BIDEN! 🇺🇸   \n",
       "\n",
       "                                                               Link  \\\n",
       "0  https://www.facebook.com/latinosvstrump/videos/1465058357217245/   \n",
       "1  https://www.facebook.com/latinosvstrump/videos/1264467610612988/   \n",
       "2  https://www.facebook.com/latinosvstrump/videos/1100994100334633/   \n",
       "\n",
       "                                                                                                            Final Link  \\\n",
       "0  https://www.facebook.com/login/?next=https%3A%2F%2Fwww.facebook.com%2Flatinosvstrump%2Fvideos%2F1465058357217245%2F   \n",
       "1  https://www.facebook.com/login/?next=https%3A%2F%2Fwww.facebook.com%2Flatinosvstrump%2Fvideos%2F1264467610612988%2F   \n",
       "2  https://www.facebook.com/login/?next=https%3A%2F%2Fwww.facebook.com%2Flatinosvstrump%2Fvideos%2F1100994100334633%2F   \n",
       "\n",
       "   Image Text  \\\n",
       "0         NaN   \n",
       "1         NaN   \n",
       "2         NaN   \n",
       "\n",
       "                                                            Link Text  \\\n",
       "0  🚨 Latinos for TRUMP?! NEVER! Here's why Latinos are WITH BIDEN! 🇺🇸   \n",
       "1                                   🚨 Why Latinos are NOT with Trump!   \n",
       "2  🚨 Latinos for TRUMP?! NEVER! Here's why Latinos are WITH BIDEN! 🇺🇸   \n",
       "\n",
       "  Description  Sponsor Id  Sponsor Name  Total Interactions  \\\n",
       "0         NaN         NaN           NaN               6,121   \n",
       "1         NaN         NaN           NaN               3,028   \n",
       "2         NaN         NaN           NaN               2,946   \n",
       "\n",
       "  Overperforming Score  \n",
       "0                 8.14  \n",
       "1                 4.03  \n",
       "2                 3.92  \n",
       "\n",
       "[3 rows x 31 columns]"
      ]
     },
     "execution_count": 4,
     "metadata": {},
     "output_type": "execute_result"
    }
   ],
   "source": [
    "posts.head(3)"
   ]
  },
  {
   "cell_type": "markdown",
   "metadata": {},
   "source": [
    "## 9. Filter the most relevant columns\n",
    "### Add column to concat Message, Description, Link Text"
   ]
  },
  {
   "cell_type": "code",
   "execution_count": 5,
   "metadata": {},
   "outputs": [],
   "source": [
    "concat_message = posts['Message'].fillna('') + (' ' + posts['Description']).fillna('')+ (' ' + posts['Link Text']).fillna('') + (' ' + posts['Link']).fillna('')\n",
    "posts['MessageDescr'] = concat_message\n",
    "\n",
    "concat_just_message = posts['Message'].fillna('') + (' ' + posts['Description']).fillna('')+ (' ' + posts['Link Text']).fillna('')\n",
    "posts['MessageOnly'] = concat_just_message"
   ]
  },
  {
   "cell_type": "code",
   "execution_count": 6,
   "metadata": {},
   "outputs": [
    {
     "data": {
      "text/plain": [
       "Index(['Group Name', 'User Name', 'Facebook Id', 'Likes at Posting', 'Created',\n",
       "       'Type', 'Likes', 'Comments', 'Shares', 'Love', 'Wow', 'Haha', 'Sad',\n",
       "       'Angry', 'Care', 'Video Share Status', 'Post Views', 'Total Views',\n",
       "       'Total Views For All Crossposts', 'Video Length', 'URL', 'Message',\n",
       "       'Link', 'Final Link', 'Image Text', 'Link Text', 'Description',\n",
       "       'Sponsor Id', 'Sponsor Name', 'Total Interactions',\n",
       "       'Overperforming Score', 'MessageDescr', 'MessageOnly'],\n",
       "      dtype='object')"
      ]
     },
     "execution_count": 6,
     "metadata": {},
     "output_type": "execute_result"
    }
   ],
   "source": [
    "posts.columns"
   ]
  },
  {
   "cell_type": "code",
   "execution_count": 7,
   "metadata": {
    "scrolled": false
   },
   "outputs": [
    {
     "data": {
      "text/html": [
       "<div>\n",
       "<style scoped>\n",
       "    .dataframe tbody tr th:only-of-type {\n",
       "        vertical-align: middle;\n",
       "    }\n",
       "\n",
       "    .dataframe tbody tr th {\n",
       "        vertical-align: top;\n",
       "    }\n",
       "\n",
       "    .dataframe thead th {\n",
       "        text-align: right;\n",
       "    }\n",
       "</style>\n",
       "<table border=\"1\" class=\"dataframe\">\n",
       "  <thead>\n",
       "    <tr style=\"text-align: right;\">\n",
       "      <th></th>\n",
       "      <th>Group Name</th>\n",
       "      <th>User Name</th>\n",
       "      <th>Facebook Id</th>\n",
       "      <th>Likes at Posting</th>\n",
       "      <th>Created</th>\n",
       "      <th>Type</th>\n",
       "      <th>Likes</th>\n",
       "      <th>Comments</th>\n",
       "      <th>Shares</th>\n",
       "      <th>Love</th>\n",
       "      <th>...</th>\n",
       "      <th>Final Link</th>\n",
       "      <th>Image Text</th>\n",
       "      <th>Link Text</th>\n",
       "      <th>Description</th>\n",
       "      <th>Sponsor Id</th>\n",
       "      <th>Sponsor Name</th>\n",
       "      <th>Total Interactions</th>\n",
       "      <th>Overperforming Score</th>\n",
       "      <th>MessageDescr</th>\n",
       "      <th>MessageOnly</th>\n",
       "    </tr>\n",
       "  </thead>\n",
       "  <tbody>\n",
       "    <tr>\n",
       "      <th>13</th>\n",
       "      <td>Latinos Contra Trump</td>\n",
       "      <td>latinosvstrump</td>\n",
       "      <td>1161597243956409</td>\n",
       "      <td>229583.0</td>\n",
       "      <td>2020-09-30 12:01:35 EDT</td>\n",
       "      <td>Link</td>\n",
       "      <td>757</td>\n",
       "      <td>228</td>\n",
       "      <td>257</td>\n",
       "      <td>115</td>\n",
       "      <td>...</td>\n",
       "      <td>NaN</td>\n",
       "      <td>NaN</td>\n",
       "      <td>Fiscal de Watergate: Trump e Ivanka Definitivamente Podrían Enfrentar la Cárcel por sus Estafas Fiscales</td>\n",
       "      <td>Los problemas legales del presidente apenas están comenzando.</td>\n",
       "      <td>NaN</td>\n",
       "      <td>NaN</td>\n",
       "      <td>1,429</td>\n",
       "      <td>4.61</td>\n",
       "      <td>$250,000 dólares de multa y hasta 5 años en una prisión federal. ¿Te lo puedes imaginar?... Los problemas legales del presidente apenas están comenzando. Fiscal de Watergate: Trump e Ivanka Definitivamente Podrían Enfrentar la Cárcel por sus Estafas Fiscales https://eldiariolatinoamericano.com/fiscal-watergate-trump-e-ivanka-definitivamente-podrian-enfrentar-la-carcel-por-sus-estafas-fiscales/</td>\n",
       "      <td>$250,000 dólares de multa y hasta 5 años en una prisión federal. ¿Te lo puedes imaginar?... Los problemas legales del presidente apenas están comenzando. Fiscal de Watergate: Trump e Ivanka Definitivamente Podrían Enfrentar la Cárcel por sus Estafas Fiscales</td>\n",
       "    </tr>\n",
       "  </tbody>\n",
       "</table>\n",
       "<p>1 rows × 33 columns</p>\n",
       "</div>"
      ],
      "text/plain": [
       "              Group Name       User Name       Facebook Id  Likes at Posting  \\\n",
       "13  Latinos Contra Trump  latinosvstrump  1161597243956409          229583.0   \n",
       "\n",
       "                    Created  Type  Likes  Comments  Shares  Love  ...  \\\n",
       "13  2020-09-30 12:01:35 EDT  Link    757       228     257   115  ...   \n",
       "\n",
       "    Final Link  Image Text  \\\n",
       "13         NaN         NaN   \n",
       "\n",
       "                                                                                                   Link Text  \\\n",
       "13  Fiscal de Watergate: Trump e Ivanka Definitivamente Podrían Enfrentar la Cárcel por sus Estafas Fiscales   \n",
       "\n",
       "                                                      Description  Sponsor Id  \\\n",
       "13  Los problemas legales del presidente apenas están comenzando.         NaN   \n",
       "\n",
       "   Sponsor Name  Total Interactions  Overperforming Score  \\\n",
       "13          NaN               1,429                  4.61   \n",
       "\n",
       "                                                                                                                                                                                                                                                                                                                                                                                                    MessageDescr  \\\n",
       "13  $250,000 dólares de multa y hasta 5 años en una prisión federal. ¿Te lo puedes imaginar?... Los problemas legales del presidente apenas están comenzando. Fiscal de Watergate: Trump e Ivanka Definitivamente Podrían Enfrentar la Cárcel por sus Estafas Fiscales https://eldiariolatinoamericano.com/fiscal-watergate-trump-e-ivanka-definitivamente-podrian-enfrentar-la-carcel-por-sus-estafas-fiscales/   \n",
       "\n",
       "                                                                                                                                                                                                                                                           MessageOnly  \n",
       "13  $250,000 dólares de multa y hasta 5 años en una prisión federal. ¿Te lo puedes imaginar?... Los problemas legales del presidente apenas están comenzando. Fiscal de Watergate: Trump e Ivanka Definitivamente Podrían Enfrentar la Cárcel por sus Estafas Fiscales  \n",
       "\n",
       "[1 rows x 33 columns]"
      ]
     },
     "execution_count": 7,
     "metadata": {},
     "output_type": "execute_result"
    }
   ],
   "source": [
    "posts[posts['Link Text'].str.lower().str.contains(\"í\", na = False)].head(1)"
   ]
  },
  {
   "cell_type": "code",
   "execution_count": 8,
   "metadata": {},
   "outputs": [
    {
     "name": "stdout",
     "output_type": "stream",
     "text": [
      "This is a smiley face 😂\n",
      "This is a smiley face \n"
     ]
    }
   ],
   "source": [
    "#!/usr/bin/env python\n",
    "import re\n",
    "\n",
    "text = u'This is a smiley face \\U0001f602'\n",
    "print(text) # with emoji\n",
    "\n",
    "def deEmojify(text):\n",
    "    \n",
    "    regrex_pattern = re.compile(pattern = \"[\"\n",
    "        u\"\\U0001F600-\\U0001F64F\"  # emoticons\n",
    "        u\"\\U0001F300-\\U0001F5FF\"  # symbols & pictographs\n",
    "        u\"\\U0001F680-\\U0001F6FF\"  # transport & map symbols\n",
    "        u\"\\U0001F1E0-\\U0001F1FF\"  # flags (iOS)\n",
    "                          \n",
    "                           \"]+\", flags = re.UNICODE)\n",
    "    \n",
    "    \n",
    "    return regrex_pattern.sub(r'',text)\n",
    "\n",
    "print(deEmojify(text))\n",
    "\n",
    "def deEmojify(inputString):\n",
    "    return inputString.encode('ascii', 'ignore').decode('ascii')"
   ]
  },
  {
   "cell_type": "code",
   "execution_count": 9,
   "metadata": {},
   "outputs": [],
   "source": [
    "\n",
    "posts['Group Name']=posts['Group Name'].apply(deEmojify)\n",
    "posts['Group Name']=posts['Group Name'].apply(lambda i: i.replace('\"', ''))\n",
    "posts['Group Name']=posts['Group Name'].apply(lambda i: i.replace(',', ''))\n",
    "posts['Facebook Id'] = posts['Facebook Id'].astype(int)"
   ]
  },
  {
   "cell_type": "markdown",
   "metadata": {},
   "source": [
    " ## Political Party\n"
   ]
  },
  {
   "cell_type": "code",
   "execution_count": 10,
   "metadata": {
    "scrolled": true
   },
   "outputs": [],
   "source": [
    "def classify_by_party(row):\n",
    "    pro = ['para','por','for','with','support','con']\n",
    "    opp = ['contra','against','vs']   \n",
    "    republican = ['trump','pence','republican','republicans']\n",
    "    democrat = ['biden','harris','democrat','democrats','democratic']\n",
    "    name = row['Group Name'].lower()\n",
    "    \n",
    "    #Republican\n",
    "    if any(re.search(r'\\b' + word_item + r'\\b', name) for word_item in pro) and any(re.search(r'\\b' + party + r'\\b', name) for party in republican):\n",
    "        return 'Republican'\n",
    "    \n",
    "    #Democrat \n",
    "    elif any(re.search(r'\\b' + word_item + r'\\b', name) for word_item in opp) and any(re.search(r'\\b' + party + r'\\b', name) for party in republican): \n",
    "        return 'Democrat'\n",
    "    \n",
    "    #Democrat\n",
    "    elif any(re.search(r'\\b' + word_item + r'\\b', name)  for word_item in pro) and any(re.search(r'\\b' + party + r'\\b', name) for party in democrat):\n",
    "        return 'Democrat'\n",
    "    \n",
    "    #Republican\n",
    "    elif any(re.search(r'\\b' + word_item + r'\\b', name) for word_item in opp) and any(re.search(r'\\b' + party + r'\\b', name) for party in democrat):       \n",
    "        return 'Republican'\n",
    "    \n",
    "    elif any(re.search(r'\\b' + party + r'\\b', name) for party in democrat):\n",
    "        return 'Democrat'\n",
    "    elif any(re.search(r'\\b' + party + r'\\b', name) for party in republican):\n",
    "        return 'Republican'"
   ]
  },
  {
   "cell_type": "markdown",
   "metadata": {},
   "source": [
    "##  Classify posts  by party"
   ]
  },
  {
   "cell_type": "code",
   "execution_count": 11,
   "metadata": {},
   "outputs": [
    {
     "data": {
      "text/html": [
       "<div>\n",
       "<style scoped>\n",
       "    .dataframe tbody tr th:only-of-type {\n",
       "        vertical-align: middle;\n",
       "    }\n",
       "\n",
       "    .dataframe tbody tr th {\n",
       "        vertical-align: top;\n",
       "    }\n",
       "\n",
       "    .dataframe thead th {\n",
       "        text-align: right;\n",
       "    }\n",
       "</style>\n",
       "<table border=\"1\" class=\"dataframe\">\n",
       "  <thead>\n",
       "    <tr style=\"text-align: right;\">\n",
       "      <th></th>\n",
       "      <th>Group Name</th>\n",
       "      <th>User Name</th>\n",
       "      <th>Facebook Id</th>\n",
       "      <th>Likes at Posting</th>\n",
       "      <th>Created</th>\n",
       "      <th>Type</th>\n",
       "      <th>Likes</th>\n",
       "      <th>Comments</th>\n",
       "      <th>Shares</th>\n",
       "      <th>Love</th>\n",
       "      <th>...</th>\n",
       "      <th>Image Text</th>\n",
       "      <th>Link Text</th>\n",
       "      <th>Description</th>\n",
       "      <th>Sponsor Id</th>\n",
       "      <th>Sponsor Name</th>\n",
       "      <th>Total Interactions</th>\n",
       "      <th>Overperforming Score</th>\n",
       "      <th>MessageDescr</th>\n",
       "      <th>MessageOnly</th>\n",
       "      <th>party</th>\n",
       "    </tr>\n",
       "  </thead>\n",
       "  <tbody>\n",
       "  </tbody>\n",
       "</table>\n",
       "<p>0 rows × 34 columns</p>\n",
       "</div>"
      ],
      "text/plain": [
       "Empty DataFrame\n",
       "Columns: [Group Name, User Name, Facebook Id, Likes at Posting, Created, Type, Likes, Comments, Shares, Love, Wow, Haha, Sad, Angry, Care, Video Share Status, Post Views, Total Views, Total Views For All Crossposts, Video Length, URL, Message, Link, Final Link, Image Text, Link Text, Description, Sponsor Id, Sponsor Name, Total Interactions, Overperforming Score, MessageDescr, MessageOnly, party]\n",
       "Index: []\n",
       "\n",
       "[0 rows x 34 columns]"
      ]
     },
     "execution_count": 11,
     "metadata": {},
     "output_type": "execute_result"
    }
   ],
   "source": [
    "posts['party']=posts.apply(classify_by_party, axis=1)\n",
    "#verify that everything was classified \n",
    "posts[posts['party'].isna()]"
   ]
  },
  {
   "cell_type": "code",
   "execution_count": 12,
   "metadata": {},
   "outputs": [],
   "source": [
    "posts.to_csv('cscwDocs/parties/FBPagesGroupsData/FBPagesGroupsParty/FB_groups_posts_by_party.csv',index=False,na_rep=0)"
   ]
  },
  {
   "cell_type": "code",
   "execution_count": 13,
   "metadata": {},
   "outputs": [
    {
     "data": {
      "text/plain": [
       "Index(['Group Name', 'User Name', 'Facebook Id', 'Likes at Posting', 'Created',\n",
       "       'Type', 'Likes', 'Comments', 'Shares', 'Love', 'Wow', 'Haha', 'Sad',\n",
       "       'Angry', 'Care', 'Video Share Status', 'Post Views', 'Total Views',\n",
       "       'Total Views For All Crossposts', 'Video Length', 'URL', 'Message',\n",
       "       'Link', 'Final Link', 'Image Text', 'Link Text', 'Description',\n",
       "       'Sponsor Id', 'Sponsor Name', 'Total Interactions',\n",
       "       'Overperforming Score', 'MessageDescr', 'MessageOnly', 'party'],\n",
       "      dtype='object')"
      ]
     },
     "execution_count": 13,
     "metadata": {},
     "output_type": "execute_result"
    }
   ],
   "source": [
    "posts.columns"
   ]
  },
  {
   "cell_type": "markdown",
   "metadata": {},
   "source": [
    "## 3. Which groups are publishing the majority of the content"
   ]
  },
  {
   "cell_type": "code",
   "execution_count": 14,
   "metadata": {},
   "outputs": [
    {
     "data": {
      "text/html": [
       "<div>\n",
       "<style scoped>\n",
       "    .dataframe tbody tr th:only-of-type {\n",
       "        vertical-align: middle;\n",
       "    }\n",
       "\n",
       "    .dataframe tbody tr th {\n",
       "        vertical-align: top;\n",
       "    }\n",
       "\n",
       "    .dataframe thead th {\n",
       "        text-align: right;\n",
       "    }\n",
       "</style>\n",
       "<table border=\"1\" class=\"dataframe\">\n",
       "  <thead>\n",
       "    <tr style=\"text-align: right;\">\n",
       "      <th></th>\n",
       "      <th>Facebook Id</th>\n",
       "    </tr>\n",
       "    <tr>\n",
       "      <th>Group Name</th>\n",
       "      <th></th>\n",
       "    </tr>\n",
       "  </thead>\n",
       "  <tbody>\n",
       "    <tr>\n",
       "      <th>DONALD TRUMP PARA HISPANOS</th>\n",
       "      <td>9522</td>\n",
       "    </tr>\n",
       "    <tr>\n",
       "      <th>Latinos For Trump -California Group</th>\n",
       "      <td>9176</td>\n",
       "    </tr>\n",
       "    <tr>\n",
       "      <th>CARA - Cuban American Republican Alliance</th>\n",
       "      <td>4481</td>\n",
       "    </tr>\n",
       "    <tr>\n",
       "      <th>Latinos Against Donald Trump</th>\n",
       "      <td>4475</td>\n",
       "    </tr>\n",
       "    <tr>\n",
       "      <th>Latinos For Trump.</th>\n",
       "      <td>4157</td>\n",
       "    </tr>\n",
       "    <tr>\n",
       "      <th>...</th>\n",
       "      <td>...</td>\n",
       "    </tr>\n",
       "    <tr>\n",
       "      <th>Latinos for Trump - MAGA</th>\n",
       "      <td>1</td>\n",
       "    </tr>\n",
       "    <tr>\n",
       "      <th>Make California Great Again Inc. Latinos for Trump Glenn County</th>\n",
       "      <td>1</td>\n",
       "    </tr>\n",
       "    <tr>\n",
       "      <th>OK State Chapter-Republican Nat'l Hispanic Assembly</th>\n",
       "      <td>1</td>\n",
       "    </tr>\n",
       "    <tr>\n",
       "      <th>Somos Latinos Con Biden Broward</th>\n",
       "      <td>1</td>\n",
       "    </tr>\n",
       "    <tr>\n",
       "      <th>fuck trump \\nmovimiento latino encontra del racismo</th>\n",
       "      <td>1</td>\n",
       "    </tr>\n",
       "  </tbody>\n",
       "</table>\n",
       "<p>202 rows × 1 columns</p>\n",
       "</div>"
      ],
      "text/plain": [
       "                                                                 Facebook Id\n",
       "Group Name                                                                  \n",
       "DONALD TRUMP PARA HISPANOS                                              9522\n",
       "Latinos For Trump -California Group                                     9176\n",
       "CARA - Cuban American Republican Alliance                               4481\n",
       "Latinos Against Donald Trump                                            4475\n",
       "Latinos For Trump.                                                      4157\n",
       "...                                                                      ...\n",
       "Latinos for Trump - MAGA                                                   1\n",
       "Make California Great Again Inc. Latinos for Trump Glenn County            1\n",
       "OK State Chapter-Republican Nat'l Hispanic Assembly                        1\n",
       "Somos Latinos Con Biden Broward                                            1\n",
       "fuck trump \\nmovimiento latino encontra del racismo                        1\n",
       "\n",
       "[202 rows x 1 columns]"
      ]
     },
     "execution_count": 14,
     "metadata": {},
     "output_type": "execute_result"
    }
   ],
   "source": [
    "group = posts.groupby(['Group Name'])\n",
    "final_groups = group.agg({'Facebook Id':'count'}).sort_values(by='Facebook Id',ascending=False)\n",
    "final_groups"
   ]
  },
  {
   "cell_type": "markdown",
   "metadata": {},
   "source": [
    "## 4. Filter posts per topic"
   ]
  },
  {
   "cell_type": "code",
   "execution_count": 25,
   "metadata": {},
   "outputs": [],
   "source": [
    "#Topics\n",
    "economy = 'economy|economía|economia|welfare|taxes|unemployment|employment|job|minimum-wage|union|poverty|poor|homeless|stock|gdp'\n",
    "health_care = 'health care|salud|medico|médico|salud|doctor|medicaid|medicare|planned parenthood|insurance|injury|disability'\n",
    "coronavirus = 'coronavirus|covid|pandemia|vacuna|tos|fiebre|enfermo|pandemic|vaccine|fever|sick'\n",
    "crime = 'crime|crimen|pandilla|violento|vandalism|violence|crime|robbery|theft|gang'\n",
    "supreme_court = 'supreme court|suprema corte|juez|corte suprema|ruth bader ginsberg'\n",
    "climate_change = 'climate change|cambio climático|environment|recycle|pollution|litter|nature|climate change|global warming ",
    "'\n",
    "immigration = 'immigration|migration|inmigración|migración|immigracion|indocumentado|frontera|pared|ice|border'\n",
    "immigration2 = 'immigration|migration|inmigración|migración|immigracion|indocumentado|frontera|muro|ice|border|frontera'\n",
    "gun_policy = 'gun policy|gun policies|política de armas|guns rights|NRA|armas|arma|pistola|política de armas|armas|gun violence|shooting|2nd amendment|second amendment|concealed carry'\n",
    "foreign_policy ='foreign policy|política exterior|foreign policies|china|russia|united kingdom|england|mexico|canada|trade|embargo|ambassador|consulate|middle east|prime minister|war'\n",
    "abortion = 'aborto|abortion|aborto|feto|embarazada|planned parenthood|abortion|fetus|trimester|miscarriage|pregnancy'\n",
    "racism = 'racial inequality|etnic inqueality|racism|racismo|inequidad racial|inequidad étnica|crimen de odio|igualdad de raza y étnica|discriminación|asian|black|hate crime|racism|desigualdad|blm|all lives matter'\n",
    "\n",
    "\n",
    "pd.set_option('display.max_colwidth', 400)\n",
    "path = 'cscwDocs/parties/FBPagesGroupsData/FBPagesGroupsParty/Groups_party_content/'\n",
    "prefix = 'Topics_FB_Political_Posts_per_party'"
   ]
  },
  {
   "cell_type": "code",
   "execution_count": 26,
   "metadata": {},
   "outputs": [
    {
     "name": "stdout",
     "output_type": "stream",
     "text": [
      "economy (2353, 34)\n"
     ]
    }
   ],
   "source": [
    "posts_economy = posts.copy()\n",
    "posts_economy = posts[posts['MessageDescr'].str.lower().str.contains(economy   ,na = False)]\n",
    "print('economy', posts_economy.shape)\n",
    "posts_economy.to_csv(path + prefix + 'economy' + '.csv')"
   ]
  },
  {
   "cell_type": "code",
   "execution_count": 27,
   "metadata": {},
   "outputs": [
    {
     "name": "stdout",
     "output_type": "stream",
     "text": [
      "health_care (1034, 34)\n"
     ]
    }
   ],
   "source": [
    "topic='health_care'\n",
    "df = posts.copy()\n",
    "df = posts[posts['MessageDescr'].str.lower().str.contains(health_care ,na = False)]\n",
    "print(topic, df.shape)\n",
    "df.to_csv(path + prefix + topic + '.csv')"
   ]
  },
  {
   "cell_type": "code",
   "execution_count": 28,
   "metadata": {},
   "outputs": [
    {
     "name": "stdout",
     "output_type": "stream",
     "text": [
      "coronavirus (14001, 34)\n"
     ]
    }
   ],
   "source": [
    "topic='coronavirus'\n",
    "df = posts.copy()\n",
    "df = posts[posts['MessageDescr'].str.lower().str.contains(coronavirus ,na = False)]\n",
    "print(topic, df.shape)\n",
    "df.to_csv(path + prefix + topic + '.csv')"
   ]
  },
  {
   "cell_type": "code",
   "execution_count": 29,
   "metadata": {},
   "outputs": [
    {
     "name": "stdout",
     "output_type": "stream",
     "text": [
      "crime (1138, 34)\n"
     ]
    }
   ],
   "source": [
    "topic='crime'\n",
    "df = posts.copy()\n",
    "df = posts[posts['MessageDescr'].str.lower().str.contains(crime ,na = False)]\n",
    "print(topic, df.shape)\n",
    "df.to_csv(path + prefix + topic + '.csv')"
   ]
  },
  {
   "cell_type": "code",
   "execution_count": 30,
   "metadata": {},
   "outputs": [
    {
     "name": "stdout",
     "output_type": "stream",
     "text": [
      "supreme_court (1347, 34)\n"
     ]
    }
   ],
   "source": [
    "topic='supreme_court'\n",
    "df = posts.copy()\n",
    "df = posts[posts['MessageDescr'].str.lower().str.contains(supreme_court ,na = False)]\n",
    "print(topic, df.shape)\n",
    "df.to_csv(path + prefix + topic + '.csv')"
   ]
  },
  {
   "cell_type": "code",
   "execution_count": 31,
   "metadata": {},
   "outputs": [
    {
     "name": "stdout",
     "output_type": "stream",
     "text": [
      "climate_change (374, 34)\n"
     ]
    }
   ],
   "source": [
    "topic='climate_change'\n",
    "df = posts.copy()\n",
    "df = posts[posts['MessageDescr'].str.lower().str.contains(climate_change ,na = False)]\n",
    "print(topic, df.shape)\n",
    "df.to_csv(path + prefix + topic + '.csv')"
   ]
  },
  {
   "cell_type": "code",
   "execution_count": 32,
   "metadata": {},
   "outputs": [
    {
     "name": "stdout",
     "output_type": "stream",
     "text": [
      "immigration (8818, 34)\n"
     ]
    }
   ],
   "source": [
    "topic='immigration'\n",
    "df = posts.copy()\n",
    "df = posts[posts['MessageDescr'].str.lower().str.contains(immigration ,na = False)]\n",
    "print(topic, df.shape)\n",
    "df.to_csv(path + prefix + topic + '.csv')"
   ]
  },
  {
   "cell_type": "code",
   "execution_count": 33,
   "metadata": {},
   "outputs": [
    {
     "name": "stdout",
     "output_type": "stream",
     "text": [
      "immigration2 (8818, 34)\n"
     ]
    }
   ],
   "source": [
    "topic='immigration2'\n",
    "df = posts.copy()\n",
    "df = posts[posts['MessageDescr'].str.lower().str.contains(immigration ,na = False)]\n",
    "print(topic, df.shape)\n",
    "df.to_csv(path + prefix + topic + '.csv')"
   ]
  },
  {
   "cell_type": "code",
   "execution_count": 34,
   "metadata": {},
   "outputs": [
    {
     "name": "stdout",
     "output_type": "stream",
     "text": [
      "gun_policy (902, 34)\n"
     ]
    }
   ],
   "source": [
    "topic='gun_policy'\n",
    "df = posts.copy()\n",
    "df = posts[posts['MessageDescr'].str.lower().str.contains(gun_policy ,na = False)]\n",
    "print(topic, df.shape)\n",
    "df.to_csv(path + prefix + topic + '.csv')"
   ]
  },
  {
   "cell_type": "code",
   "execution_count": 35,
   "metadata": {},
   "outputs": [
    {
     "name": "stdout",
     "output_type": "stream",
     "text": [
      "foreign_policy (5753, 34)\n"
     ]
    }
   ],
   "source": [
    "topic='foreign_policy'\n",
    "df = posts.copy()\n",
    "df = posts[posts['MessageDescr'].str.lower().str.contains(foreign_policy ,na = False)]\n",
    "print(topic, df.shape)\n",
    "df.to_csv(path + prefix + topic + '.csv')"
   ]
  },
  {
   "cell_type": "code",
   "execution_count": 36,
   "metadata": {},
   "outputs": [
    {
     "name": "stdout",
     "output_type": "stream",
     "text": [
      "abortion (514, 34)\n"
     ]
    }
   ],
   "source": [
    "topic='abortion'\n",
    "df = posts.copy()\n",
    "df = posts[posts['MessageDescr'].str.lower().str.contains(abortion ,na = False)]\n",
    "print(topic, df.shape)\n",
    "df.to_csv(path + prefix + topic + '.csv')"
   ]
  },
  {
   "cell_type": "code",
   "execution_count": 40,
   "metadata": {},
   "outputs": [
    {
     "name": "stdout",
     "output_type": "stream",
     "text": [
      "racism (3518, 34)\n"
     ]
    }
   ],
   "source": [
    "topic='racism'\n",
    "df = posts.copy()\n",
    "df = posts[posts['MessageDescr'].str.lower().str.contains(racism ,na = False)]\n",
    "print(topic, df.shape)\n",
    "df.to_csv(path + prefix + topic + '.csv')"
   ]
  },
  {
   "cell_type": "code",
   "execution_count": 41,
   "metadata": {},
   "outputs": [
    {
     "name": "stdout",
     "output_type": "stream",
     "text": [
      "immigration2 (8726, 34)\n"
     ]
    }
   ],
   "source": [
    "topic='immigration2'\n",
    "\n",
    "df = posts.copy()\n",
    "df = posts[posts['MessageDescr'].str.lower().str.contains(immigration2 ,na = False)]\n",
    "print(topic, df.shape)"
   ]
  },
  {
   "cell_type": "code",
   "execution_count": 42,
   "metadata": {},
   "outputs": [
    {
     "data": {
      "text/plain": [
       "(873, 34)"
      ]
     },
     "execution_count": 42,
     "metadata": {},
     "output_type": "execute_result"
    }
   ],
   "source": [
    "sample = df.sample(round(df.shape[0] * 0.10))\n",
    "sample.shape"
   ]
  },
  {
   "cell_type": "code",
   "execution_count": 46,
   "metadata": {},
   "outputs": [
    {
     "name": "stdout",
     "output_type": "stream",
     "text": [
      "immigration2 (8726, 34) (873, 34)\n"
     ]
    }
   ],
   "source": [
    "print(topic, df.shape, sample.shape)\n",
    "name='immigration_random'\n",
    "sample.to_csv(path + prefix + name + '.csv')"
   ]
  },
  {
   "cell_type": "code",
   "execution_count": null,
   "metadata": {},
   "outputs": [],
   "source": []
  },
  {
   "cell_type": "code",
   "execution_count": null,
   "metadata": {},
   "outputs": [],
   "source": []
  }
 ],
 "metadata": {
  "kernelspec": {
   "display_name": "Latinx2020env",
   "language": "python",
   "name": "latinx2020env"
  },
  "language_info": {
   "codemirror_mode": {
    "name": "ipython",
    "version": 3
   },
   "file_extension": ".py",
   "mimetype": "text/x-python",
   "name": "python",
   "nbconvert_exporter": "python",
   "pygments_lexer": "ipython3",
   "version": "3.8.5"
  }
 },
 "nbformat": 4,
 "nbformat_minor": 4
}
